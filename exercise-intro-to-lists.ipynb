{
 "cells": [
  {
   "cell_type": "markdown",
   "id": "478dd7c0",
   "metadata": {
    "papermill": {
     "duration": 0.007585,
     "end_time": "2023-01-19T23:49:22.031837",
     "exception": false,
     "start_time": "2023-01-19T23:49:22.024252",
     "status": "completed"
    },
    "tags": []
   },
   "source": [
    "**This notebook is an exercise in the [Intro to Programming](https://www.kaggle.com/learn/intro-to-programming) course.  You can reference the tutorial at [this link](https://www.kaggle.com/alexisbcook/intro-to-lists).**\n",
    "\n",
    "---\n"
   ]
  },
  {
   "cell_type": "markdown",
   "id": "38b410df",
   "metadata": {
    "papermill": {
     "duration": 0.005268,
     "end_time": "2023-01-19T23:49:22.043317",
     "exception": false,
     "start_time": "2023-01-19T23:49:22.038049",
     "status": "completed"
    },
    "tags": []
   },
   "source": [
    "In the tutorial, you learned how to define and modify Python lists.  In this exercise, you will use your new knowledge to solve several problems.\n",
    "\n",
    "# Set up the notebook\n",
    "\n",
    "Run the next code cell without changes to set up the notebook."
   ]
  },
  {
   "cell_type": "code",
   "execution_count": 1,
   "id": "e7391971",
   "metadata": {
    "execution": {
     "iopub.execute_input": "2023-01-19T23:49:22.057587Z",
     "iopub.status.busy": "2023-01-19T23:49:22.056741Z",
     "iopub.status.idle": "2023-01-19T23:49:22.114099Z",
     "shell.execute_reply": "2023-01-19T23:49:22.112762Z"
    },
    "papermill": {
     "duration": 0.070193,
     "end_time": "2023-01-19T23:49:22.119241",
     "exception": false,
     "start_time": "2023-01-19T23:49:22.049048",
     "status": "completed"
    },
    "tags": []
   },
   "outputs": [
    {
     "name": "stdout",
     "output_type": "stream",
     "text": [
      "Setup complete.\n"
     ]
    }
   ],
   "source": [
    "from learntools.core import binder\n",
    "binder.bind(globals())\n",
    "from learntools.intro_to_programming.ex5 import *\n",
    "print('Setup complete.')"
   ]
  },
  {
   "cell_type": "markdown",
   "id": "a36cfd15",
   "metadata": {
    "papermill": {
     "duration": 0.005429,
     "end_time": "2023-01-19T23:49:22.130996",
     "exception": false,
     "start_time": "2023-01-19T23:49:22.125567",
     "status": "completed"
    },
    "tags": []
   },
   "source": [
    "# Question 1\n",
    "\n",
    "You own a restaurant with five food dishes, organized in the Python list `menu` below.  One day, you decide to:\n",
    "- remove bean soup (`'bean soup'`) from the menu, and\n",
    "- add roasted beet salad (`'roasted beet salad'`) to the menu.\n",
    "\n",
    "Implement this change to the list below.  While completing this task, \n",
    "- do not change the line that creates the `menu` list.  \n",
    "- your answer should use `.remove()` and `.append()`.  "
   ]
  },
  {
   "cell_type": "code",
   "execution_count": 2,
   "id": "3cf68022",
   "metadata": {
    "execution": {
     "iopub.execute_input": "2023-01-19T23:49:22.144330Z",
     "iopub.status.busy": "2023-01-19T23:49:22.143853Z",
     "iopub.status.idle": "2023-01-19T23:49:22.156702Z",
     "shell.execute_reply": "2023-01-19T23:49:22.155474Z"
    },
    "papermill": {
     "duration": 0.022497,
     "end_time": "2023-01-19T23:49:22.159177",
     "exception": false,
     "start_time": "2023-01-19T23:49:22.136680",
     "status": "completed"
    },
    "tags": []
   },
   "outputs": [
    {
     "data": {
      "application/javascript": [
       "parent.postMessage({\"jupyterEvent\": \"custom.exercise_interaction\", \"data\": {\"outcomeType\": 2, \"failureMessage\": \"These item(s) should be removed from `menu`: ['bean soup']\", \"interactionType\": 1, \"questionType\": 2, \"questionId\": \"1_FoodMenu\", \"learnToolsVersion\": \"0.3.4\", \"valueTowardsCompletion\": 0.0, \"exceptionClass\": \"\", \"trace\": \"\"}}, \"*\")"
      ],
      "text/plain": [
       "<IPython.core.display.Javascript object>"
      ]
     },
     "metadata": {},
     "output_type": "display_data"
    },
    {
     "data": {
      "text/markdown": [
       "<span style=\"color:#cc3333\">Incorrect:</span> These item(s) should be removed from `menu`: ['bean soup']"
      ],
      "text/plain": [
       "Incorrect: These item(s) should be removed from `menu`: ['bean soup']"
      ]
     },
     "metadata": {},
     "output_type": "display_data"
    }
   ],
   "source": [
    "# Do not change: Initial menu for your restaurant\n",
    "menu = ['stewed meat with onions', 'bean soup', 'risotto with trout and shrimp',\n",
    "       'fish soup with cream and onion', 'gyro']\n",
    "\n",
    "# TODO: remove 'bean soup', and add 'roasted beet salad' to the end of the menu\n",
    "____\n",
    "\n",
    "# Do not change: Check your answer\n",
    "q1.check()"
   ]
  },
  {
   "cell_type": "code",
   "execution_count": 3,
   "id": "a2f1b555",
   "metadata": {
    "execution": {
     "iopub.execute_input": "2023-01-19T23:49:22.173990Z",
     "iopub.status.busy": "2023-01-19T23:49:22.173198Z",
     "iopub.status.idle": "2023-01-19T23:49:22.177804Z",
     "shell.execute_reply": "2023-01-19T23:49:22.176484Z"
    },
    "papermill": {
     "duration": 0.014786,
     "end_time": "2023-01-19T23:49:22.180076",
     "exception": false,
     "start_time": "2023-01-19T23:49:22.165290",
     "status": "completed"
    },
    "tags": []
   },
   "outputs": [],
   "source": [
    "# Uncomment to see a hint\n",
    "#q1.hint()\n",
    "\n",
    "# Uncomment to see the solution\n",
    "#q1.solution()"
   ]
  },
  {
   "cell_type": "markdown",
   "id": "ff10b842",
   "metadata": {
    "papermill": {
     "duration": 0.005857,
     "end_time": "2023-01-19T23:49:22.192485",
     "exception": false,
     "start_time": "2023-01-19T23:49:22.186628",
     "status": "completed"
    },
    "tags": []
   },
   "source": [
    "# Question 2\n",
    "\n",
    "The list `num_customers` contains the number of customers who came into your restaurant every day over the last month (which lasted thirty days).  Fill in values for each of the following:\n",
    "- `avg_first_seven` - average number of customers who visited in the first seven days\n",
    "- `avg_last_seven` - average number of customers who visited in the last seven days\n",
    "- `max_month` - number of customers on the day that got the most customers in the last month\n",
    "- `min_month` - number of customers on the day that got the least customers in the last month\n",
    "\n",
    "Answer this question by writing code.  For instance, if you have to find the minimum value in a list, use `min()` instead of scanning for the smallest value and directly filling in a number."
   ]
  },
  {
   "cell_type": "code",
   "execution_count": 4,
   "id": "0e716982",
   "metadata": {
    "execution": {
     "iopub.execute_input": "2023-01-19T23:49:22.208169Z",
     "iopub.status.busy": "2023-01-19T23:49:22.207703Z",
     "iopub.status.idle": "2023-01-19T23:49:22.219440Z",
     "shell.execute_reply": "2023-01-19T23:49:22.218213Z"
    },
    "papermill": {
     "duration": 0.023185,
     "end_time": "2023-01-19T23:49:22.221766",
     "exception": false,
     "start_time": "2023-01-19T23:49:22.198581",
     "status": "completed"
    },
    "tags": []
   },
   "outputs": [
    {
     "data": {
      "application/javascript": [
       "parent.postMessage({\"jupyterEvent\": \"custom.exercise_interaction\", \"data\": {\"outcomeType\": 4, \"interactionType\": 1, \"questionType\": 1, \"questionId\": \"2_NumCustomers\", \"learnToolsVersion\": \"0.3.4\", \"valueTowardsCompletion\": 0.0, \"failureMessage\": \"\", \"exceptionClass\": \"\", \"trace\": \"\"}}, \"*\")"
      ],
      "text/plain": [
       "<IPython.core.display.Javascript object>"
      ]
     },
     "metadata": {},
     "output_type": "display_data"
    },
    {
     "data": {
      "text/markdown": [
       "<span style=\"color:#ccaa33\">Check:</span> When you've updated the starter code, `check()` will tell you whether your code is correct. You need to update the code that creates variables `avg_first_seven`, `avg_last_seven`, `max_month`, `min_month`"
      ],
      "text/plain": [
       "Check: When you've updated the starter code, `check()` will tell you whether your code is correct. You need to update the code that creates variables `avg_first_seven`, `avg_last_seven`, `max_month`, `min_month`"
      ]
     },
     "metadata": {},
     "output_type": "display_data"
    }
   ],
   "source": [
    "# Do not change: Number of customers each day for the last month\n",
    "num_customers = [137, 147, 135, 128, 170, 174, 165, 146, 126, 159,\n",
    "                 141, 148, 132, 147, 168, 153, 170, 161, 148, 152,\n",
    "                 141, 151, 131, 149, 164, 163, 143, 143, 166, 171]\n",
    "\n",
    "# TODO: Fill in values for the variables below\n",
    "avg_first_seven = ____ \n",
    "avg_last_seven = ____ \n",
    "max_month = ____\n",
    "min_month = ____\n",
    "\n",
    "# Do not change: Check your answer\n",
    "q2.check()"
   ]
  },
  {
   "cell_type": "code",
   "execution_count": 5,
   "id": "65e9dee1",
   "metadata": {
    "execution": {
     "iopub.execute_input": "2023-01-19T23:49:22.237475Z",
     "iopub.status.busy": "2023-01-19T23:49:22.237044Z",
     "iopub.status.idle": "2023-01-19T23:49:22.242138Z",
     "shell.execute_reply": "2023-01-19T23:49:22.240762Z"
    },
    "papermill": {
     "duration": 0.015789,
     "end_time": "2023-01-19T23:49:22.244388",
     "exception": false,
     "start_time": "2023-01-19T23:49:22.228599",
     "status": "completed"
    },
    "tags": []
   },
   "outputs": [],
   "source": [
    "# Uncomment to see a hint\n",
    "#q2.hint()\n",
    "\n",
    "# Uncomment to see the solution\n",
    "#q2.solution()"
   ]
  },
  {
   "cell_type": "markdown",
   "id": "d0e9c776",
   "metadata": {
    "papermill": {
     "duration": 0.006127,
     "end_time": "2023-01-19T23:49:22.257499",
     "exception": false,
     "start_time": "2023-01-19T23:49:22.251372",
     "status": "completed"
    },
    "tags": []
   },
   "source": [
    "# Question 3\n",
    "\n",
    "In the tutorial, we gave an example of a Python string with information that was better as a list."
   ]
  },
  {
   "cell_type": "code",
   "execution_count": 6,
   "id": "2e9794af",
   "metadata": {
    "execution": {
     "iopub.execute_input": "2023-01-19T23:49:22.272338Z",
     "iopub.status.busy": "2023-01-19T23:49:22.271834Z",
     "iopub.status.idle": "2023-01-19T23:49:22.277751Z",
     "shell.execute_reply": "2023-01-19T23:49:22.276520Z"
    },
    "papermill": {
     "duration": 0.016347,
     "end_time": "2023-01-19T23:49:22.280191",
     "exception": false,
     "start_time": "2023-01-19T23:49:22.263844",
     "status": "completed"
    },
    "tags": []
   },
   "outputs": [],
   "source": [
    "flowers = \"pink primrose,hard-leaved pocket orchid,canterbury bells,sweet pea,english marigold,tiger lily,moon orchid,bird of paradise,monkshood,globe thistle\""
   ]
  },
  {
   "cell_type": "markdown",
   "id": "5a18254a",
   "metadata": {
    "papermill": {
     "duration": 0.006133,
     "end_time": "2023-01-19T23:49:22.292897",
     "exception": false,
     "start_time": "2023-01-19T23:49:22.286764",
     "status": "completed"
    },
    "tags": []
   },
   "source": [
    "You can actually use Python to quickly turn this string into a list with `.split()`.  In the parentheses, we need to provide the character should be used to mark the end of one list item and the beginning of another, and enclose it in quotation marks.  In this case, that character is a comma."
   ]
  },
  {
   "cell_type": "code",
   "execution_count": 7,
   "id": "997f32db",
   "metadata": {
    "execution": {
     "iopub.execute_input": "2023-01-19T23:49:22.307565Z",
     "iopub.status.busy": "2023-01-19T23:49:22.307117Z",
     "iopub.status.idle": "2023-01-19T23:49:22.313745Z",
     "shell.execute_reply": "2023-01-19T23:49:22.312426Z"
    },
    "papermill": {
     "duration": 0.017084,
     "end_time": "2023-01-19T23:49:22.316424",
     "exception": false,
     "start_time": "2023-01-19T23:49:22.299340",
     "status": "completed"
    },
    "tags": []
   },
   "outputs": [
    {
     "name": "stdout",
     "output_type": "stream",
     "text": [
      "['pink primrose', 'hard-leaved pocket orchid', 'canterbury bells', 'sweet pea', 'english marigold', 'tiger lily', 'moon orchid', 'bird of paradise', 'monkshood', 'globe thistle']\n"
     ]
    }
   ],
   "source": [
    " print(flowers.split(\",\"))"
   ]
  },
  {
   "cell_type": "markdown",
   "id": "b479b41f",
   "metadata": {
    "papermill": {
     "duration": 0.006304,
     "end_time": "2023-01-19T23:49:22.329310",
     "exception": false,
     "start_time": "2023-01-19T23:49:22.323006",
     "status": "completed"
    },
    "tags": []
   },
   "source": [
    "Now it is your turn to try this out!  Create two Python lists:\n",
    "- `letters` should be a Python list where each entry is an uppercase letter of the English alphabet.  For instance, the first two entries should be `\"A\"` and `\"B\"`, and the final two entries should be `\"Y\"` and `\"Z\"`.  Use the string `alphabet` to create this list.\n",
    "- `address` should be a Python list where each row in `address` is a different item in the list.  Currently, each row in `address` is separated by a comma. "
   ]
  },
  {
   "cell_type": "code",
   "execution_count": 8,
   "id": "a882ea84",
   "metadata": {
    "execution": {
     "iopub.execute_input": "2023-01-19T23:49:22.344863Z",
     "iopub.status.busy": "2023-01-19T23:49:22.343766Z",
     "iopub.status.idle": "2023-01-19T23:49:22.355762Z",
     "shell.execute_reply": "2023-01-19T23:49:22.353393Z"
    },
    "papermill": {
     "duration": 0.022606,
     "end_time": "2023-01-19T23:49:22.358366",
     "exception": false,
     "start_time": "2023-01-19T23:49:22.335760",
     "status": "completed"
    },
    "tags": []
   },
   "outputs": [
    {
     "data": {
      "application/javascript": [
       "parent.postMessage({\"jupyterEvent\": \"custom.exercise_interaction\", \"data\": {\"outcomeType\": 4, \"interactionType\": 1, \"questionType\": 1, \"questionId\": \"3_SplitString\", \"learnToolsVersion\": \"0.3.4\", \"valueTowardsCompletion\": 0.0, \"failureMessage\": \"\", \"exceptionClass\": \"\", \"trace\": \"\"}}, \"*\")"
      ],
      "text/plain": [
       "<IPython.core.display.Javascript object>"
      ]
     },
     "metadata": {},
     "output_type": "display_data"
    },
    {
     "data": {
      "text/markdown": [
       "<span style=\"color:#ccaa33\">Check:</span> When you've updated the starter code, `check()` will tell you whether your code is correct. You need to update the code that creates variables `letters`, `formatted_address`"
      ],
      "text/plain": [
       "Check: When you've updated the starter code, `check()` will tell you whether your code is correct. You need to update the code that creates variables `letters`, `formatted_address`"
      ]
     },
     "metadata": {},
     "output_type": "display_data"
    }
   ],
   "source": [
    "# DO not change: Define two Python strings\n",
    "alphabet = \"A.B.C.D.E.F.G.H.I.J.K.L.M.N.O.P.Q.R.S.T.U.V.W.X.Y.Z\"\n",
    "address = \"Mr. H. Potter,The cupboard under the Stairs,4 Privet Drive,Little Whinging,Surrey\"\n",
    "\n",
    "# TODO: Convert strings into Python lists\n",
    "letters = ____\n",
    "formatted_address = ____\n",
    "\n",
    "# Do not change: Check your answer\n",
    "q3.check()"
   ]
  },
  {
   "cell_type": "code",
   "execution_count": 9,
   "id": "2a389c6f",
   "metadata": {
    "execution": {
     "iopub.execute_input": "2023-01-19T23:49:22.375347Z",
     "iopub.status.busy": "2023-01-19T23:49:22.374893Z",
     "iopub.status.idle": "2023-01-19T23:49:22.378869Z",
     "shell.execute_reply": "2023-01-19T23:49:22.378018Z"
    },
    "papermill": {
     "duration": 0.015236,
     "end_time": "2023-01-19T23:49:22.381075",
     "exception": false,
     "start_time": "2023-01-19T23:49:22.365839",
     "status": "completed"
    },
    "tags": []
   },
   "outputs": [],
   "source": [
    "# Uncomment to see a hint\n",
    "#q3.hint()\n",
    "\n",
    "# Uncomment to see the solution\n",
    "#q3.solution()"
   ]
  },
  {
   "cell_type": "markdown",
   "id": "f4ce8dd3",
   "metadata": {
    "papermill": {
     "duration": 0.006628,
     "end_time": "2023-01-19T23:49:22.394926",
     "exception": false,
     "start_time": "2023-01-19T23:49:22.388298",
     "status": "completed"
    },
    "tags": []
   },
   "source": [
    "# Question 4\n",
    "\n",
    "In the Python course, you'll learn all about **list comprehensions**, which allow you to create a list based on the values in another list.  In this question, you'll get a brief preview of how they work.\n",
    "\n",
    "Say we're working with the list below."
   ]
  },
  {
   "cell_type": "code",
   "execution_count": 10,
   "id": "8a09856c",
   "metadata": {
    "execution": {
     "iopub.execute_input": "2023-01-19T23:49:22.411226Z",
     "iopub.status.busy": "2023-01-19T23:49:22.410044Z",
     "iopub.status.idle": "2023-01-19T23:49:22.415388Z",
     "shell.execute_reply": "2023-01-19T23:49:22.414362Z"
    },
    "papermill": {
     "duration": 0.015918,
     "end_time": "2023-01-19T23:49:22.417758",
     "exception": false,
     "start_time": "2023-01-19T23:49:22.401840",
     "status": "completed"
    },
    "tags": []
   },
   "outputs": [],
   "source": [
    "test_ratings = [1, 2, 3, 4, 5]"
   ]
  },
  {
   "cell_type": "markdown",
   "id": "7bc0c59a",
   "metadata": {
    "papermill": {
     "duration": 0.006838,
     "end_time": "2023-01-19T23:49:22.431640",
     "exception": false,
     "start_time": "2023-01-19T23:49:22.424802",
     "status": "completed"
    },
    "tags": []
   },
   "source": [
    "Then we can use this list (`test_ratings`) to create a new list (`test_liked`) where each item has been turned into a boolean, depending on whether or not the item is greater than or equal to four."
   ]
  },
  {
   "cell_type": "code",
   "execution_count": 11,
   "id": "3df335e6",
   "metadata": {
    "execution": {
     "iopub.execute_input": "2023-01-19T23:49:22.447872Z",
     "iopub.status.busy": "2023-01-19T23:49:22.447415Z",
     "iopub.status.idle": "2023-01-19T23:49:22.454205Z",
     "shell.execute_reply": "2023-01-19T23:49:22.452766Z"
    },
    "papermill": {
     "duration": 0.017824,
     "end_time": "2023-01-19T23:49:22.456891",
     "exception": false,
     "start_time": "2023-01-19T23:49:22.439067",
     "status": "completed"
    },
    "tags": []
   },
   "outputs": [
    {
     "name": "stdout",
     "output_type": "stream",
     "text": [
      "[False, False, False, True, True]\n"
     ]
    }
   ],
   "source": [
    "test_liked = [i>=4 for i in test_ratings]\n",
    "print(test_liked)"
   ]
  },
  {
   "cell_type": "markdown",
   "id": "e286cb0a",
   "metadata": {
    "papermill": {
     "duration": 0.006809,
     "end_time": "2023-01-19T23:49:22.471783",
     "exception": false,
     "start_time": "2023-01-19T23:49:22.464974",
     "status": "completed"
    },
    "tags": []
   },
   "source": [
    "In this question, you'll use this list comprehension to define a function `percentage_liked()` that takes one argument as input:\n",
    "- `ratings`: list of ratings that people gave to a movie, where each rating is a number between 1-5, inclusive\n",
    "\n",
    "We say someone liked the movie, if they gave a rating of either 4 or 5.  Your function should return the percentage of people who liked the movie.\n",
    "\n",
    "For instance, if we supply a value of `[1, 2, 3, 4, 5, 4, 5, 1]`, then 50% (4/8) of the people liked the movie, and the function should return `0.5`.\n",
    "\n",
    "Part of the function has already been completed for you.  You need only use `list_liked` to calculate `percentage_liked`."
   ]
  },
  {
   "cell_type": "code",
   "execution_count": 12,
   "id": "012af089",
   "metadata": {
    "execution": {
     "iopub.execute_input": "2023-01-19T23:49:22.488929Z",
     "iopub.status.busy": "2023-01-19T23:49:22.487760Z",
     "iopub.status.idle": "2023-01-19T23:49:22.499566Z",
     "shell.execute_reply": "2023-01-19T23:49:22.498668Z"
    },
    "papermill": {
     "duration": 0.02231,
     "end_time": "2023-01-19T23:49:22.501622",
     "exception": false,
     "start_time": "2023-01-19T23:49:22.479312",
     "status": "completed"
    },
    "tags": []
   },
   "outputs": [
    {
     "data": {
      "application/javascript": [
       "parent.postMessage({\"jupyterEvent\": \"custom.exercise_interaction\", \"data\": {\"outcomeType\": 2, \"failureMessage\": \"Expected return value of `0.5` given `ratings=[1, 2, 3, 4, 5, 4, 5, 1]`, but got `<learntools.core.constants.PlaceholderValue object at 0x7f8669561390>` instead.\", \"interactionType\": 1, \"questionType\": 2, \"questionId\": \"4_PercentageLiked\", \"learnToolsVersion\": \"0.3.4\", \"valueTowardsCompletion\": 0.0, \"exceptionClass\": \"\", \"trace\": \"\"}}, \"*\")"
      ],
      "text/plain": [
       "<IPython.core.display.Javascript object>"
      ]
     },
     "metadata": {},
     "output_type": "display_data"
    },
    {
     "data": {
      "text/markdown": [
       "<span style=\"color:#cc3333\">Incorrect:</span> Expected return value of `0.5` given `ratings=[1, 2, 3, 4, 5, 4, 5, 1]`, but got `<learntools.core.constants.PlaceholderValue object at 0x7f8669561390>` instead."
      ],
      "text/plain": [
       "Incorrect: Expected return value of `0.5` given `ratings=[1, 2, 3, 4, 5, 4, 5, 1]`, but got `<learntools.core.constants.PlaceholderValue object at 0x7f8669561390>` instead."
      ]
     },
     "metadata": {},
     "output_type": "display_data"
    }
   ],
   "source": [
    "\n",
    "def percentage_liked(ratings):\n",
    "    list_liked = [i>=4 for i in ratings]\n",
    "    # TODO: Complete the function\n",
    "    percentage_liked = ____\n",
    "    return percentage_liked\n",
    "\n",
    "# Do not change: should return 0.5\n",
    "percentage_liked([1, 2, 3, 4, 5, 4, 5, 1])\n",
    "\n",
    "# Do not change: Check your answer\n",
    "q4.check()"
   ]
  },
  {
   "cell_type": "code",
   "execution_count": 13,
   "id": "41ec090b",
   "metadata": {
    "execution": {
     "iopub.execute_input": "2023-01-19T23:49:22.518882Z",
     "iopub.status.busy": "2023-01-19T23:49:22.518140Z",
     "iopub.status.idle": "2023-01-19T23:49:22.522644Z",
     "shell.execute_reply": "2023-01-19T23:49:22.521388Z"
    },
    "papermill": {
     "duration": 0.01609,
     "end_time": "2023-01-19T23:49:22.525067",
     "exception": false,
     "start_time": "2023-01-19T23:49:22.508977",
     "status": "completed"
    },
    "tags": []
   },
   "outputs": [],
   "source": [
    "# Uncomment to see a hint\n",
    "#q4.hint()\n",
    "\n",
    "# Uncomment to see the solution\n",
    "#q4.solution()"
   ]
  },
  {
   "cell_type": "markdown",
   "id": "973645fb",
   "metadata": {
    "papermill": {
     "duration": 0.007472,
     "end_time": "2023-01-19T23:49:22.540006",
     "exception": false,
     "start_time": "2023-01-19T23:49:22.532534",
     "status": "completed"
    },
    "tags": []
   },
   "source": [
    "# 🌶️ Question 5\n",
    " \n",
    "Say you're doing analytics for a website.  You need to write a function that returns the percentage growth in the total number of users relative to a specified number of years ago.\n",
    "\n",
    "Your function `percentage_growth()` should take two arguments as input:\n",
    "- `num_users` = Python list with the total number of users each year.  So `num_users[0]` is the total number of users in the first year, `num_users[1]` is the total number of users in the second year, and so on.  The final entry in the list gives the total number of users in the most recently completed year.\n",
    "- `yrs_ago` = number of years to go back in time when calculating the growth percentage\n",
    "\n",
    "For instance, say `num_users = [920344, 1043553, 1204334, 1458996, 1503323, 1593432, 1623463, 1843064, 1930992, 2001078]`.\n",
    "- if `yrs_ago = 1`, we want the function to return a value of about `0.036`. This corresponds to a percentage growth of approximately 3.6%, calculated as (2001078 - 1930992)/1930992.\n",
    "- if `years_ago = 7`, we would want to return approximately `0.66`.  This corresponds to a percentage growth of approximately 66%, calculated as (2001078 - 1204334)/1204334.\n",
    "\n",
    "Your coworker sent you a draft of a function, but it doesn't seem to be doing the correct calculation.  Can you figure out what has gone wrong and make the needed changes?"
   ]
  },
  {
   "cell_type": "code",
   "execution_count": 14,
   "id": "55d0293c",
   "metadata": {
    "execution": {
     "iopub.execute_input": "2023-01-19T23:49:22.557813Z",
     "iopub.status.busy": "2023-01-19T23:49:22.557236Z",
     "iopub.status.idle": "2023-01-19T23:49:22.570968Z",
     "shell.execute_reply": "2023-01-19T23:49:22.569294Z"
    },
    "papermill": {
     "duration": 0.02607,
     "end_time": "2023-01-19T23:49:22.573484",
     "exception": false,
     "start_time": "2023-01-19T23:49:22.547414",
     "status": "completed"
    },
    "tags": []
   },
   "outputs": [
    {
     "name": "stdout",
     "output_type": "stream",
     "text": [
      "0.0\n",
      "0.2807272117129434\n"
     ]
    },
    {
     "data": {
      "application/javascript": [
       "parent.postMessage({\"jupyterEvent\": \"custom.exercise_interaction\", \"data\": {\"outcomeType\": 2, \"failureMessage\": \"Expected return value of `0.03629533421163837` given `num_users=[920344, 1043553, 1204334, 1458996, 1503323, 1593432, 1623463, 1843064, 1930992, 2001078]`, `yrs_ago=1`, but got `0.0` instead.\", \"interactionType\": 1, \"questionType\": 2, \"questionId\": \"5_WebsiteAnalytics\", \"learnToolsVersion\": \"0.3.4\", \"valueTowardsCompletion\": 0.0, \"exceptionClass\": \"\", \"trace\": \"\"}}, \"*\")"
      ],
      "text/plain": [
       "<IPython.core.display.Javascript object>"
      ]
     },
     "metadata": {},
     "output_type": "display_data"
    },
    {
     "data": {
      "text/markdown": [
       "<span style=\"color:#cc3333\">Incorrect:</span> Expected return value of `0.03629533421163837` given `num_users=[920344, 1043553, 1204334, 1458996, 1503323, 1593432, 1623463, 1843064, 1930992, 2001078]`, `yrs_ago=1`, but got `0.0` instead."
      ],
      "text/plain": [
       "Incorrect: Expected return value of `0.03629533421163837` given `num_users=[920344, 1043553, 1204334, 1458996, 1503323, 1593432, 1623463, 1843064, 1930992, 2001078]`, `yrs_ago=1`, but got `0.0` instead."
      ]
     },
     "metadata": {},
     "output_type": "display_data"
    }
   ],
   "source": [
    "# TODO: Edit the function\n",
    "def percentage_growth(num_users, yrs_ago):\n",
    "    growth = (num_users[len(num_users)-1] - num_users[len(num_users)-yrs_ago])/num_users[len(num_users)-2]\n",
    "    return growth\n",
    "\n",
    "# Do not change: Variable for calculating some test examples\n",
    "num_users_test = [920344, 1043553, 1204334, 1458996, 1503323, 1593432, 1623463, 1843064, 1930992, 2001078]\n",
    "\n",
    "# Do not change: Should return .036\n",
    "print(percentage_growth(num_users_test, 1))\n",
    "\n",
    "# Do not change: Should return 0.66\n",
    "print(percentage_growth(num_users_test, 7))\n",
    "\n",
    "# Do not change: Check your answer\n",
    "q5.check()"
   ]
  },
  {
   "cell_type": "code",
   "execution_count": 15,
   "id": "3c1d2e5c",
   "metadata": {
    "execution": {
     "iopub.execute_input": "2023-01-19T23:49:22.591298Z",
     "iopub.status.busy": "2023-01-19T23:49:22.590790Z",
     "iopub.status.idle": "2023-01-19T23:49:22.596307Z",
     "shell.execute_reply": "2023-01-19T23:49:22.594832Z"
    },
    "papermill": {
     "duration": 0.017341,
     "end_time": "2023-01-19T23:49:22.598814",
     "exception": false,
     "start_time": "2023-01-19T23:49:22.581473",
     "status": "completed"
    },
    "tags": []
   },
   "outputs": [],
   "source": [
    "# Uncomment to see a hint\n",
    "#q5.hint()\n",
    "\n",
    "# Uncomment to see the solution\n",
    "#q5.solution()"
   ]
  },
  {
   "cell_type": "markdown",
   "id": "5702d780",
   "metadata": {
    "papermill": {
     "duration": 0.00744,
     "end_time": "2023-01-19T23:49:22.614240",
     "exception": false,
     "start_time": "2023-01-19T23:49:22.606800",
     "status": "completed"
    },
    "tags": []
   },
   "source": [
    "# Congratulations!\n",
    "\n",
    "Congratulations for finishing the Intro to Programming course!  You should be proud of your very first steps with learning programming.  As next steps, we recommend taking:\n",
    "- the **[Python course](http://www.kaggle.com/learn/python)**, and \n",
    "- the **[Intro to Machine Learning course](https://www.kaggle.com/learn/intro-to-machine-learning)**."
   ]
  },
  {
   "cell_type": "markdown",
   "id": "b120026a",
   "metadata": {
    "papermill": {
     "duration": 0.007443,
     "end_time": "2023-01-19T23:49:22.629562",
     "exception": false,
     "start_time": "2023-01-19T23:49:22.622119",
     "status": "completed"
    },
    "tags": []
   },
   "source": [
    "---\n",
    "\n",
    "\n",
    "\n",
    "\n",
    "*Have questions or comments? Visit the [course discussion forum](https://www.kaggle.com/learn/intro-to-programming/discussion) to chat with other learners.*"
   ]
  }
 ],
 "metadata": {
  "kernelspec": {
   "display_name": "Python 3",
   "language": "python",
   "name": "python3"
  },
  "language_info": {
   "codemirror_mode": {
    "name": "ipython",
    "version": 3
   },
   "file_extension": ".py",
   "mimetype": "text/x-python",
   "name": "python",
   "nbconvert_exporter": "python",
   "pygments_lexer": "ipython3",
   "version": "3.7.12"
  },
  "papermill": {
   "default_parameters": {},
   "duration": 10.837391,
   "end_time": "2023-01-19T23:49:23.562126",
   "environment_variables": {},
   "exception": null,
   "input_path": "__notebook__.ipynb",
   "output_path": "__notebook__.ipynb",
   "parameters": {},
   "start_time": "2023-01-19T23:49:12.724735",
   "version": "2.3.4"
  }
 },
 "nbformat": 4,
 "nbformat_minor": 5
}
