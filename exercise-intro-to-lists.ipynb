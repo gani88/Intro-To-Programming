{
 "cells": [
  {
   "cell_type": "markdown",
   "id": "fa9ab485",
   "metadata": {
    "papermill": {
     "duration": 0.005973,
     "end_time": "2023-01-20T00:33:17.905579",
     "exception": false,
     "start_time": "2023-01-20T00:33:17.899606",
     "status": "completed"
    },
    "tags": []
   },
   "source": [
    "**This notebook is an exercise in the [Intro to Programming](https://www.kaggle.com/learn/intro-to-programming) course.  You can reference the tutorial at [this link](https://www.kaggle.com/alexisbcook/intro-to-lists).**\n",
    "\n",
    "---\n"
   ]
  },
  {
   "cell_type": "markdown",
   "id": "3345188c",
   "metadata": {
    "papermill": {
     "duration": 0.005416,
     "end_time": "2023-01-20T00:33:17.916256",
     "exception": false,
     "start_time": "2023-01-20T00:33:17.910840",
     "status": "completed"
    },
    "tags": []
   },
   "source": [
    "In the tutorial, you learned how to define and modify Python lists.  In this exercise, you will use your new knowledge to solve several problems.\n",
    "\n",
    "# Set up the notebook\n",
    "\n",
    "Run the next code cell without changes to set up the notebook."
   ]
  },
  {
   "cell_type": "code",
   "execution_count": 1,
   "id": "ecf377dd",
   "metadata": {
    "execution": {
     "iopub.execute_input": "2023-01-20T00:33:17.929453Z",
     "iopub.status.busy": "2023-01-20T00:33:17.928094Z",
     "iopub.status.idle": "2023-01-20T00:33:17.981772Z",
     "shell.execute_reply": "2023-01-20T00:33:17.979717Z"
    },
    "papermill": {
     "duration": 0.062845,
     "end_time": "2023-01-20T00:33:17.984539",
     "exception": false,
     "start_time": "2023-01-20T00:33:17.921694",
     "status": "completed"
    },
    "tags": []
   },
   "outputs": [
    {
     "name": "stdout",
     "output_type": "stream",
     "text": [
      "Setup complete.\n"
     ]
    }
   ],
   "source": [
    "from learntools.core import binder\n",
    "binder.bind(globals())\n",
    "from learntools.intro_to_programming.ex5 import *\n",
    "print('Setup complete.')"
   ]
  },
  {
   "cell_type": "markdown",
   "id": "2b1ecfc5",
   "metadata": {
    "papermill": {
     "duration": 0.005084,
     "end_time": "2023-01-20T00:33:17.995307",
     "exception": false,
     "start_time": "2023-01-20T00:33:17.990223",
     "status": "completed"
    },
    "tags": []
   },
   "source": [
    "# Question 1\n",
    "\n",
    "You own a restaurant with five food dishes, organized in the Python list `menu` below.  One day, you decide to:\n",
    "- remove bean soup (`'bean soup'`) from the menu, and\n",
    "- add roasted beet salad (`'roasted beet salad'`) to the menu.\n",
    "\n",
    "Implement this change to the list below.  While completing this task, \n",
    "- do not change the line that creates the `menu` list.  \n",
    "- your answer should use `.remove()` and `.append()`.  "
   ]
  },
  {
   "cell_type": "code",
   "execution_count": 2,
   "id": "1d7ef6ec",
   "metadata": {
    "execution": {
     "iopub.execute_input": "2023-01-20T00:33:18.008209Z",
     "iopub.status.busy": "2023-01-20T00:33:18.007816Z",
     "iopub.status.idle": "2023-01-20T00:33:18.018048Z",
     "shell.execute_reply": "2023-01-20T00:33:18.016710Z"
    },
    "papermill": {
     "duration": 0.01949,
     "end_time": "2023-01-20T00:33:18.020331",
     "exception": false,
     "start_time": "2023-01-20T00:33:18.000841",
     "status": "completed"
    },
    "tags": []
   },
   "outputs": [
    {
     "data": {
      "application/javascript": [
       "parent.postMessage({\"jupyterEvent\": \"custom.exercise_interaction\", \"data\": {\"outcomeType\": 1, \"valueTowardsCompletion\": 0.2, \"interactionType\": 1, \"questionType\": 2, \"questionId\": \"1_FoodMenu\", \"learnToolsVersion\": \"0.3.4\", \"failureMessage\": \"\", \"exceptionClass\": \"\", \"trace\": \"\"}}, \"*\")"
      ],
      "text/plain": [
       "<IPython.core.display.Javascript object>"
      ]
     },
     "metadata": {},
     "output_type": "display_data"
    },
    {
     "data": {
      "text/markdown": [
       "<span style=\"color:#33cc33\">Correct</span>"
      ],
      "text/plain": [
       "Correct"
      ]
     },
     "metadata": {},
     "output_type": "display_data"
    }
   ],
   "source": [
    "# Do not change: Initial menu for your restaurant\n",
    "menu = ['stewed meat with onions', 'bean soup', 'risotto with trout and shrimp',\n",
    "       'fish soup with cream and onion', 'gyro']\n",
    "\n",
    "# TODO: remove 'bean soup', and add 'roasted beet salad' to the end of the menu\n",
    "menu.remove('bean soup')\n",
    "menu.append('roasted beet salad')\n",
    "\n",
    "# Do not change: Check your answer\n",
    "q1.check()"
   ]
  },
  {
   "cell_type": "code",
   "execution_count": 3,
   "id": "d578fd00",
   "metadata": {
    "execution": {
     "iopub.execute_input": "2023-01-20T00:33:18.033412Z",
     "iopub.status.busy": "2023-01-20T00:33:18.033073Z",
     "iopub.status.idle": "2023-01-20T00:33:18.037812Z",
     "shell.execute_reply": "2023-01-20T00:33:18.036416Z"
    },
    "papermill": {
     "duration": 0.014105,
     "end_time": "2023-01-20T00:33:18.040266",
     "exception": false,
     "start_time": "2023-01-20T00:33:18.026161",
     "status": "completed"
    },
    "tags": []
   },
   "outputs": [],
   "source": [
    "# Uncomment to see a hint\n",
    "#q1.hint()\n",
    "\n",
    "# Uncomment to see the solution\n",
    "#q1.solution()"
   ]
  },
  {
   "cell_type": "markdown",
   "id": "0961d512",
   "metadata": {
    "papermill": {
     "duration": 0.005164,
     "end_time": "2023-01-20T00:33:18.051189",
     "exception": false,
     "start_time": "2023-01-20T00:33:18.046025",
     "status": "completed"
    },
    "tags": []
   },
   "source": [
    "# Question 2\n",
    "\n",
    "The list `num_customers` contains the number of customers who came into your restaurant every day over the last month (which lasted thirty days).  Fill in values for each of the following:\n",
    "- `avg_first_seven` - average number of customers who visited in the first seven days\n",
    "- `avg_last_seven` - average number of customers who visited in the last seven days\n",
    "- `max_month` - number of customers on the day that got the most customers in the last month\n",
    "- `min_month` - number of customers on the day that got the least customers in the last month\n",
    "\n",
    "Answer this question by writing code.  For instance, if you have to find the minimum value in a list, use `min()` instead of scanning for the smallest value and directly filling in a number."
   ]
  },
  {
   "cell_type": "code",
   "execution_count": 4,
   "id": "d33d718a",
   "metadata": {
    "execution": {
     "iopub.execute_input": "2023-01-20T00:33:18.064765Z",
     "iopub.status.busy": "2023-01-20T00:33:18.064407Z",
     "iopub.status.idle": "2023-01-20T00:33:18.074450Z",
     "shell.execute_reply": "2023-01-20T00:33:18.073478Z"
    },
    "papermill": {
     "duration": 0.020049,
     "end_time": "2023-01-20T00:33:18.076646",
     "exception": false,
     "start_time": "2023-01-20T00:33:18.056597",
     "status": "completed"
    },
    "tags": []
   },
   "outputs": [
    {
     "data": {
      "application/javascript": [
       "parent.postMessage({\"jupyterEvent\": \"custom.exercise_interaction\", \"data\": {\"outcomeType\": 1, \"valueTowardsCompletion\": 0.2, \"interactionType\": 1, \"questionType\": 1, \"questionId\": \"2_NumCustomers\", \"learnToolsVersion\": \"0.3.4\", \"failureMessage\": \"\", \"exceptionClass\": \"\", \"trace\": \"\"}}, \"*\")"
      ],
      "text/plain": [
       "<IPython.core.display.Javascript object>"
      ]
     },
     "metadata": {},
     "output_type": "display_data"
    },
    {
     "data": {
      "text/markdown": [
       "<span style=\"color:#33cc33\">Correct</span>"
      ],
      "text/plain": [
       "Correct"
      ]
     },
     "metadata": {},
     "output_type": "display_data"
    }
   ],
   "source": [
    "# Do not change: Number of customers each day for the last month\n",
    "num_customers = [137, 147, 135, 128, 170, 174, 165, 146, 126, 159,\n",
    "                 141, 148, 132, 147, 168, 153, 170, 161, 148, 152,\n",
    "                 141, 151, 131, 149, 164, 163, 143, 143, 166, 171]\n",
    "\n",
    "# TODO: Fill in values for the variables below\n",
    "avg_first_seven = sum(num_customers[:7])/7\n",
    "avg_last_seven = sum(num_customers[-7:])/7\n",
    "max_month = max(num_customers)\n",
    "min_month = min(num_customers)\n",
    "\n",
    "# Do not change: Check your answer\n",
    "q2.check()"
   ]
  },
  {
   "cell_type": "code",
   "execution_count": 5,
   "id": "afac7b03",
   "metadata": {
    "execution": {
     "iopub.execute_input": "2023-01-20T00:33:18.090410Z",
     "iopub.status.busy": "2023-01-20T00:33:18.090111Z",
     "iopub.status.idle": "2023-01-20T00:33:18.094034Z",
     "shell.execute_reply": "2023-01-20T00:33:18.092477Z"
    },
    "papermill": {
     "duration": 0.013058,
     "end_time": "2023-01-20T00:33:18.096027",
     "exception": false,
     "start_time": "2023-01-20T00:33:18.082969",
     "status": "completed"
    },
    "tags": []
   },
   "outputs": [],
   "source": [
    "# Uncomment to see a hint\n",
    "#q2.hint()\n",
    "\n",
    "# Uncomment to see the solution\n",
    "#q2.solution()"
   ]
  },
  {
   "cell_type": "markdown",
   "id": "a3d01be3",
   "metadata": {
    "papermill": {
     "duration": 0.00559,
     "end_time": "2023-01-20T00:33:18.107801",
     "exception": false,
     "start_time": "2023-01-20T00:33:18.102211",
     "status": "completed"
    },
    "tags": []
   },
   "source": [
    "# Question 3\n",
    "\n",
    "In the tutorial, we gave an example of a Python string with information that was better as a list."
   ]
  },
  {
   "cell_type": "code",
   "execution_count": 6,
   "id": "40caae9c",
   "metadata": {
    "execution": {
     "iopub.execute_input": "2023-01-20T00:33:18.120934Z",
     "iopub.status.busy": "2023-01-20T00:33:18.120583Z",
     "iopub.status.idle": "2023-01-20T00:33:18.125129Z",
     "shell.execute_reply": "2023-01-20T00:33:18.124285Z"
    },
    "papermill": {
     "duration": 0.013632,
     "end_time": "2023-01-20T00:33:18.127064",
     "exception": false,
     "start_time": "2023-01-20T00:33:18.113432",
     "status": "completed"
    },
    "tags": []
   },
   "outputs": [],
   "source": [
    "flowers = \"pink primrose,hard-leaved pocket orchid,canterbury bells,sweet pea,english marigold,tiger lily,moon orchid,bird of paradise,monkshood,globe thistle\""
   ]
  },
  {
   "cell_type": "markdown",
   "id": "8028ff09",
   "metadata": {
    "papermill": {
     "duration": 0.00565,
     "end_time": "2023-01-20T00:33:18.138775",
     "exception": false,
     "start_time": "2023-01-20T00:33:18.133125",
     "status": "completed"
    },
    "tags": []
   },
   "source": [
    "You can actually use Python to quickly turn this string into a list with `.split()`.  In the parentheses, we need to provide the character should be used to mark the end of one list item and the beginning of another, and enclose it in quotation marks.  In this case, that character is a comma."
   ]
  },
  {
   "cell_type": "code",
   "execution_count": 7,
   "id": "5f34cfca",
   "metadata": {
    "execution": {
     "iopub.execute_input": "2023-01-20T00:33:18.152300Z",
     "iopub.status.busy": "2023-01-20T00:33:18.151952Z",
     "iopub.status.idle": "2023-01-20T00:33:18.157837Z",
     "shell.execute_reply": "2023-01-20T00:33:18.156565Z"
    },
    "papermill": {
     "duration": 0.015611,
     "end_time": "2023-01-20T00:33:18.160363",
     "exception": false,
     "start_time": "2023-01-20T00:33:18.144752",
     "status": "completed"
    },
    "tags": []
   },
   "outputs": [
    {
     "name": "stdout",
     "output_type": "stream",
     "text": [
      "['pink primrose', 'hard-leaved pocket orchid', 'canterbury bells', 'sweet pea', 'english marigold', 'tiger lily', 'moon orchid', 'bird of paradise', 'monkshood', 'globe thistle']\n"
     ]
    }
   ],
   "source": [
    " print(flowers.split(\",\"))"
   ]
  },
  {
   "cell_type": "markdown",
   "id": "b11b1904",
   "metadata": {
    "papermill": {
     "duration": 0.00584,
     "end_time": "2023-01-20T00:33:18.172606",
     "exception": false,
     "start_time": "2023-01-20T00:33:18.166766",
     "status": "completed"
    },
    "tags": []
   },
   "source": [
    "Now it is your turn to try this out!  Create two Python lists:\n",
    "- `letters` should be a Python list where each entry is an uppercase letter of the English alphabet.  For instance, the first two entries should be `\"A\"` and `\"B\"`, and the final two entries should be `\"Y\"` and `\"Z\"`.  Use the string `alphabet` to create this list.\n",
    "- `address` should be a Python list where each row in `address` is a different item in the list.  Currently, each row in `address` is separated by a comma. "
   ]
  },
  {
   "cell_type": "code",
   "execution_count": 8,
   "id": "529a5463",
   "metadata": {
    "execution": {
     "iopub.execute_input": "2023-01-20T00:33:18.186480Z",
     "iopub.status.busy": "2023-01-20T00:33:18.186129Z",
     "iopub.status.idle": "2023-01-20T00:33:18.196352Z",
     "shell.execute_reply": "2023-01-20T00:33:18.194516Z"
    },
    "papermill": {
     "duration": 0.020099,
     "end_time": "2023-01-20T00:33:18.198811",
     "exception": false,
     "start_time": "2023-01-20T00:33:18.178712",
     "status": "completed"
    },
    "tags": []
   },
   "outputs": [
    {
     "name": "stdout",
     "output_type": "stream",
     "text": [
      "['A', 'B', 'C', 'D', 'E', 'F', 'G', 'H', 'I', 'J', 'K', 'L', 'M', 'N', 'O', 'P', 'Q', 'R', 'S', 'T', 'U', 'V', 'W', 'X', 'Y', 'Z']\n",
      "['Mr. H. Potter', 'The cupboard under the Stairs', '4 Privet Drive', 'Little Whinging', 'Surrey']\n"
     ]
    },
    {
     "data": {
      "application/javascript": [
       "parent.postMessage({\"jupyterEvent\": \"custom.exercise_interaction\", \"data\": {\"outcomeType\": 1, \"valueTowardsCompletion\": 0.2, \"interactionType\": 1, \"questionType\": 1, \"questionId\": \"3_SplitString\", \"learnToolsVersion\": \"0.3.4\", \"failureMessage\": \"\", \"exceptionClass\": \"\", \"trace\": \"\"}}, \"*\")"
      ],
      "text/plain": [
       "<IPython.core.display.Javascript object>"
      ]
     },
     "metadata": {},
     "output_type": "display_data"
    },
    {
     "data": {
      "text/markdown": [
       "<span style=\"color:#33cc33\">Correct</span>"
      ],
      "text/plain": [
       "Correct"
      ]
     },
     "metadata": {},
     "output_type": "display_data"
    }
   ],
   "source": [
    "# DO not change: Define two Python strings\n",
    "alphabet = \"A.B.C.D.E.F.G.H.I.J.K.L.M.N.O.P.Q.R.S.T.U.V.W.X.Y.Z\"\n",
    "address = \"Mr. H. Potter,The cupboard under the Stairs,4 Privet Drive,Little Whinging,Surrey\"\n",
    "\n",
    "# TODO: Convert strings into Python lists\n",
    "letters = alphabet.split(\".\")\n",
    "formatted_address = address.split(\",\")\n",
    "print(letters)\n",
    "print(formatted_address)\n",
    "\n",
    "# Do not change: Check your answer\n",
    "q3.check()"
   ]
  },
  {
   "cell_type": "code",
   "execution_count": 9,
   "id": "41ec024c",
   "metadata": {
    "execution": {
     "iopub.execute_input": "2023-01-20T00:33:18.213616Z",
     "iopub.status.busy": "2023-01-20T00:33:18.213240Z",
     "iopub.status.idle": "2023-01-20T00:33:18.218596Z",
     "shell.execute_reply": "2023-01-20T00:33:18.216937Z"
    },
    "papermill": {
     "duration": 0.01614,
     "end_time": "2023-01-20T00:33:18.221644",
     "exception": false,
     "start_time": "2023-01-20T00:33:18.205504",
     "status": "completed"
    },
    "tags": []
   },
   "outputs": [],
   "source": [
    "# Uncomment to see a hint\n",
    "#q3.hint()\n",
    "\n",
    "# Uncomment to see the solution\n",
    "#q3.solution()"
   ]
  },
  {
   "cell_type": "markdown",
   "id": "9e9778a1",
   "metadata": {
    "papermill": {
     "duration": 0.006043,
     "end_time": "2023-01-20T00:33:18.234355",
     "exception": false,
     "start_time": "2023-01-20T00:33:18.228312",
     "status": "completed"
    },
    "tags": []
   },
   "source": [
    "# Question 4\n",
    "\n",
    "In the Python course, you'll learn all about **list comprehensions**, which allow you to create a list based on the values in another list.  In this question, you'll get a brief preview of how they work.\n",
    "\n",
    "Say we're working with the list below."
   ]
  },
  {
   "cell_type": "code",
   "execution_count": 10,
   "id": "66fe405f",
   "metadata": {
    "execution": {
     "iopub.execute_input": "2023-01-20T00:33:18.249070Z",
     "iopub.status.busy": "2023-01-20T00:33:18.248651Z",
     "iopub.status.idle": "2023-01-20T00:33:18.253449Z",
     "shell.execute_reply": "2023-01-20T00:33:18.252525Z"
    },
    "papermill": {
     "duration": 0.015101,
     "end_time": "2023-01-20T00:33:18.255950",
     "exception": false,
     "start_time": "2023-01-20T00:33:18.240849",
     "status": "completed"
    },
    "tags": []
   },
   "outputs": [],
   "source": [
    "test_ratings = [1, 2, 3, 4, 5]"
   ]
  },
  {
   "cell_type": "markdown",
   "id": "6470a821",
   "metadata": {
    "papermill": {
     "duration": 0.006707,
     "end_time": "2023-01-20T00:33:18.269217",
     "exception": false,
     "start_time": "2023-01-20T00:33:18.262510",
     "status": "completed"
    },
    "tags": []
   },
   "source": [
    "Then we can use this list (`test_ratings`) to create a new list (`test_liked`) where each item has been turned into a boolean, depending on whether or not the item is greater than or equal to four."
   ]
  },
  {
   "cell_type": "code",
   "execution_count": 11,
   "id": "88fb9835",
   "metadata": {
    "execution": {
     "iopub.execute_input": "2023-01-20T00:33:18.286296Z",
     "iopub.status.busy": "2023-01-20T00:33:18.285934Z",
     "iopub.status.idle": "2023-01-20T00:33:18.290403Z",
     "shell.execute_reply": "2023-01-20T00:33:18.289704Z"
    },
    "papermill": {
     "duration": 0.017394,
     "end_time": "2023-01-20T00:33:18.293381",
     "exception": false,
     "start_time": "2023-01-20T00:33:18.275987",
     "status": "completed"
    },
    "tags": []
   },
   "outputs": [
    {
     "name": "stdout",
     "output_type": "stream",
     "text": [
      "[False, False, False, True, True]\n"
     ]
    }
   ],
   "source": [
    "test_liked = [i>=4 for i in test_ratings]\n",
    "print(test_liked)"
   ]
  },
  {
   "cell_type": "markdown",
   "id": "d3730a9e",
   "metadata": {
    "papermill": {
     "duration": 0.006505,
     "end_time": "2023-01-20T00:33:18.306917",
     "exception": false,
     "start_time": "2023-01-20T00:33:18.300412",
     "status": "completed"
    },
    "tags": []
   },
   "source": [
    "In this question, you'll use this list comprehension to define a function `percentage_liked()` that takes one argument as input:\n",
    "- `ratings`: list of ratings that people gave to a movie, where each rating is a number between 1-5, inclusive\n",
    "\n",
    "We say someone liked the movie, if they gave a rating of either 4 or 5.  Your function should return the percentage of people who liked the movie.\n",
    "\n",
    "For instance, if we supply a value of `[1, 2, 3, 4, 5, 4, 5, 1]`, then 50% (4/8) of the people liked the movie, and the function should return `0.5`.\n",
    "\n",
    "Part of the function has already been completed for you.  You need only use `list_liked` to calculate `percentage_liked`."
   ]
  },
  {
   "cell_type": "code",
   "execution_count": 12,
   "id": "78302fc5",
   "metadata": {
    "execution": {
     "iopub.execute_input": "2023-01-20T00:33:18.322783Z",
     "iopub.status.busy": "2023-01-20T00:33:18.322105Z",
     "iopub.status.idle": "2023-01-20T00:33:18.329952Z",
     "shell.execute_reply": "2023-01-20T00:33:18.328855Z"
    },
    "papermill": {
     "duration": 0.017975,
     "end_time": "2023-01-20T00:33:18.332257",
     "exception": false,
     "start_time": "2023-01-20T00:33:18.314282",
     "status": "completed"
    },
    "tags": []
   },
   "outputs": [
    {
     "data": {
      "application/javascript": [
       "parent.postMessage({\"jupyterEvent\": \"custom.exercise_interaction\", \"data\": {\"outcomeType\": 1, \"valueTowardsCompletion\": 0.2, \"interactionType\": 1, \"questionType\": 2, \"questionId\": \"4_PercentageLiked\", \"learnToolsVersion\": \"0.3.4\", \"failureMessage\": \"\", \"exceptionClass\": \"\", \"trace\": \"\"}}, \"*\")"
      ],
      "text/plain": [
       "<IPython.core.display.Javascript object>"
      ]
     },
     "metadata": {},
     "output_type": "display_data"
    },
    {
     "data": {
      "text/markdown": [
       "<span style=\"color:#33cc33\">Correct</span>"
      ],
      "text/plain": [
       "Correct"
      ]
     },
     "metadata": {},
     "output_type": "display_data"
    }
   ],
   "source": [
    "\n",
    "def percentage_liked(ratings):\n",
    "    list_liked = [i>=4 for i in ratings]\n",
    "    # TODO: Complete the function\n",
    "    percentage_liked = sum(list_liked) / len(list_liked) * 1\n",
    "    return percentage_liked\n",
    "\n",
    "# Do not change: should return 0.5\n",
    "percentage_liked([1, 2, 3, 4, 5, 4, 5, 1])\n",
    "\n",
    "# Do not change: Check your answer\n",
    "q4.check()"
   ]
  },
  {
   "cell_type": "code",
   "execution_count": 13,
   "id": "00854d3b",
   "metadata": {
    "execution": {
     "iopub.execute_input": "2023-01-20T00:33:18.348928Z",
     "iopub.status.busy": "2023-01-20T00:33:18.348309Z",
     "iopub.status.idle": "2023-01-20T00:33:18.352627Z",
     "shell.execute_reply": "2023-01-20T00:33:18.351125Z"
    },
    "papermill": {
     "duration": 0.015909,
     "end_time": "2023-01-20T00:33:18.355309",
     "exception": false,
     "start_time": "2023-01-20T00:33:18.339400",
     "status": "completed"
    },
    "tags": []
   },
   "outputs": [],
   "source": [
    "# Uncomment to see a hint\n",
    "#q4.hint()\n",
    "\n",
    "# Uncomment to see the solution\n",
    "#q4.solution()"
   ]
  },
  {
   "cell_type": "markdown",
   "id": "1cb4cf8e",
   "metadata": {
    "papermill": {
     "duration": 0.007771,
     "end_time": "2023-01-20T00:33:18.370131",
     "exception": false,
     "start_time": "2023-01-20T00:33:18.362360",
     "status": "completed"
    },
    "tags": []
   },
   "source": [
    "# 🌶️ Question 5\n",
    " \n",
    "Say you're doing analytics for a website.  You need to write a function that returns the percentage growth in the total number of users relative to a specified number of years ago.\n",
    "\n",
    "Your function `percentage_growth()` should take two arguments as input:\n",
    "- `num_users` = Python list with the total number of users each year.  So `num_users[0]` is the total number of users in the first year, `num_users[1]` is the total number of users in the second year, and so on.  The final entry in the list gives the total number of users in the most recently completed year.\n",
    "- `yrs_ago` = number of years to go back in time when calculating the growth percentage\n",
    "\n",
    "For instance, say `num_users = [920344, 1043553, 1204334, 1458996, 1503323, 1593432, 1623463, 1843064, 1930992, 2001078]`.\n",
    "- if `yrs_ago = 1`, we want the function to return a value of about `0.036`. This corresponds to a percentage growth of approximately 3.6%, calculated as (2001078 - 1930992)/1930992.\n",
    "- if `years_ago = 7`, we would want to return approximately `0.66`.  This corresponds to a percentage growth of approximately 66%, calculated as (2001078 - 1204334)/1204334.\n",
    "\n",
    "Your coworker sent you a draft of a function, but it doesn't seem to be doing the correct calculation.  Can you figure out what has gone wrong and make the needed changes?"
   ]
  },
  {
   "cell_type": "code",
   "execution_count": 14,
   "id": "51fb4fdc",
   "metadata": {
    "execution": {
     "iopub.execute_input": "2023-01-20T00:33:18.385573Z",
     "iopub.status.busy": "2023-01-20T00:33:18.384963Z",
     "iopub.status.idle": "2023-01-20T00:33:18.395982Z",
     "shell.execute_reply": "2023-01-20T00:33:18.394114Z"
    },
    "papermill": {
     "duration": 0.021682,
     "end_time": "2023-01-20T00:33:18.398660",
     "exception": false,
     "start_time": "2023-01-20T00:33:18.376978",
     "status": "completed"
    },
    "tags": []
   },
   "outputs": [
    {
     "name": "stdout",
     "output_type": "stream",
     "text": [
      "0.03629533421163837\n",
      "0.6615639847417742\n"
     ]
    },
    {
     "data": {
      "application/javascript": [
       "parent.postMessage({\"jupyterEvent\": \"custom.exercise_interaction\", \"data\": {\"outcomeType\": 1, \"valueTowardsCompletion\": 0.2, \"interactionType\": 1, \"questionType\": 2, \"questionId\": \"5_WebsiteAnalytics\", \"learnToolsVersion\": \"0.3.4\", \"failureMessage\": \"\", \"exceptionClass\": \"\", \"trace\": \"\"}}, \"*\")"
      ],
      "text/plain": [
       "<IPython.core.display.Javascript object>"
      ]
     },
     "metadata": {},
     "output_type": "display_data"
    },
    {
     "data": {
      "text/markdown": [
       "<span style=\"color:#33cc33\">Correct</span>"
      ],
      "text/plain": [
       "Correct"
      ]
     },
     "metadata": {},
     "output_type": "display_data"
    }
   ],
   "source": [
    "# TODO: Edit the function\n",
    "def percentage_growth(num_users, yrs_ago):\n",
    "    growth = (num_users[len(num_users)-1] - num_users[len(num_users)-yrs_ago-1])/num_users[len(num_users)-yrs_ago-1]\n",
    "    return growth\n",
    "\n",
    "# Do not change: Variable for calculating some test examples\n",
    "num_users_test = [920344, 1043553, 1204334, 1458996, 1503323, 1593432, 1623463, 1843064, 1930992, 2001078]\n",
    "\n",
    "# Do not change: Should return .036\n",
    "print(percentage_growth(num_users_test, 1))\n",
    "\n",
    "# Do not change: Should return 0.66\n",
    "print(percentage_growth(num_users_test, 7))\n",
    "\n",
    "# Do not change: Check your answer\n",
    "q5.check()"
   ]
  },
  {
   "cell_type": "code",
   "execution_count": 15,
   "id": "27eca03e",
   "metadata": {
    "execution": {
     "iopub.execute_input": "2023-01-20T00:33:18.414058Z",
     "iopub.status.busy": "2023-01-20T00:33:18.413697Z",
     "iopub.status.idle": "2023-01-20T00:33:18.417974Z",
     "shell.execute_reply": "2023-01-20T00:33:18.417092Z"
    },
    "papermill": {
     "duration": 0.014578,
     "end_time": "2023-01-20T00:33:18.420292",
     "exception": false,
     "start_time": "2023-01-20T00:33:18.405714",
     "status": "completed"
    },
    "tags": []
   },
   "outputs": [],
   "source": [
    "# Uncomment to see a hint\n",
    "#q5.hint()\n",
    "\n",
    "# Uncomment to see the solution\n",
    "#q5.solution()"
   ]
  },
  {
   "cell_type": "markdown",
   "id": "555db1e4",
   "metadata": {
    "papermill": {
     "duration": 0.006477,
     "end_time": "2023-01-20T00:33:18.433800",
     "exception": false,
     "start_time": "2023-01-20T00:33:18.427323",
     "status": "completed"
    },
    "tags": []
   },
   "source": [
    "# Congratulations!\n",
    "\n",
    "Congratulations for finishing the Intro to Programming course!  You should be proud of your very first steps with learning programming.  As next steps, we recommend taking:\n",
    "- the **[Python course](http://www.kaggle.com/learn/python)**, and \n",
    "- the **[Intro to Machine Learning course](https://www.kaggle.com/learn/intro-to-machine-learning)**."
   ]
  },
  {
   "cell_type": "markdown",
   "id": "e7452e74",
   "metadata": {
    "papermill": {
     "duration": 0.00644,
     "end_time": "2023-01-20T00:33:18.447129",
     "exception": false,
     "start_time": "2023-01-20T00:33:18.440689",
     "status": "completed"
    },
    "tags": []
   },
   "source": [
    "---\n",
    "\n",
    "\n",
    "\n",
    "\n",
    "*Have questions or comments? Visit the [course discussion forum](https://www.kaggle.com/learn/intro-to-programming/discussion) to chat with other learners.*"
   ]
  }
 ],
 "metadata": {
  "kernelspec": {
   "display_name": "Python 3",
   "language": "python",
   "name": "python3"
  },
  "language_info": {
   "codemirror_mode": {
    "name": "ipython",
    "version": 3
   },
   "file_extension": ".py",
   "mimetype": "text/x-python",
   "name": "python",
   "nbconvert_exporter": "python",
   "pygments_lexer": "ipython3",
   "version": "3.7.12"
  },
  "papermill": {
   "default_parameters": {},
   "duration": 9.229419,
   "end_time": "2023-01-20T00:33:19.073686",
   "environment_variables": {},
   "exception": null,
   "input_path": "__notebook__.ipynb",
   "output_path": "__notebook__.ipynb",
   "parameters": {},
   "start_time": "2023-01-20T00:33:09.844267",
   "version": "2.3.4"
  }
 },
 "nbformat": 4,
 "nbformat_minor": 5
}
