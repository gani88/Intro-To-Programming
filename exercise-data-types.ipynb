{
 "cells": [
  {
   "cell_type": "markdown",
   "id": "4ad99c5c",
   "metadata": {
    "papermill": {
     "duration": 0.008097,
     "end_time": "2023-01-19T00:38:48.795758",
     "exception": false,
     "start_time": "2023-01-19T00:38:48.787661",
     "status": "completed"
    },
    "tags": []
   },
   "source": [
    "**This notebook is an exercise in the [Intro to Programming](https://www.kaggle.com/learn/intro-to-programming) course.  You can reference the tutorial at [this link](https://www.kaggle.com/alexisbcook/data-types).**\n",
    "\n",
    "---\n"
   ]
  },
  {
   "cell_type": "markdown",
   "id": "88a194e7",
   "metadata": {
    "papermill": {
     "duration": 0.006547,
     "end_time": "2023-01-19T00:38:48.809577",
     "exception": false,
     "start_time": "2023-01-19T00:38:48.803030",
     "status": "completed"
    },
    "tags": []
   },
   "source": [
    "In the tutorial, you learned about four different data types: floats, integers, strings, and booleans.  In this exercise, you'll experiment with them.\n",
    "\n",
    "# Set up the notebook\n",
    "\n",
    "Run the next code cell without changes to set up the notebook."
   ]
  },
  {
   "cell_type": "code",
   "execution_count": 1,
   "id": "d521c25d",
   "metadata": {
    "execution": {
     "iopub.execute_input": "2023-01-19T00:38:48.824883Z",
     "iopub.status.busy": "2023-01-19T00:38:48.824325Z",
     "iopub.status.idle": "2023-01-19T00:38:48.873692Z",
     "shell.execute_reply": "2023-01-19T00:38:48.872513Z"
    },
    "papermill": {
     "duration": 0.061141,
     "end_time": "2023-01-19T00:38:48.877262",
     "exception": false,
     "start_time": "2023-01-19T00:38:48.816121",
     "status": "completed"
    },
    "tags": []
   },
   "outputs": [
    {
     "name": "stdout",
     "output_type": "stream",
     "text": [
      "Setup complete.\n"
     ]
    }
   ],
   "source": [
    "# Set up the exercise\n",
    "from learntools.core import binder\n",
    "binder.bind(globals())\n",
    "from learntools.intro_to_programming.ex3 import *\n",
    "print('Setup complete.')"
   ]
  },
  {
   "cell_type": "markdown",
   "id": "19888a1f",
   "metadata": {
    "papermill": {
     "duration": 0.006633,
     "end_time": "2023-01-19T00:38:48.892838",
     "exception": false,
     "start_time": "2023-01-19T00:38:48.886205",
     "status": "completed"
    },
    "tags": []
   },
   "source": [
    "# Question 1\n",
    "\n",
    "You have seen how to convert a float to an integer with the `int` function.  Try this out yourself by running the code cell below."
   ]
  },
  {
   "cell_type": "code",
   "execution_count": 2,
   "id": "68104eda",
   "metadata": {
    "execution": {
     "iopub.execute_input": "2023-01-19T00:38:48.908734Z",
     "iopub.status.busy": "2023-01-19T00:38:48.907615Z",
     "iopub.status.idle": "2023-01-19T00:38:48.914942Z",
     "shell.execute_reply": "2023-01-19T00:38:48.913580Z"
    },
    "papermill": {
     "duration": 0.019184,
     "end_time": "2023-01-19T00:38:48.918710",
     "exception": false,
     "start_time": "2023-01-19T00:38:48.899526",
     "status": "completed"
    },
    "tags": []
   },
   "outputs": [
    {
     "name": "stdout",
     "output_type": "stream",
     "text": [
      "1.0\n",
      "<class 'float'>\n",
      "1\n",
      "<class 'int'>\n"
     ]
    }
   ],
   "source": [
    "# Define a float\n",
    "y = 1.\n",
    "print(y)\n",
    "print(type(y))\n",
    "\n",
    "# Convert float to integer with the int function\n",
    "z = int(y)\n",
    "print(z)\n",
    "print(type(z))"
   ]
  },
  {
   "cell_type": "markdown",
   "id": "d0e200ae",
   "metadata": {
    "papermill": {
     "duration": 0.006527,
     "end_time": "2023-01-19T00:38:48.933133",
     "exception": false,
     "start_time": "2023-01-19T00:38:48.926606",
     "status": "completed"
    },
    "tags": []
   },
   "source": [
    "In this case, the float you are using has no numbers after the decimal.  \n",
    "- But what happens when you try to convert a float with a fractional part to an integer?  \n",
    "- How does the outcome of the `int` function change for positive and negative numbers?\n",
    "\n",
    "Use the next code cell to investigate and answer these questions.  Feel free to add or remove any lines of code -- it is your workspace!"
   ]
  },
  {
   "cell_type": "code",
   "execution_count": 3,
   "id": "9c17586f",
   "metadata": {
    "execution": {
     "iopub.execute_input": "2023-01-19T00:38:48.948988Z",
     "iopub.status.busy": "2023-01-19T00:38:48.948551Z",
     "iopub.status.idle": "2023-01-19T00:38:48.955590Z",
     "shell.execute_reply": "2023-01-19T00:38:48.953724Z"
    },
    "papermill": {
     "duration": 0.018647,
     "end_time": "2023-01-19T00:38:48.958609",
     "exception": false,
     "start_time": "2023-01-19T00:38:48.939962",
     "status": "completed"
    },
    "tags": []
   },
   "outputs": [
    {
     "name": "stdout",
     "output_type": "stream",
     "text": [
      "1\n",
      "1\n",
      "-3\n",
      "-2\n"
     ]
    }
   ],
   "source": [
    "# Uncomment and run this code to get started!\n",
    "print(int(1.2321))\n",
    "print(int(1.747))\n",
    "print(int(-3.94535))\n",
    "print(int(-2.19774))"
   ]
  },
  {
   "cell_type": "markdown",
   "id": "7c490586",
   "metadata": {
    "papermill": {
     "duration": 0.00814,
     "end_time": "2023-01-19T00:38:48.973581",
     "exception": false,
     "start_time": "2023-01-19T00:38:48.965441",
     "status": "completed"
    },
    "tags": []
   },
   "source": [
    "Once you have an answer, run the code cell below to see the solution.  Viewing the solution will give you credit for answering the problem."
   ]
  },
  {
   "cell_type": "code",
   "execution_count": 4,
   "id": "621b4d3d",
   "metadata": {
    "execution": {
     "iopub.execute_input": "2023-01-19T00:38:48.989387Z",
     "iopub.status.busy": "2023-01-19T00:38:48.988698Z",
     "iopub.status.idle": "2023-01-19T00:38:49.002512Z",
     "shell.execute_reply": "2023-01-19T00:38:49.000581Z"
    },
    "papermill": {
     "duration": 0.024992,
     "end_time": "2023-01-19T00:38:49.005408",
     "exception": false,
     "start_time": "2023-01-19T00:38:48.980416",
     "status": "completed"
    },
    "tags": []
   },
   "outputs": [
    {
     "data": {
      "application/javascript": [
       "parent.postMessage({\"jupyterEvent\": \"custom.exercise_interaction\", \"data\": {\"outcomeType\": 1, \"valueTowardsCompletion\": 0.2, \"interactionType\": 1, \"questionType\": 4, \"questionId\": \"1_FloatToInt\", \"learnToolsVersion\": \"0.3.4\", \"failureMessage\": \"\", \"exceptionClass\": \"\", \"trace\": \"\"}}, \"*\")"
      ],
      "text/plain": [
       "<IPython.core.display.Javascript object>"
      ]
     },
     "metadata": {},
     "output_type": "display_data"
    },
    {
     "data": {
      "text/markdown": [
       "<span style=\"color:#33cc33\">Correct:</span> \n",
       "\n",
       "Negative floats are always rounded UP to the closest integer (for instance, both -1.1 and -1.9 are rounded up to -1). Positive floats are always rounded DOWN to the closest integer (for instance, 2.1 and 2.9 are rounded down to 2)."
      ],
      "text/plain": [
       "Correct: \n",
       "\n",
       "Negative floats are always rounded UP to the closest integer (for instance, both -1.1 and -1.9 are rounded up to -1). Positive floats are always rounded DOWN to the closest integer (for instance, 2.1 and 2.9 are rounded down to 2)."
      ]
     },
     "metadata": {},
     "output_type": "display_data"
    }
   ],
   "source": [
    "# Check your answer (Run this code cell to receive credit!)\n",
    "q1.check()"
   ]
  },
  {
   "cell_type": "markdown",
   "id": "31ffc7cc",
   "metadata": {
    "papermill": {
     "duration": 0.008043,
     "end_time": "2023-01-19T00:38:49.021250",
     "exception": false,
     "start_time": "2023-01-19T00:38:49.013207",
     "status": "completed"
    },
    "tags": []
   },
   "source": [
    "# Question 2\n",
    "\n",
    "In the tutorial, you learned about booleans (which can take a value of `True` or `False`), in addition to integers, floats, and strings.  For this question, your goal is to determine what happens when you multiply a boolean by any of these data types.  Specifically, \n",
    "- What happens when you multiply an integer or float by `True`?  What happens when you multiply them by `False`?  How does the answer change if the numbers are positive or negative?\n",
    "- What happens when you multiply a string by `True`?  By `False`?\n",
    "\n",
    "Use the next code cell for your investigation. "
   ]
  },
  {
   "cell_type": "code",
   "execution_count": 5,
   "id": "728d9dd0",
   "metadata": {
    "execution": {
     "iopub.execute_input": "2023-01-19T00:38:49.038224Z",
     "iopub.status.busy": "2023-01-19T00:38:49.037470Z",
     "iopub.status.idle": "2023-01-19T00:38:49.045178Z",
     "shell.execute_reply": "2023-01-19T00:38:49.043445Z"
    },
    "papermill": {
     "duration": 0.020508,
     "end_time": "2023-01-19T00:38:49.048998",
     "exception": false,
     "start_time": "2023-01-19T00:38:49.028490",
     "status": "completed"
    },
    "tags": []
   },
   "outputs": [
    {
     "name": "stdout",
     "output_type": "stream",
     "text": [
      "3\n",
      "-3.1\n",
      "<class 'str'>\n",
      "0\n"
     ]
    }
   ],
   "source": [
    "# Uncomment and run this code to get started!\n",
    "print(3 * True)\n",
    "print(-3.1 * True)\n",
    "print(type(\"abc\" * False))\n",
    "print(len(\"abc\" * False))"
   ]
  },
  {
   "cell_type": "markdown",
   "id": "6c9730f5",
   "metadata": {
    "papermill": {
     "duration": 0.013207,
     "end_time": "2023-01-19T00:38:49.069927",
     "exception": false,
     "start_time": "2023-01-19T00:38:49.056720",
     "status": "completed"
    },
    "tags": []
   },
   "source": [
    "Once you have an answer, run the code cell below to see the solution.  Viewing the solution will give you credit for answering the problem."
   ]
  },
  {
   "cell_type": "code",
   "execution_count": 6,
   "id": "1fcc1dab",
   "metadata": {
    "execution": {
     "iopub.execute_input": "2023-01-19T00:38:49.091970Z",
     "iopub.status.busy": "2023-01-19T00:38:49.091227Z",
     "iopub.status.idle": "2023-01-19T00:38:49.102029Z",
     "shell.execute_reply": "2023-01-19T00:38:49.100942Z"
    },
    "papermill": {
     "duration": 0.024257,
     "end_time": "2023-01-19T00:38:49.104564",
     "exception": false,
     "start_time": "2023-01-19T00:38:49.080307",
     "status": "completed"
    },
    "tags": []
   },
   "outputs": [
    {
     "data": {
      "application/javascript": [
       "parent.postMessage({\"jupyterEvent\": \"custom.exercise_interaction\", \"data\": {\"outcomeType\": 1, \"valueTowardsCompletion\": 0.2, \"interactionType\": 1, \"questionType\": 4, \"questionId\": \"2_MultiplyBooleans\", \"learnToolsVersion\": \"0.3.4\", \"failureMessage\": \"\", \"exceptionClass\": \"\", \"trace\": \"\"}}, \"*\")"
      ],
      "text/plain": [
       "<IPython.core.display.Javascript object>"
      ]
     },
     "metadata": {},
     "output_type": "display_data"
    },
    {
     "data": {
      "text/markdown": [
       "<span style=\"color:#33cc33\">Correct:</span> \n",
       "\n",
       "When you multiple an integer or float by a boolean with value `True`, it just returns that same integer or float (and is equivalent to multiplying by 1).  If you multiply an integer or float by a boolean with value `False`, it always returns 0.  This is true for both positive and negative numbers.  If you multiply a string by a boolean with value `True`, it just returns that same string.  And if you multiply a string by a boolean with value `False`, it returns an empty string (or a string with length zero)."
      ],
      "text/plain": [
       "Correct: \n",
       "\n",
       "When you multiple an integer or float by a boolean with value `True`, it just returns that same integer or float (and is equivalent to multiplying by 1).  If you multiply an integer or float by a boolean with value `False`, it always returns 0.  This is true for both positive and negative numbers.  If you multiply a string by a boolean with value `True`, it just returns that same string.  And if you multiply a string by a boolean with value `False`, it returns an empty string (or a string with length zero)."
      ]
     },
     "metadata": {},
     "output_type": "display_data"
    }
   ],
   "source": [
    "# Check your answer (Run this code cell to receive credit!)\n",
    "q2.check()"
   ]
  },
  {
   "cell_type": "markdown",
   "id": "931108d6",
   "metadata": {
    "papermill": {
     "duration": 0.012068,
     "end_time": "2023-01-19T00:38:49.124256",
     "exception": false,
     "start_time": "2023-01-19T00:38:49.112188",
     "status": "completed"
    },
    "tags": []
   },
   "source": [
    "# Question 3\n",
    "\n",
    "In this question, you will build off your work from the previous exercise to write a function that estimates the value of a house.\n",
    "\n",
    "Use the next code cell to create a function `get_expected_cost` that takes as input three variables:\n",
    "- `beds` - number of bedrooms (data type float)\n",
    "- `baths` - number of bathrooms (data type float)\n",
    "- `has_basement` - whether or not the house has a basement (data type boolean)\n",
    "\n",
    "It should return the expected cost of a house with those characteristics. Assume that:\n",
    "- the expected cost for a house with 0 bedrooms and 0 bathrooms, and no basement is 80000, \n",
    "- each bedroom adds 30000 to the expected cost,\n",
    "- each bathroom adds 10000 to the expected cost, and\n",
    "- a basement adds 40000 to the expected cost.\n",
    "\n",
    "For instance,\n",
    "- a house with 1 bedroom, 1 bathroom, and no basement has an expected cost of 80000 + 30000 + 10000 = 120000.  This value will be calculated with `get_expected_cost(1, 1, False)`.\n",
    "- a house with 2 bedrooms, 1 bathroom, and a basement has an expected cost of 80000 + 2*30000 + 10000 + 40000 = 190000.  This value will be calculated with `get_expected_cost(2, 1, True)`.\n",
    "\n",
    "Remember you can always get a hint by uncommenting `q3.hint()` in the code cell following the next!"
   ]
  },
  {
   "cell_type": "code",
   "execution_count": 7,
   "id": "e10e942d",
   "metadata": {
    "execution": {
     "iopub.execute_input": "2023-01-19T00:38:49.144401Z",
     "iopub.status.busy": "2023-01-19T00:38:49.143974Z",
     "iopub.status.idle": "2023-01-19T00:38:49.153564Z",
     "shell.execute_reply": "2023-01-19T00:38:49.152198Z"
    },
    "papermill": {
     "duration": 0.021372,
     "end_time": "2023-01-19T00:38:49.156468",
     "exception": false,
     "start_time": "2023-01-19T00:38:49.135096",
     "status": "completed"
    },
    "tags": []
   },
   "outputs": [
    {
     "data": {
      "application/javascript": [
       "parent.postMessage({\"jupyterEvent\": \"custom.exercise_interaction\", \"data\": {\"outcomeType\": 1, \"valueTowardsCompletion\": 0.2, \"interactionType\": 1, \"questionType\": 2, \"questionId\": \"3_EstimateHouseValueBool\", \"learnToolsVersion\": \"0.3.4\", \"failureMessage\": \"\", \"exceptionClass\": \"\", \"trace\": \"\"}}, \"*\")"
      ],
      "text/plain": [
       "<IPython.core.display.Javascript object>"
      ]
     },
     "metadata": {},
     "output_type": "display_data"
    },
    {
     "data": {
      "text/markdown": [
       "<span style=\"color:#33cc33\">Correct</span>"
      ],
      "text/plain": [
       "Correct"
      ]
     },
     "metadata": {},
     "output_type": "display_data"
    }
   ],
   "source": [
    "# TODO: Complete the function\n",
    "def get_expected_cost(beds, baths, has_basement):\n",
    "    value = 80000 + (beds * 30000 + baths * 10000 + has_basement * 40000)\n",
    "    return value\n",
    "\n",
    "# Check your answer \n",
    "q3.check()"
   ]
  },
  {
   "cell_type": "code",
   "execution_count": 8,
   "id": "26f7b113",
   "metadata": {
    "execution": {
     "iopub.execute_input": "2023-01-19T00:38:49.175188Z",
     "iopub.status.busy": "2023-01-19T00:38:49.174398Z",
     "iopub.status.idle": "2023-01-19T00:38:49.179375Z",
     "shell.execute_reply": "2023-01-19T00:38:49.178452Z"
    },
    "papermill": {
     "duration": 0.017332,
     "end_time": "2023-01-19T00:38:49.181945",
     "exception": false,
     "start_time": "2023-01-19T00:38:49.164613",
     "status": "completed"
    },
    "tags": []
   },
   "outputs": [],
   "source": [
    "# Uncomment to see a hint\n",
    "#q3.hint()\n",
    "\n",
    "# Uncomment to view the solution\n",
    "#q3.solution()"
   ]
  },
  {
   "cell_type": "markdown",
   "id": "0e2e760d",
   "metadata": {
    "papermill": {
     "duration": 0.007253,
     "end_time": "2023-01-19T00:38:49.196802",
     "exception": false,
     "start_time": "2023-01-19T00:38:49.189549",
     "status": "completed"
    },
    "tags": []
   },
   "source": [
    "# Question 4\n",
    "\n",
    "We'll continue our study of boolean arithmetic.  For this question, your task is to provide a description of what happpens when you add booleans. \n",
    "\n",
    "Use the next code cell for your investigation.  Feel free to add or remove any lines of code - use it as your workspace!"
   ]
  },
  {
   "cell_type": "code",
   "execution_count": 9,
   "id": "14981d67",
   "metadata": {
    "execution": {
     "iopub.execute_input": "2023-01-19T00:38:49.214673Z",
     "iopub.status.busy": "2023-01-19T00:38:49.214167Z",
     "iopub.status.idle": "2023-01-19T00:38:49.222407Z",
     "shell.execute_reply": "2023-01-19T00:38:49.220736Z"
    },
    "papermill": {
     "duration": 0.021183,
     "end_time": "2023-01-19T00:38:49.226084",
     "exception": false,
     "start_time": "2023-01-19T00:38:49.204901",
     "status": "completed"
    },
    "tags": []
   },
   "outputs": [
    {
     "name": "stdout",
     "output_type": "stream",
     "text": [
      "0\n",
      "1\n",
      "1\n",
      "2\n",
      "3\n"
     ]
    }
   ],
   "source": [
    "print(False + False)\n",
    "print(True + False)\n",
    "print(False + True)\n",
    "print(True + True)\n",
    "print(False + True + True + True)"
   ]
  },
  {
   "cell_type": "markdown",
   "id": "365cec72",
   "metadata": {
    "papermill": {
     "duration": 0.00764,
     "end_time": "2023-01-19T00:38:49.241673",
     "exception": false,
     "start_time": "2023-01-19T00:38:49.234033",
     "status": "completed"
    },
    "tags": []
   },
   "source": [
    "Once you have an answer, run the code cell below to see the solution.  Viewing the solution will give you credit for answering the problem."
   ]
  },
  {
   "cell_type": "code",
   "execution_count": 10,
   "id": "3d1e737a",
   "metadata": {
    "execution": {
     "iopub.execute_input": "2023-01-19T00:38:49.260187Z",
     "iopub.status.busy": "2023-01-19T00:38:49.258894Z",
     "iopub.status.idle": "2023-01-19T00:38:49.267972Z",
     "shell.execute_reply": "2023-01-19T00:38:49.266983Z"
    },
    "papermill": {
     "duration": 0.020779,
     "end_time": "2023-01-19T00:38:49.270396",
     "exception": false,
     "start_time": "2023-01-19T00:38:49.249617",
     "status": "completed"
    },
    "tags": []
   },
   "outputs": [
    {
     "data": {
      "application/javascript": [
       "parent.postMessage({\"jupyterEvent\": \"custom.exercise_interaction\", \"data\": {\"outcomeType\": 1, \"valueTowardsCompletion\": 0.2, \"interactionType\": 1, \"questionType\": 4, \"questionId\": \"4_AddingBooleans\", \"learnToolsVersion\": \"0.3.4\", \"failureMessage\": \"\", \"exceptionClass\": \"\", \"trace\": \"\"}}, \"*\")"
      ],
      "text/plain": [
       "<IPython.core.display.Javascript object>"
      ]
     },
     "metadata": {},
     "output_type": "display_data"
    },
    {
     "data": {
      "text/markdown": [
       "<span style=\"color:#33cc33\">Correct:</span> \n",
       "\n",
       "When you add booleans, adding `False` is equivalent to adding 0, and adding `True` is equivalent to adding 1."
      ],
      "text/plain": [
       "Correct: \n",
       "\n",
       "When you add booleans, adding `False` is equivalent to adding 0, and adding `True` is equivalent to adding 1."
      ]
     },
     "metadata": {},
     "output_type": "display_data"
    }
   ],
   "source": [
    "# Check your answer (Run this code cell to receive credit!)\n",
    "q4.check()"
   ]
  },
  {
   "cell_type": "markdown",
   "id": "0f2e33d3",
   "metadata": {
    "papermill": {
     "duration": 0.007607,
     "end_time": "2023-01-19T00:38:49.286225",
     "exception": false,
     "start_time": "2023-01-19T00:38:49.278618",
     "status": "completed"
    },
    "tags": []
   },
   "source": [
    "# 🌶️ Question 5\n",
    "\n",
    "You own an online shop where you sell rings with custom engravings.  You offer both gold plated and solid gold rings.\n",
    "- Gold plated rings have a base cost of \\\\$50, and you charge \\\\$7 per engraved unit.  \n",
    "- Solid gold rings have a base cost of \\\\$100, and you charge \\\\$10 per engraved unit.\n",
    "- Spaces and punctuation are counted as engraved units.\n",
    "\n",
    "Write a function `cost_of_project()` that takes two arguments:\n",
    "- `engraving` - a Python string with the text of the engraving\n",
    "- `solid_gold` - a Boolean that indicates whether the ring is solid gold\n",
    "\n",
    "It should return the cost of the project.  This question should be fairly challenging, and you may need a hint."
   ]
  },
  {
   "cell_type": "code",
   "execution_count": 11,
   "id": "b292ccf3",
   "metadata": {
    "execution": {
     "iopub.execute_input": "2023-01-19T00:38:49.306538Z",
     "iopub.status.busy": "2023-01-19T00:38:49.305059Z",
     "iopub.status.idle": "2023-01-19T00:38:49.316522Z",
     "shell.execute_reply": "2023-01-19T00:38:49.315283Z"
    },
    "papermill": {
     "duration": 0.02481,
     "end_time": "2023-01-19T00:38:49.319524",
     "exception": false,
     "start_time": "2023-01-19T00:38:49.294714",
     "status": "completed"
    },
    "tags": []
   },
   "outputs": [
    {
     "data": {
      "application/javascript": [
       "parent.postMessage({\"jupyterEvent\": \"custom.exercise_interaction\", \"data\": {\"outcomeType\": 1, \"valueTowardsCompletion\": 0.2, \"interactionType\": 1, \"questionType\": 2, \"questionId\": \"5_CustomEngravings\", \"learnToolsVersion\": \"0.3.4\", \"failureMessage\": \"\", \"exceptionClass\": \"\", \"trace\": \"\"}}, \"*\")"
      ],
      "text/plain": [
       "<IPython.core.display.Javascript object>"
      ]
     },
     "metadata": {},
     "output_type": "display_data"
    },
    {
     "data": {
      "text/markdown": [
       "<span style=\"color:#33cc33\">Correct</span>"
      ],
      "text/plain": [
       "Correct"
      ]
     },
     "metadata": {},
     "output_type": "display_data"
    }
   ],
   "source": [
    "def cost_of_project(engraving, solid_gold):\n",
    "    cost = solid_gold*(100 + len(engraving)*10) + (not solid_gold)*(50 + len(engraving)*7) \n",
    "    return cost\n",
    " \n",
    "# Check your answer\n",
    "q5.check()"
   ]
  },
  {
   "cell_type": "code",
   "execution_count": 12,
   "id": "0828cd94",
   "metadata": {
    "execution": {
     "iopub.execute_input": "2023-01-19T00:38:49.339362Z",
     "iopub.status.busy": "2023-01-19T00:38:49.338907Z",
     "iopub.status.idle": "2023-01-19T00:38:49.348996Z",
     "shell.execute_reply": "2023-01-19T00:38:49.347726Z"
    },
    "papermill": {
     "duration": 0.023041,
     "end_time": "2023-01-19T00:38:49.351573",
     "exception": false,
     "start_time": "2023-01-19T00:38:49.328532",
     "status": "completed"
    },
    "tags": []
   },
   "outputs": [
    {
     "data": {
      "application/javascript": [
       "parent.postMessage({\"jupyterEvent\": \"custom.exercise_interaction\", \"data\": {\"interactionType\": 2, \"questionType\": 2, \"questionId\": \"5_CustomEngravings\", \"learnToolsVersion\": \"0.3.4\", \"valueTowardsCompletion\": 0.0, \"failureMessage\": \"\", \"exceptionClass\": \"\", \"trace\": \"\", \"outcomeType\": 4}}, \"*\")"
      ],
      "text/plain": [
       "<IPython.core.display.Javascript object>"
      ]
     },
     "metadata": {},
     "output_type": "display_data"
    },
    {
     "data": {
      "text/markdown": [
       "<span style=\"color:#3366cc\">Hint:</span> There are two options - either the project uses solid gold or does not.  With this in mind, you can structure your solution like this: `cost = solid_gold * ____ + (not_solid_gold) * ____`.  You need to figure out how to fill in the blanks. Also, remember that:\n",
       "- If `solid_gold = True`, then `(not solid_gold) = False`, and if `solid_gold = False`, then `(not solid_gold) = True`.\n",
       "- Multiplying an integer by `True` is equivalent to multiplying it by 1, and multiplying an integer by `False` is equivalent to multiplying it by 0."
      ],
      "text/plain": [
       "Hint: There are two options - either the project uses solid gold or does not.  With this in mind, you can structure your solution like this: `cost = solid_gold * ____ + (not_solid_gold) * ____`.  You need to figure out how to fill in the blanks. Also, remember that:\n",
       "- If `solid_gold = True`, then `(not solid_gold) = False`, and if `solid_gold = False`, then `(not solid_gold) = True`.\n",
       "- Multiplying an integer by `True` is equivalent to multiplying it by 1, and multiplying an integer by `False` is equivalent to multiplying it by 0."
      ]
     },
     "metadata": {},
     "output_type": "display_data"
    }
   ],
   "source": [
    "# Uncomment to see a hint\n",
    "q5.hint()\n",
    "\n",
    "# Uncomment to view the solution\n",
    "#q5.solution()"
   ]
  },
  {
   "cell_type": "markdown",
   "id": "3c3b29b1",
   "metadata": {
    "papermill": {
     "duration": 0.007944,
     "end_time": "2023-01-19T00:38:49.368177",
     "exception": false,
     "start_time": "2023-01-19T00:38:49.360233",
     "status": "completed"
    },
    "tags": []
   },
   "source": [
    "Run the next code cell to calculate the cost of engraving `Charlie+Denver` on a solid gold ring."
   ]
  },
  {
   "cell_type": "code",
   "execution_count": 13,
   "id": "0bd03213",
   "metadata": {
    "execution": {
     "iopub.execute_input": "2023-01-19T00:38:49.387008Z",
     "iopub.status.busy": "2023-01-19T00:38:49.386599Z",
     "iopub.status.idle": "2023-01-19T00:38:49.392758Z",
     "shell.execute_reply": "2023-01-19T00:38:49.391225Z"
    },
    "papermill": {
     "duration": 0.018991,
     "end_time": "2023-01-19T00:38:49.395847",
     "exception": false,
     "start_time": "2023-01-19T00:38:49.376856",
     "status": "completed"
    },
    "tags": []
   },
   "outputs": [
    {
     "name": "stdout",
     "output_type": "stream",
     "text": [
      "240\n"
     ]
    }
   ],
   "source": [
    "project_one = cost_of_project(\"Charlie+Denver\", True)\n",
    "print(project_one)"
   ]
  },
  {
   "cell_type": "markdown",
   "id": "e9b60f94",
   "metadata": {
    "papermill": {
     "duration": 0.008198,
     "end_time": "2023-01-19T00:38:49.414264",
     "exception": false,
     "start_time": "2023-01-19T00:38:49.406066",
     "status": "completed"
    },
    "tags": []
   },
   "source": [
    "Use the next code cell to calculate the cost of engraving `08/10/2000` on a gold plated ring."
   ]
  },
  {
   "cell_type": "code",
   "execution_count": 14,
   "id": "6616a136",
   "metadata": {
    "execution": {
     "iopub.execute_input": "2023-01-19T00:38:49.434659Z",
     "iopub.status.busy": "2023-01-19T00:38:49.434223Z",
     "iopub.status.idle": "2023-01-19T00:38:49.440134Z",
     "shell.execute_reply": "2023-01-19T00:38:49.438713Z"
    },
    "papermill": {
     "duration": 0.020387,
     "end_time": "2023-01-19T00:38:49.443542",
     "exception": false,
     "start_time": "2023-01-19T00:38:49.423155",
     "status": "completed"
    },
    "tags": []
   },
   "outputs": [
    {
     "name": "stdout",
     "output_type": "stream",
     "text": [
      "120\n"
     ]
    }
   ],
   "source": [
    "project_two = cost_of_project(\"08/10/2000\", False)\n",
    "print(project_two)"
   ]
  },
  {
   "cell_type": "markdown",
   "id": "c5e261eb",
   "metadata": {
    "papermill": {
     "duration": 0.008245,
     "end_time": "2023-01-19T00:38:49.461017",
     "exception": false,
     "start_time": "2023-01-19T00:38:49.452772",
     "status": "completed"
    },
    "tags": []
   },
   "source": [
    "# Keep going\n",
    "\n",
    "Continue to the next lesson to **[learn about conditions and conditional statements](https://www.kaggle.com/alexisbcook/conditions-and-conditional-statements)**."
   ]
  },
  {
   "cell_type": "markdown",
   "id": "71482cbd",
   "metadata": {
    "papermill": {
     "duration": 0.008287,
     "end_time": "2023-01-19T00:38:49.478043",
     "exception": false,
     "start_time": "2023-01-19T00:38:49.469756",
     "status": "completed"
    },
    "tags": []
   },
   "source": [
    "---\n",
    "\n",
    "\n",
    "\n",
    "\n",
    "*Have questions or comments? Visit the [course discussion forum](https://www.kaggle.com/learn/intro-to-programming/discussion) to chat with other learners.*"
   ]
  }
 ],
 "metadata": {
  "kernelspec": {
   "display_name": "Python 3",
   "language": "python",
   "name": "python3"
  },
  "language_info": {
   "codemirror_mode": {
    "name": "ipython",
    "version": 3
   },
   "file_extension": ".py",
   "mimetype": "text/x-python",
   "name": "python",
   "nbconvert_exporter": "python",
   "pygments_lexer": "ipython3",
   "version": "3.7.12"
  },
  "papermill": {
   "default_parameters": {},
   "duration": 11.212526,
   "end_time": "2023-01-19T00:38:50.209128",
   "environment_variables": {},
   "exception": null,
   "input_path": "__notebook__.ipynb",
   "output_path": "__notebook__.ipynb",
   "parameters": {},
   "start_time": "2023-01-19T00:38:38.996602",
   "version": "2.3.4"
  }
 },
 "nbformat": 4,
 "nbformat_minor": 5
}
