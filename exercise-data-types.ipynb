{
 "cells": [
  {
   "cell_type": "markdown",
   "id": "ea89e3df",
   "metadata": {
    "papermill": {
     "duration": 0.009005,
     "end_time": "2023-01-19T00:00:17.140640",
     "exception": false,
     "start_time": "2023-01-19T00:00:17.131635",
     "status": "completed"
    },
    "tags": []
   },
   "source": [
    "**This notebook is an exercise in the [Intro to Programming](https://www.kaggle.com/learn/intro-to-programming) course.  You can reference the tutorial at [this link](https://www.kaggle.com/alexisbcook/data-types).**\n",
    "\n",
    "---\n"
   ]
  },
  {
   "cell_type": "markdown",
   "id": "7b022656",
   "metadata": {
    "papermill": {
     "duration": 0.006323,
     "end_time": "2023-01-19T00:00:17.154183",
     "exception": false,
     "start_time": "2023-01-19T00:00:17.147860",
     "status": "completed"
    },
    "tags": []
   },
   "source": [
    "In the tutorial, you learned about four different data types: floats, integers, strings, and booleans.  In this exercise, you'll experiment with them.\n",
    "\n",
    "# Set up the notebook\n",
    "\n",
    "Run the next code cell without changes to set up the notebook."
   ]
  },
  {
   "cell_type": "code",
   "execution_count": 1,
   "id": "9ae12da7",
   "metadata": {
    "execution": {
     "iopub.execute_input": "2023-01-19T00:00:17.168843Z",
     "iopub.status.busy": "2023-01-19T00:00:17.168411Z",
     "iopub.status.idle": "2023-01-19T00:00:17.227974Z",
     "shell.execute_reply": "2023-01-19T00:00:17.226201Z"
    },
    "papermill": {
     "duration": 0.070304,
     "end_time": "2023-01-19T00:00:17.230872",
     "exception": false,
     "start_time": "2023-01-19T00:00:17.160568",
     "status": "completed"
    },
    "tags": []
   },
   "outputs": [
    {
     "name": "stdout",
     "output_type": "stream",
     "text": [
      "Setup complete.\n"
     ]
    }
   ],
   "source": [
    "# Set up the exercise\n",
    "from learntools.core import binder\n",
    "binder.bind(globals())\n",
    "from learntools.intro_to_programming.ex3 import *\n",
    "print('Setup complete.')"
   ]
  },
  {
   "cell_type": "markdown",
   "id": "c8fad109",
   "metadata": {
    "papermill": {
     "duration": 0.006123,
     "end_time": "2023-01-19T00:00:17.243717",
     "exception": false,
     "start_time": "2023-01-19T00:00:17.237594",
     "status": "completed"
    },
    "tags": []
   },
   "source": [
    "# Question 1\n",
    "\n",
    "You have seen how to convert a float to an integer with the `int` function.  Try this out yourself by running the code cell below."
   ]
  },
  {
   "cell_type": "code",
   "execution_count": 2,
   "id": "6ea4d910",
   "metadata": {
    "execution": {
     "iopub.execute_input": "2023-01-19T00:00:17.258475Z",
     "iopub.status.busy": "2023-01-19T00:00:17.258000Z",
     "iopub.status.idle": "2023-01-19T00:00:17.264785Z",
     "shell.execute_reply": "2023-01-19T00:00:17.263247Z"
    },
    "papermill": {
     "duration": 0.018143,
     "end_time": "2023-01-19T00:00:17.268192",
     "exception": false,
     "start_time": "2023-01-19T00:00:17.250049",
     "status": "completed"
    },
    "tags": []
   },
   "outputs": [
    {
     "name": "stdout",
     "output_type": "stream",
     "text": [
      "1.0\n",
      "<class 'float'>\n",
      "1\n",
      "<class 'int'>\n"
     ]
    }
   ],
   "source": [
    "# Define a float\n",
    "y = 1.\n",
    "print(y)\n",
    "print(type(y))\n",
    "\n",
    "# Convert float to integer with the int function\n",
    "z = int(y)\n",
    "print(z)\n",
    "print(type(z))"
   ]
  },
  {
   "cell_type": "markdown",
   "id": "00026754",
   "metadata": {
    "papermill": {
     "duration": 0.006331,
     "end_time": "2023-01-19T00:00:17.281845",
     "exception": false,
     "start_time": "2023-01-19T00:00:17.275514",
     "status": "completed"
    },
    "tags": []
   },
   "source": [
    "In this case, the float you are using has no numbers after the decimal.  \n",
    "- But what happens when you try to convert a float with a fractional part to an integer?  \n",
    "- How does the outcome of the `int` function change for positive and negative numbers?\n",
    "\n",
    "Use the next code cell to investigate and answer these questions.  Feel free to add or remove any lines of code -- it is your workspace!"
   ]
  },
  {
   "cell_type": "code",
   "execution_count": 3,
   "id": "3834e7eb",
   "metadata": {
    "execution": {
     "iopub.execute_input": "2023-01-19T00:00:17.297440Z",
     "iopub.status.busy": "2023-01-19T00:00:17.296672Z",
     "iopub.status.idle": "2023-01-19T00:00:17.301691Z",
     "shell.execute_reply": "2023-01-19T00:00:17.300508Z"
    },
    "papermill": {
     "duration": 0.015613,
     "end_time": "2023-01-19T00:00:17.304217",
     "exception": false,
     "start_time": "2023-01-19T00:00:17.288604",
     "status": "completed"
    },
    "tags": []
   },
   "outputs": [],
   "source": [
    "# Uncomment and run this code to get started!\n",
    "#print(int(1.2321))\n",
    "#print(int(1.747))\n",
    "#print(int(-3.94535))\n",
    "#print(int(-2.19774))"
   ]
  },
  {
   "cell_type": "markdown",
   "id": "2f89de68",
   "metadata": {
    "papermill": {
     "duration": 0.008021,
     "end_time": "2023-01-19T00:00:17.319213",
     "exception": false,
     "start_time": "2023-01-19T00:00:17.311192",
     "status": "completed"
    },
    "tags": []
   },
   "source": [
    "Once you have an answer, run the code cell below to see the solution.  Viewing the solution will give you credit for answering the problem."
   ]
  },
  {
   "cell_type": "code",
   "execution_count": 4,
   "id": "b57cd6fe",
   "metadata": {
    "execution": {
     "iopub.execute_input": "2023-01-19T00:00:17.335422Z",
     "iopub.status.busy": "2023-01-19T00:00:17.335010Z",
     "iopub.status.idle": "2023-01-19T00:00:17.346322Z",
     "shell.execute_reply": "2023-01-19T00:00:17.345104Z"
    },
    "papermill": {
     "duration": 0.022335,
     "end_time": "2023-01-19T00:00:17.348938",
     "exception": false,
     "start_time": "2023-01-19T00:00:17.326603",
     "status": "completed"
    },
    "tags": []
   },
   "outputs": [
    {
     "data": {
      "application/javascript": [
       "parent.postMessage({\"jupyterEvent\": \"custom.exercise_interaction\", \"data\": {\"outcomeType\": 1, \"valueTowardsCompletion\": 0.2, \"interactionType\": 1, \"questionType\": 4, \"questionId\": \"1_FloatToInt\", \"learnToolsVersion\": \"0.3.4\", \"failureMessage\": \"\", \"exceptionClass\": \"\", \"trace\": \"\"}}, \"*\")"
      ],
      "text/plain": [
       "<IPython.core.display.Javascript object>"
      ]
     },
     "metadata": {},
     "output_type": "display_data"
    },
    {
     "data": {
      "text/markdown": [
       "<span style=\"color:#33cc33\">Correct:</span> \n",
       "\n",
       "Negative floats are always rounded UP to the closest integer (for instance, both -1.1 and -1.9 are rounded up to -1). Positive floats are always rounded DOWN to the closest integer (for instance, 2.1 and 2.9 are rounded down to 2)."
      ],
      "text/plain": [
       "Correct: \n",
       "\n",
       "Negative floats are always rounded UP to the closest integer (for instance, both -1.1 and -1.9 are rounded up to -1). Positive floats are always rounded DOWN to the closest integer (for instance, 2.1 and 2.9 are rounded down to 2)."
      ]
     },
     "metadata": {},
     "output_type": "display_data"
    }
   ],
   "source": [
    "# Check your answer (Run this code cell to receive credit!)\n",
    "q1.check()"
   ]
  },
  {
   "cell_type": "markdown",
   "id": "80e266f7",
   "metadata": {
    "papermill": {
     "duration": 0.006754,
     "end_time": "2023-01-19T00:00:17.362623",
     "exception": false,
     "start_time": "2023-01-19T00:00:17.355869",
     "status": "completed"
    },
    "tags": []
   },
   "source": [
    "# Question 2\n",
    "\n",
    "In the tutorial, you learned about booleans (which can take a value of `True` or `False`), in addition to integers, floats, and strings.  For this question, your goal is to determine what happens when you multiply a boolean by any of these data types.  Specifically, \n",
    "- What happens when you multiply an integer or float by `True`?  What happens when you multiply them by `False`?  How does the answer change if the numbers are positive or negative?\n",
    "- What happens when you multiply a string by `True`?  By `False`?\n",
    "\n",
    "Use the next code cell for your investigation. "
   ]
  },
  {
   "cell_type": "code",
   "execution_count": 5,
   "id": "6c63fa5a",
   "metadata": {
    "execution": {
     "iopub.execute_input": "2023-01-19T00:00:17.378467Z",
     "iopub.status.busy": "2023-01-19T00:00:17.378007Z",
     "iopub.status.idle": "2023-01-19T00:00:17.384556Z",
     "shell.execute_reply": "2023-01-19T00:00:17.383231Z"
    },
    "papermill": {
     "duration": 0.017419,
     "end_time": "2023-01-19T00:00:17.386901",
     "exception": false,
     "start_time": "2023-01-19T00:00:17.369482",
     "status": "completed"
    },
    "tags": []
   },
   "outputs": [
    {
     "name": "stdout",
     "output_type": "stream",
     "text": [
      "3\n",
      "-3.1\n",
      "<class 'str'>\n",
      "0\n"
     ]
    }
   ],
   "source": [
    "# Uncomment and run this code to get started!\n",
    "print(3 * True)\n",
    "print(-3.1 * True)\n",
    "print(type(\"abc\" * False))\n",
    "print(len(\"abc\" * False))"
   ]
  },
  {
   "cell_type": "markdown",
   "id": "d9c7ec36",
   "metadata": {
    "papermill": {
     "duration": 0.006562,
     "end_time": "2023-01-19T00:00:17.400456",
     "exception": false,
     "start_time": "2023-01-19T00:00:17.393894",
     "status": "completed"
    },
    "tags": []
   },
   "source": [
    "Once you have an answer, run the code cell below to see the solution.  Viewing the solution will give you credit for answering the problem."
   ]
  },
  {
   "cell_type": "code",
   "execution_count": 6,
   "id": "374c00b1",
   "metadata": {
    "execution": {
     "iopub.execute_input": "2023-01-19T00:00:17.415938Z",
     "iopub.status.busy": "2023-01-19T00:00:17.415500Z",
     "iopub.status.idle": "2023-01-19T00:00:17.424397Z",
     "shell.execute_reply": "2023-01-19T00:00:17.423515Z"
    },
    "papermill": {
     "duration": 0.019554,
     "end_time": "2023-01-19T00:00:17.426789",
     "exception": false,
     "start_time": "2023-01-19T00:00:17.407235",
     "status": "completed"
    },
    "tags": []
   },
   "outputs": [
    {
     "data": {
      "application/javascript": [
       "parent.postMessage({\"jupyterEvent\": \"custom.exercise_interaction\", \"data\": {\"outcomeType\": 1, \"valueTowardsCompletion\": 0.2, \"interactionType\": 1, \"questionType\": 4, \"questionId\": \"2_MultiplyBooleans\", \"learnToolsVersion\": \"0.3.4\", \"failureMessage\": \"\", \"exceptionClass\": \"\", \"trace\": \"\"}}, \"*\")"
      ],
      "text/plain": [
       "<IPython.core.display.Javascript object>"
      ]
     },
     "metadata": {},
     "output_type": "display_data"
    },
    {
     "data": {
      "text/markdown": [
       "<span style=\"color:#33cc33\">Correct:</span> \n",
       "\n",
       "When you multiple an integer or float by a boolean with value `True`, it just returns that same integer or float (and is equivalent to multiplying by 1).  If you multiply an integer or float by a boolean with value `False`, it always returns 0.  This is true for both positive and negative numbers.  If you multiply a string by a boolean with value `True`, it just returns that same string.  And if you multiply a string by a boolean with value `False`, it returns an empty string (or a string with length zero)."
      ],
      "text/plain": [
       "Correct: \n",
       "\n",
       "When you multiple an integer or float by a boolean with value `True`, it just returns that same integer or float (and is equivalent to multiplying by 1).  If you multiply an integer or float by a boolean with value `False`, it always returns 0.  This is true for both positive and negative numbers.  If you multiply a string by a boolean with value `True`, it just returns that same string.  And if you multiply a string by a boolean with value `False`, it returns an empty string (or a string with length zero)."
      ]
     },
     "metadata": {},
     "output_type": "display_data"
    }
   ],
   "source": [
    "# Check your answer (Run this code cell to receive credit!)\n",
    "q2.check()"
   ]
  },
  {
   "cell_type": "markdown",
   "id": "ba3baa40",
   "metadata": {
    "papermill": {
     "duration": 0.00723,
     "end_time": "2023-01-19T00:00:17.441227",
     "exception": false,
     "start_time": "2023-01-19T00:00:17.433997",
     "status": "completed"
    },
    "tags": []
   },
   "source": [
    "# Question 3\n",
    "\n",
    "In this question, you will build off your work from the previous exercise to write a function that estimates the value of a house.\n",
    "\n",
    "Use the next code cell to create a function `get_expected_cost` that takes as input three variables:\n",
    "- `beds` - number of bedrooms (data type float)\n",
    "- `baths` - number of bathrooms (data type float)\n",
    "- `has_basement` - whether or not the house has a basement (data type boolean)\n",
    "\n",
    "It should return the expected cost of a house with those characteristics. Assume that:\n",
    "- the expected cost for a house with 0 bedrooms and 0 bathrooms, and no basement is 80000, \n",
    "- each bedroom adds 30000 to the expected cost,\n",
    "- each bathroom adds 10000 to the expected cost, and\n",
    "- a basement adds 40000 to the expected cost.\n",
    "\n",
    "For instance,\n",
    "- a house with 1 bedroom, 1 bathroom, and no basement has an expected cost of 80000 + 30000 + 10000 = 120000.  This value will be calculated with `get_expected_cost(1, 1, False)`.\n",
    "- a house with 2 bedrooms, 1 bathroom, and a basement has an expected cost of 80000 + 2*30000 + 10000 + 40000 = 190000.  This value will be calculated with `get_expected_cost(2, 1, True)`.\n",
    "\n",
    "Remember you can always get a hint by uncommenting `q3.hint()` in the code cell following the next!"
   ]
  },
  {
   "cell_type": "code",
   "execution_count": 7,
   "id": "ac21a853",
   "metadata": {
    "execution": {
     "iopub.execute_input": "2023-01-19T00:00:17.457514Z",
     "iopub.status.busy": "2023-01-19T00:00:17.456974Z",
     "iopub.status.idle": "2023-01-19T00:00:17.466529Z",
     "shell.execute_reply": "2023-01-19T00:00:17.465583Z"
    },
    "papermill": {
     "duration": 0.0209,
     "end_time": "2023-01-19T00:00:17.469355",
     "exception": false,
     "start_time": "2023-01-19T00:00:17.448455",
     "status": "completed"
    },
    "tags": []
   },
   "outputs": [
    {
     "data": {
      "application/javascript": [
       "parent.postMessage({\"jupyterEvent\": \"custom.exercise_interaction\", \"data\": {\"outcomeType\": 2, \"failureMessage\": \"Expected return value of `120000` given `beds=1`, `baths=1`, `has_basement=False`, but got `<learntools.core.constants.PlaceholderValue object at 0x7ff2ed794250>` instead.\", \"interactionType\": 1, \"questionType\": 2, \"questionId\": \"3_EstimateHouseValueBool\", \"learnToolsVersion\": \"0.3.4\", \"valueTowardsCompletion\": 0.0, \"exceptionClass\": \"\", \"trace\": \"\"}}, \"*\")"
      ],
      "text/plain": [
       "<IPython.core.display.Javascript object>"
      ]
     },
     "metadata": {},
     "output_type": "display_data"
    },
    {
     "data": {
      "text/markdown": [
       "<span style=\"color:#cc3333\">Incorrect:</span> Expected return value of `120000` given `beds=1`, `baths=1`, `has_basement=False`, but got `<learntools.core.constants.PlaceholderValue object at 0x7ff2ed794250>` instead."
      ],
      "text/plain": [
       "Incorrect: Expected return value of `120000` given `beds=1`, `baths=1`, `has_basement=False`, but got `<learntools.core.constants.PlaceholderValue object at 0x7ff2ed794250>` instead."
      ]
     },
     "metadata": {},
     "output_type": "display_data"
    }
   ],
   "source": [
    "# TODO: Complete the function\n",
    "def get_expected_cost(beds, baths, has_basement):\n",
    "    value = ____\n",
    "    return value\n",
    "\n",
    "# Check your answer \n",
    "q3.check()"
   ]
  },
  {
   "cell_type": "code",
   "execution_count": 8,
   "id": "bd3011c8",
   "metadata": {
    "execution": {
     "iopub.execute_input": "2023-01-19T00:00:17.486901Z",
     "iopub.status.busy": "2023-01-19T00:00:17.485637Z",
     "iopub.status.idle": "2023-01-19T00:00:17.491208Z",
     "shell.execute_reply": "2023-01-19T00:00:17.490078Z"
    },
    "papermill": {
     "duration": 0.016715,
     "end_time": "2023-01-19T00:00:17.493632",
     "exception": false,
     "start_time": "2023-01-19T00:00:17.476917",
     "status": "completed"
    },
    "tags": []
   },
   "outputs": [],
   "source": [
    "# Uncomment to see a hint\n",
    "#q3.hint()\n",
    "\n",
    "# Uncomment to view the solution\n",
    "#q3.solution()"
   ]
  },
  {
   "cell_type": "markdown",
   "id": "2d3af5ae",
   "metadata": {
    "papermill": {
     "duration": 0.006913,
     "end_time": "2023-01-19T00:00:17.508065",
     "exception": false,
     "start_time": "2023-01-19T00:00:17.501152",
     "status": "completed"
    },
    "tags": []
   },
   "source": [
    "# Question 4\n",
    "\n",
    "We'll continue our study of boolean arithmetic.  For this question, your task is to provide a description of what happpens when you add booleans. \n",
    "\n",
    "Use the next code cell for your investigation.  Feel free to add or remove any lines of code - use it as your workspace!"
   ]
  },
  {
   "cell_type": "code",
   "execution_count": 9,
   "id": "af402061",
   "metadata": {
    "execution": {
     "iopub.execute_input": "2023-01-19T00:00:17.524856Z",
     "iopub.status.busy": "2023-01-19T00:00:17.524460Z",
     "iopub.status.idle": "2023-01-19T00:00:17.530687Z",
     "shell.execute_reply": "2023-01-19T00:00:17.529448Z"
    },
    "papermill": {
     "duration": 0.01831,
     "end_time": "2023-01-19T00:00:17.534110",
     "exception": false,
     "start_time": "2023-01-19T00:00:17.515800",
     "status": "completed"
    },
    "tags": []
   },
   "outputs": [
    {
     "name": "stdout",
     "output_type": "stream",
     "text": [
      "0\n",
      "1\n",
      "1\n",
      "2\n",
      "3\n"
     ]
    }
   ],
   "source": [
    "print(False + False)\n",
    "print(True + False)\n",
    "print(False + True)\n",
    "print(True + True)\n",
    "print(False + True + True + True)"
   ]
  },
  {
   "cell_type": "markdown",
   "id": "a226fb00",
   "metadata": {
    "papermill": {
     "duration": 0.007565,
     "end_time": "2023-01-19T00:00:17.550053",
     "exception": false,
     "start_time": "2023-01-19T00:00:17.542488",
     "status": "completed"
    },
    "tags": []
   },
   "source": [
    "Once you have an answer, run the code cell below to see the solution.  Viewing the solution will give you credit for answering the problem."
   ]
  },
  {
   "cell_type": "code",
   "execution_count": 10,
   "id": "5ee1d0dd",
   "metadata": {
    "execution": {
     "iopub.execute_input": "2023-01-19T00:00:17.567744Z",
     "iopub.status.busy": "2023-01-19T00:00:17.567270Z",
     "iopub.status.idle": "2023-01-19T00:00:17.578109Z",
     "shell.execute_reply": "2023-01-19T00:00:17.576690Z"
    },
    "papermill": {
     "duration": 0.023233,
     "end_time": "2023-01-19T00:00:17.580968",
     "exception": false,
     "start_time": "2023-01-19T00:00:17.557735",
     "status": "completed"
    },
    "tags": []
   },
   "outputs": [
    {
     "data": {
      "application/javascript": [
       "parent.postMessage({\"jupyterEvent\": \"custom.exercise_interaction\", \"data\": {\"outcomeType\": 1, \"valueTowardsCompletion\": 0.2, \"interactionType\": 1, \"questionType\": 4, \"questionId\": \"4_AddingBooleans\", \"learnToolsVersion\": \"0.3.4\", \"failureMessage\": \"\", \"exceptionClass\": \"\", \"trace\": \"\"}}, \"*\")"
      ],
      "text/plain": [
       "<IPython.core.display.Javascript object>"
      ]
     },
     "metadata": {},
     "output_type": "display_data"
    },
    {
     "data": {
      "text/markdown": [
       "<span style=\"color:#33cc33\">Correct:</span> \n",
       "\n",
       "When you add booleans, adding `False` is equivalent to adding 0, and adding `True` is equivalent to adding 1."
      ],
      "text/plain": [
       "Correct: \n",
       "\n",
       "When you add booleans, adding `False` is equivalent to adding 0, and adding `True` is equivalent to adding 1."
      ]
     },
     "metadata": {},
     "output_type": "display_data"
    }
   ],
   "source": [
    "# Check your answer (Run this code cell to receive credit!)\n",
    "q4.check()"
   ]
  },
  {
   "cell_type": "markdown",
   "id": "4a096896",
   "metadata": {
    "papermill": {
     "duration": 0.007439,
     "end_time": "2023-01-19T00:00:17.596453",
     "exception": false,
     "start_time": "2023-01-19T00:00:17.589014",
     "status": "completed"
    },
    "tags": []
   },
   "source": [
    "# 🌶️ Question 5\n",
    "\n",
    "You own an online shop where you sell rings with custom engravings.  You offer both gold plated and solid gold rings.\n",
    "- Gold plated rings have a base cost of \\\\$50, and you charge \\\\$7 per engraved unit.  \n",
    "- Solid gold rings have a base cost of \\\\$100, and you charge \\\\$10 per engraved unit.\n",
    "- Spaces and punctuation are counted as engraved units.\n",
    "\n",
    "Write a function `cost_of_project()` that takes two arguments:\n",
    "- `engraving` - a Python string with the text of the engraving\n",
    "- `solid_gold` - a Boolean that indicates whether the ring is solid gold\n",
    "\n",
    "It should return the cost of the project.  This question should be fairly challenging, and you may need a hint."
   ]
  },
  {
   "cell_type": "code",
   "execution_count": 11,
   "id": "d044b570",
   "metadata": {
    "execution": {
     "iopub.execute_input": "2023-01-19T00:00:17.613544Z",
     "iopub.status.busy": "2023-01-19T00:00:17.613129Z",
     "iopub.status.idle": "2023-01-19T00:00:17.622335Z",
     "shell.execute_reply": "2023-01-19T00:00:17.621443Z"
    },
    "papermill": {
     "duration": 0.020538,
     "end_time": "2023-01-19T00:00:17.624728",
     "exception": false,
     "start_time": "2023-01-19T00:00:17.604190",
     "status": "completed"
    },
    "tags": []
   },
   "outputs": [
    {
     "data": {
      "application/javascript": [
       "parent.postMessage({\"jupyterEvent\": \"custom.exercise_interaction\", \"data\": {\"outcomeType\": 2, \"failureMessage\": \"Expected return value of `240` given `engraving='Charlie+Denver'`, `solid_gold=True`, but got `<learntools.core.constants.PlaceholderValue object at 0x7ff2ed794250>` instead.\", \"interactionType\": 1, \"questionType\": 2, \"questionId\": \"5_CustomEngravings\", \"learnToolsVersion\": \"0.3.4\", \"valueTowardsCompletion\": 0.0, \"exceptionClass\": \"\", \"trace\": \"\"}}, \"*\")"
      ],
      "text/plain": [
       "<IPython.core.display.Javascript object>"
      ]
     },
     "metadata": {},
     "output_type": "display_data"
    },
    {
     "data": {
      "text/markdown": [
       "<span style=\"color:#cc3333\">Incorrect:</span> Expected return value of `240` given `engraving='Charlie+Denver'`, `solid_gold=True`, but got `<learntools.core.constants.PlaceholderValue object at 0x7ff2ed794250>` instead."
      ],
      "text/plain": [
       "Incorrect: Expected return value of `240` given `engraving='Charlie+Denver'`, `solid_gold=True`, but got `<learntools.core.constants.PlaceholderValue object at 0x7ff2ed794250>` instead."
      ]
     },
     "metadata": {},
     "output_type": "display_data"
    }
   ],
   "source": [
    "def cost_of_project(engraving, solid_gold):\n",
    "    cost = ____\n",
    "    return cost\n",
    "\n",
    "# Check your answer\n",
    "q5.check()"
   ]
  },
  {
   "cell_type": "code",
   "execution_count": 12,
   "id": "386174d8",
   "metadata": {
    "execution": {
     "iopub.execute_input": "2023-01-19T00:00:17.642693Z",
     "iopub.status.busy": "2023-01-19T00:00:17.642309Z",
     "iopub.status.idle": "2023-01-19T00:00:17.646188Z",
     "shell.execute_reply": "2023-01-19T00:00:17.645237Z"
    },
    "papermill": {
     "duration": 0.015537,
     "end_time": "2023-01-19T00:00:17.648419",
     "exception": false,
     "start_time": "2023-01-19T00:00:17.632882",
     "status": "completed"
    },
    "tags": []
   },
   "outputs": [],
   "source": [
    "# Uncomment to see a hint\n",
    "#q5.hint()\n",
    "\n",
    "# Uncomment to view the solution\n",
    "#q5.solution()"
   ]
  },
  {
   "cell_type": "markdown",
   "id": "af92376d",
   "metadata": {
    "papermill": {
     "duration": 0.007417,
     "end_time": "2023-01-19T00:00:17.663639",
     "exception": false,
     "start_time": "2023-01-19T00:00:17.656222",
     "status": "completed"
    },
    "tags": []
   },
   "source": [
    "Run the next code cell to calculate the cost of engraving `Charlie+Denver` on a solid gold ring."
   ]
  },
  {
   "cell_type": "code",
   "execution_count": 13,
   "id": "2acf5c09",
   "metadata": {
    "execution": {
     "iopub.execute_input": "2023-01-19T00:00:17.681014Z",
     "iopub.status.busy": "2023-01-19T00:00:17.680605Z",
     "iopub.status.idle": "2023-01-19T00:00:17.686619Z",
     "shell.execute_reply": "2023-01-19T00:00:17.685425Z"
    },
    "papermill": {
     "duration": 0.018169,
     "end_time": "2023-01-19T00:00:17.689615",
     "exception": false,
     "start_time": "2023-01-19T00:00:17.671446",
     "status": "completed"
    },
    "tags": []
   },
   "outputs": [
    {
     "name": "stdout",
     "output_type": "stream",
     "text": [
      "<learntools.core.constants.PlaceholderValue object at 0x7ff2ed794250>\n"
     ]
    }
   ],
   "source": [
    "project_one = cost_of_project(\"Charlie+Denver\", True)\n",
    "print(project_one)"
   ]
  },
  {
   "cell_type": "markdown",
   "id": "7d7d4f3c",
   "metadata": {
    "papermill": {
     "duration": 0.007783,
     "end_time": "2023-01-19T00:00:17.706094",
     "exception": false,
     "start_time": "2023-01-19T00:00:17.698311",
     "status": "completed"
    },
    "tags": []
   },
   "source": [
    "Use the next code cell to calculate the cost of engraving `08/10/2000` on a gold plated ring."
   ]
  },
  {
   "cell_type": "code",
   "execution_count": 14,
   "id": "0ddbfb64",
   "metadata": {
    "execution": {
     "iopub.execute_input": "2023-01-19T00:00:17.724159Z",
     "iopub.status.busy": "2023-01-19T00:00:17.723720Z",
     "iopub.status.idle": "2023-01-19T00:00:17.729834Z",
     "shell.execute_reply": "2023-01-19T00:00:17.728535Z"
    },
    "papermill": {
     "duration": 0.018242,
     "end_time": "2023-01-19T00:00:17.732253",
     "exception": false,
     "start_time": "2023-01-19T00:00:17.714011",
     "status": "completed"
    },
    "tags": []
   },
   "outputs": [
    {
     "name": "stdout",
     "output_type": "stream",
     "text": [
      "<learntools.core.constants.PlaceholderValue object at 0x7ff2ed794250>\n"
     ]
    }
   ],
   "source": [
    "project_two = cost_of_project(\"08/10/2000\", False)\n",
    "print(project_two)"
   ]
  },
  {
   "cell_type": "markdown",
   "id": "267f80f0",
   "metadata": {
    "papermill": {
     "duration": 0.007516,
     "end_time": "2023-01-19T00:00:17.747909",
     "exception": false,
     "start_time": "2023-01-19T00:00:17.740393",
     "status": "completed"
    },
    "tags": []
   },
   "source": [
    "# Keep going\n",
    "\n",
    "Continue to the next lesson to **[learn about conditions and conditional statements](https://www.kaggle.com/alexisbcook/conditions-and-conditional-statements)**."
   ]
  },
  {
   "cell_type": "markdown",
   "id": "bb31a39e",
   "metadata": {
    "papermill": {
     "duration": 0.007678,
     "end_time": "2023-01-19T00:00:17.763827",
     "exception": false,
     "start_time": "2023-01-19T00:00:17.756149",
     "status": "completed"
    },
    "tags": []
   },
   "source": [
    "---\n",
    "\n",
    "\n",
    "\n",
    "\n",
    "*Have questions or comments? Visit the [course discussion forum](https://www.kaggle.com/learn/intro-to-programming/discussion) to chat with other learners.*"
   ]
  }
 ],
 "metadata": {
  "kernelspec": {
   "display_name": "Python 3",
   "language": "python",
   "name": "python3"
  },
  "language_info": {
   "codemirror_mode": {
    "name": "ipython",
    "version": 3
   },
   "file_extension": ".py",
   "mimetype": "text/x-python",
   "name": "python",
   "nbconvert_exporter": "python",
   "pygments_lexer": "ipython3",
   "version": "3.7.12"
  },
  "papermill": {
   "default_parameters": {},
   "duration": 10.650176,
   "end_time": "2023-01-19T00:00:18.494105",
   "environment_variables": {},
   "exception": null,
   "input_path": "__notebook__.ipynb",
   "output_path": "__notebook__.ipynb",
   "parameters": {},
   "start_time": "2023-01-19T00:00:07.843929",
   "version": "2.3.4"
  }
 },
 "nbformat": 4,
 "nbformat_minor": 5
}
