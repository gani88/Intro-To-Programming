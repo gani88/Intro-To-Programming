{
 "cells": [
  {
   "cell_type": "markdown",
   "id": "434ad9cc",
   "metadata": {
    "papermill": {
     "duration": 0.008551,
     "end_time": "2023-01-18T05:31:39.895804",
     "exception": false,
     "start_time": "2023-01-18T05:31:39.887253",
     "status": "completed"
    },
    "tags": []
   },
   "source": [
    "**This notebook is an exercise in the [Intro to Programming](https://www.kaggle.com/learn/intro-to-programming) course.  You can reference the tutorial at [this link](https://www.kaggle.com/alexisbcook/functions).**\n",
    "\n",
    "---\n"
   ]
  },
  {
   "cell_type": "markdown",
   "id": "73e53378",
   "metadata": {
    "papermill": {
     "duration": 0.005552,
     "end_time": "2023-01-18T05:31:39.907633",
     "exception": false,
     "start_time": "2023-01-18T05:31:39.902081",
     "status": "completed"
    },
    "tags": []
   },
   "source": [
    "In the tutorial, you learned about functions. In this exercise, you'll write some of your own!\n",
    "\n",
    "# Set up the notebook\n",
    "\n",
    "Run the next code cell without changes to set up the notebook."
   ]
  },
  {
   "cell_type": "code",
   "execution_count": 1,
   "id": "bb8e80f1",
   "metadata": {
    "execution": {
     "iopub.execute_input": "2023-01-18T05:31:39.923043Z",
     "iopub.status.busy": "2023-01-18T05:31:39.921981Z",
     "iopub.status.idle": "2023-01-18T05:31:39.998033Z",
     "shell.execute_reply": "2023-01-18T05:31:39.996631Z"
    },
    "papermill": {
     "duration": 0.087573,
     "end_time": "2023-01-18T05:31:40.001239",
     "exception": false,
     "start_time": "2023-01-18T05:31:39.913666",
     "status": "completed"
    },
    "tags": []
   },
   "outputs": [
    {
     "name": "stdout",
     "output_type": "stream",
     "text": [
      "Setup complete.\n"
     ]
    }
   ],
   "source": [
    "# Set up the exercise\n",
    "import math\n",
    "from learntools.core import binder\n",
    "binder.bind(globals())\n",
    "from learntools.intro_to_programming.ex2 import *\n",
    "print('Setup complete.')"
   ]
  },
  {
   "cell_type": "markdown",
   "id": "056ca957",
   "metadata": {
    "papermill": {
     "duration": 0.006118,
     "end_time": "2023-01-18T05:31:40.013882",
     "exception": false,
     "start_time": "2023-01-18T05:31:40.007764",
     "status": "completed"
    },
    "tags": []
   },
   "source": [
    "# Question 1\n",
    "\n",
    "In the [House Prices - Advanced Regression Techniques competition](https://www.kaggle.com/c/house-prices-advanced-regression-techniques/overview), you need to use information like the number of bedrooms and bathrooms to predict the price of a house.  Inspired by this competition, you'll write your own function to do this.\n",
    "\n",
    "In the next code cell, create a function `get_expected_cost()` that has two arguments:\n",
    "- `beds` - number of bedrooms \n",
    "- `baths` - number of bathrooms\n",
    "\n",
    "It should return the expected cost of a house with that number of bedrooms and bathrooms.  Assume that:\n",
    "- the expected cost for a house with 0 bedrooms and 0 bathrooms is `80000`.  \n",
    "- each bedroom adds `30000` to the expected cost\n",
    "- each bathroom adds `10000` to the expected cost.\n",
    "\n",
    "For instance, \n",
    "- a house with 1 bedroom and 1 bathroom has an expected cost of `120000`, and \n",
    "- a house with 2 bedrooms and 1 bathroom has an expected cost of `150000`."
   ]
  },
  {
   "cell_type": "code",
   "execution_count": 2,
   "id": "a69b7fc1",
   "metadata": {
    "execution": {
     "iopub.execute_input": "2023-01-18T05:31:40.030876Z",
     "iopub.status.busy": "2023-01-18T05:31:40.029916Z",
     "iopub.status.idle": "2023-01-18T05:31:40.045133Z",
     "shell.execute_reply": "2023-01-18T05:31:40.043248Z"
    },
    "papermill": {
     "duration": 0.026552,
     "end_time": "2023-01-18T05:31:40.047915",
     "exception": false,
     "start_time": "2023-01-18T05:31:40.021363",
     "status": "completed"
    },
    "tags": []
   },
   "outputs": [
    {
     "data": {
      "application/javascript": [
       "parent.postMessage({\"jupyterEvent\": \"custom.exercise_interaction\", \"data\": {\"outcomeType\": 1, \"valueTowardsCompletion\": 0.2, \"interactionType\": 1, \"questionType\": 2, \"questionId\": \"1_GetExpectedCost\", \"learnToolsVersion\": \"0.3.4\", \"failureMessage\": \"\", \"exceptionClass\": \"\", \"trace\": \"\"}}, \"*\")"
      ],
      "text/plain": [
       "<IPython.core.display.Javascript object>"
      ]
     },
     "metadata": {},
     "output_type": "display_data"
    },
    {
     "data": {
      "text/markdown": [
       "<span style=\"color:#33cc33\">Correct</span>"
      ],
      "text/plain": [
       "Correct"
      ]
     },
     "metadata": {},
     "output_type": "display_data"
    }
   ],
   "source": [
    "# TODO: Complete the function\n",
    "def get_expected_cost(beds, baths):\n",
    "    value = 80000 + (beds * 30000 + baths * 10000)\n",
    "    return value\n",
    "\n",
    "# Check your answer \n",
    "q1.check()"
   ]
  },
  {
   "cell_type": "code",
   "execution_count": 3,
   "id": "87a2c660",
   "metadata": {
    "execution": {
     "iopub.execute_input": "2023-01-18T05:31:40.062579Z",
     "iopub.status.busy": "2023-01-18T05:31:40.062153Z",
     "iopub.status.idle": "2023-01-18T05:31:40.068010Z",
     "shell.execute_reply": "2023-01-18T05:31:40.065847Z"
    },
    "papermill": {
     "duration": 0.016491,
     "end_time": "2023-01-18T05:31:40.070848",
     "exception": false,
     "start_time": "2023-01-18T05:31:40.054357",
     "status": "completed"
    },
    "tags": []
   },
   "outputs": [],
   "source": [
    "# Uncomment to see a hint\n",
    "#q1.hint()\n",
    "\n",
    "# Uncomment to view the solution\n",
    "#q1.solution()"
   ]
  },
  {
   "cell_type": "markdown",
   "id": "dcf3122a",
   "metadata": {
    "papermill": {
     "duration": 0.006554,
     "end_time": "2023-01-18T05:31:40.084411",
     "exception": false,
     "start_time": "2023-01-18T05:31:40.077857",
     "status": "completed"
    },
    "tags": []
   },
   "source": [
    "# Question 2\n",
    "\n",
    "You are thinking about buying a home and want to get an idea of how much you will spend, based on the number of bedrooms and bathrooms.  You are trying to decide between four different options:\n",
    "- Option 1: house with two bedrooms and three bathrooms\n",
    "- Option 2: house with three bedrooms and two bathrooms\n",
    "- Option 3: house with three bedrooms and three bathrooms\n",
    "- Option 4: house with three bedrooms and four bathrooms\n",
    "\n",
    "Use the `get_expected_cost()` function you defined in question 1 to set `option_1`, `option_2`, `option_3`, and `option_4` to the expected cost of each option."
   ]
  },
  {
   "cell_type": "code",
   "execution_count": 4,
   "id": "0bafa68f",
   "metadata": {
    "execution": {
     "iopub.execute_input": "2023-01-18T05:31:40.100944Z",
     "iopub.status.busy": "2023-01-18T05:31:40.100043Z",
     "iopub.status.idle": "2023-01-18T05:31:40.112675Z",
     "shell.execute_reply": "2023-01-18T05:31:40.111027Z"
    },
    "papermill": {
     "duration": 0.02482,
     "end_time": "2023-01-18T05:31:40.115563",
     "exception": false,
     "start_time": "2023-01-18T05:31:40.090743",
     "status": "completed"
    },
    "tags": []
   },
   "outputs": [
    {
     "name": "stdout",
     "output_type": "stream",
     "text": [
      "170000\n",
      "190000\n",
      "200000\n",
      "210000\n"
     ]
    },
    {
     "data": {
      "application/javascript": [
       "parent.postMessage({\"jupyterEvent\": \"custom.exercise_interaction\", \"data\": {\"outcomeType\": 1, \"valueTowardsCompletion\": 0.2, \"interactionType\": 1, \"questionType\": 1, \"questionId\": \"2_RunGetExpectedCost\", \"learnToolsVersion\": \"0.3.4\", \"failureMessage\": \"\", \"exceptionClass\": \"\", \"trace\": \"\"}}, \"*\")"
      ],
      "text/plain": [
       "<IPython.core.display.Javascript object>"
      ]
     },
     "metadata": {},
     "output_type": "display_data"
    },
    {
     "data": {
      "text/markdown": [
       "<span style=\"color:#33cc33\">Correct</span>"
      ],
      "text/plain": [
       "Correct"
      ]
     },
     "metadata": {},
     "output_type": "display_data"
    }
   ],
   "source": [
    "# TODO: Use the get_expected_cost function to fill in each value\n",
    "option_one = get_expected_cost(2, 3)\n",
    "option_two = get_expected_cost(3, 2)\n",
    "option_three = get_expected_cost(3, 3)\n",
    "option_four = get_expected_cost(3, 4)\n",
    "\n",
    "print(option_one)\n",
    "print(option_two)\n",
    "print(option_three)\n",
    "print(option_four)\n",
    "\n",
    "# Check your answer\n",
    "q2.check()"
   ]
  },
  {
   "cell_type": "code",
   "execution_count": 5,
   "id": "51d00bfe",
   "metadata": {
    "execution": {
     "iopub.execute_input": "2023-01-18T05:31:40.130635Z",
     "iopub.status.busy": "2023-01-18T05:31:40.129927Z",
     "iopub.status.idle": "2023-01-18T05:31:40.134815Z",
     "shell.execute_reply": "2023-01-18T05:31:40.133597Z"
    },
    "papermill": {
     "duration": 0.014901,
     "end_time": "2023-01-18T05:31:40.137114",
     "exception": false,
     "start_time": "2023-01-18T05:31:40.122213",
     "status": "completed"
    },
    "tags": []
   },
   "outputs": [],
   "source": [
    "# Uncomment to see a hint\n",
    "#q2.hint()\n",
    "\n",
    "# Uncomment to view the solution\n",
    "#q2.solution()"
   ]
  },
  {
   "cell_type": "markdown",
   "id": "2a62a2f2",
   "metadata": {
    "papermill": {
     "duration": 0.006289,
     "end_time": "2023-01-18T05:31:40.150157",
     "exception": false,
     "start_time": "2023-01-18T05:31:40.143868",
     "status": "completed"
    },
    "tags": []
   },
   "source": [
    "# Question 3\n",
    "\n",
    "You're a home decorator, and you'd like to use Python to streamline some of your work.  Specifically, you're creating a tool that you intend to use to calculate the cost of painting a room.\n",
    "\n",
    "As a first step, define a function `get_cost()` that takes as input:\n",
    "- `sqft_walls` = total square feet of walls to be painted\n",
    "- `sqft_ceiling` = square feet of ceiling to be painted\n",
    "- `sqft_per_gallon` = number of square feet that you can cover with one gallon of paint\n",
    "- `cost_per_gallon` = cost (in dollars) of one gallon of paint\n",
    "\n",
    "It should return the cost (in dollars) of putting one coat of paint on all walls and the ceiling.  Assume you can buy the exact amount of paint that you need, so you can buy partial gallons (e.g., if you need 7.523 gallons, you can buy that exact amount, instead of needing to buy 8 gallons and waste some paint).  Do not round your answer."
   ]
  },
  {
   "cell_type": "code",
   "execution_count": 6,
   "id": "8ea4d862",
   "metadata": {
    "execution": {
     "iopub.execute_input": "2023-01-18T05:31:40.165221Z",
     "iopub.status.busy": "2023-01-18T05:31:40.164829Z",
     "iopub.status.idle": "2023-01-18T05:31:40.173697Z",
     "shell.execute_reply": "2023-01-18T05:31:40.172745Z"
    },
    "papermill": {
     "duration": 0.019318,
     "end_time": "2023-01-18T05:31:40.176041",
     "exception": false,
     "start_time": "2023-01-18T05:31:40.156723",
     "status": "completed"
    },
    "tags": []
   },
   "outputs": [
    {
     "data": {
      "application/javascript": [
       "parent.postMessage({\"jupyterEvent\": \"custom.exercise_interaction\", \"data\": {\"outcomeType\": 2, \"failureMessage\": \"Expected return value of `21.599999999999998` given `sqft_walls=432`, `sqft_ceiling=144`, `sqft_per_gallon=400`, `cost_per_gallon=15`, but got `10.416666666666666` instead.\", \"interactionType\": 1, \"questionType\": 2, \"questionId\": \"3_GetCostPaint\", \"learnToolsVersion\": \"0.3.4\", \"valueTowardsCompletion\": 0.0, \"exceptionClass\": \"\", \"trace\": \"\"}}, \"*\")"
      ],
      "text/plain": [
       "<IPython.core.display.Javascript object>"
      ]
     },
     "metadata": {},
     "output_type": "display_data"
    },
    {
     "data": {
      "text/markdown": [
       "<span style=\"color:#cc3333\">Incorrect:</span> Expected return value of `21.599999999999998` given `sqft_walls=432`, `sqft_ceiling=144`, `sqft_per_gallon=400`, `cost_per_gallon=15`, but got `10.416666666666666` instead."
      ],
      "text/plain": [
       "Incorrect: Expected return value of `21.599999999999998` given `sqft_walls=432`, `sqft_ceiling=144`, `sqft_per_gallon=400`, `cost_per_gallon=15`, but got `10.416666666666666` instead."
      ]
     },
     "metadata": {},
     "output_type": "display_data"
    }
   ],
   "source": [
    "# TODO: Finish defining the function\n",
    "def get_cost(sqft_walls, sqft_ceiling, sqft_per_gallon, cost_per_gallon):\n",
    "    cost = (sqft_per_gallon * cost_per_gallon) / (sqft_walls + sqft_ceiling)\n",
    "    return cost\n",
    "\n",
    "# Check your answer\n",
    "q3.check()"
   ]
  },
  {
   "cell_type": "code",
   "execution_count": 7,
   "id": "ff13dc3d",
   "metadata": {
    "execution": {
     "iopub.execute_input": "2023-01-18T05:31:40.191988Z",
     "iopub.status.busy": "2023-01-18T05:31:40.191508Z",
     "iopub.status.idle": "2023-01-18T05:31:40.197303Z",
     "shell.execute_reply": "2023-01-18T05:31:40.195381Z"
    },
    "papermill": {
     "duration": 0.017847,
     "end_time": "2023-01-18T05:31:40.200647",
     "exception": false,
     "start_time": "2023-01-18T05:31:40.182800",
     "status": "completed"
    },
    "tags": []
   },
   "outputs": [],
   "source": [
    "# Uncomment to see a hint\n",
    "#q3.hint()\n",
    "\n",
    "# Uncomment to view the solution\n",
    "#q3.solution()"
   ]
  },
  {
   "cell_type": "markdown",
   "id": "14e768c4",
   "metadata": {
    "papermill": {
     "duration": 0.006821,
     "end_time": "2023-01-18T05:31:40.217258",
     "exception": false,
     "start_time": "2023-01-18T05:31:40.210437",
     "status": "completed"
    },
    "tags": []
   },
   "source": [
    "# Question 4\n",
    "\n",
    "Use the `get_cost()` function you defined in Question 3 to calculate the cost of applying one coat of paint to a room with:\n",
    "- 432 square feet of walls, and\n",
    "- 144 square feet of ceiling.\n",
    "\n",
    "Assume that one gallon of paint covers 400 square feet and costs $15.  As in Question 3, assume you can buy partial gallons of paint.  Do not round your answer."
   ]
  },
  {
   "cell_type": "code",
   "execution_count": 8,
   "id": "2314dcf6",
   "metadata": {
    "execution": {
     "iopub.execute_input": "2023-01-18T05:31:40.233150Z",
     "iopub.status.busy": "2023-01-18T05:31:40.232575Z",
     "iopub.status.idle": "2023-01-18T05:31:40.242656Z",
     "shell.execute_reply": "2023-01-18T05:31:40.241592Z"
    },
    "papermill": {
     "duration": 0.020906,
     "end_time": "2023-01-18T05:31:40.245068",
     "exception": false,
     "start_time": "2023-01-18T05:31:40.224162",
     "status": "completed"
    },
    "tags": []
   },
   "outputs": [
    {
     "data": {
      "application/javascript": [
       "parent.postMessage({\"jupyterEvent\": \"custom.exercise_interaction\", \"data\": {\"outcomeType\": 4, \"interactionType\": 1, \"questionType\": 1, \"questionId\": \"4_GetCostPaintExample\", \"learnToolsVersion\": \"0.3.4\", \"valueTowardsCompletion\": 0.0, \"failureMessage\": \"\", \"exceptionClass\": \"\", \"trace\": \"\"}}, \"*\")"
      ],
      "text/plain": [
       "<IPython.core.display.Javascript object>"
      ]
     },
     "metadata": {},
     "output_type": "display_data"
    },
    {
     "data": {
      "text/markdown": [
       "<span style=\"color:#ccaa33\">Check:</span> When you've updated the starter code, `check()` will tell you whether your code is correct. You need to update the code that creates variable `project_cost`"
      ],
      "text/plain": [
       "Check: When you've updated the starter code, `check()` will tell you whether your code is correct. You need to update the code that creates variable `project_cost`"
      ]
     },
     "metadata": {},
     "output_type": "display_data"
    }
   ],
   "source": [
    "# TODO: Set the project_cost variable to the cost of the project\n",
    "project_cost = ____\n",
    "\n",
    "# Check your answer\n",
    "q4.check()"
   ]
  },
  {
   "cell_type": "code",
   "execution_count": 9,
   "id": "831a5d46",
   "metadata": {
    "execution": {
     "iopub.execute_input": "2023-01-18T05:31:40.261253Z",
     "iopub.status.busy": "2023-01-18T05:31:40.260858Z",
     "iopub.status.idle": "2023-01-18T05:31:40.265090Z",
     "shell.execute_reply": "2023-01-18T05:31:40.263879Z"
    },
    "papermill": {
     "duration": 0.015279,
     "end_time": "2023-01-18T05:31:40.267465",
     "exception": false,
     "start_time": "2023-01-18T05:31:40.252186",
     "status": "completed"
    },
    "tags": []
   },
   "outputs": [],
   "source": [
    "# Uncomment to see a hint\n",
    "#q4.hint()\n",
    "\n",
    "# Uncomment to view the solution\n",
    "#q4.solution()"
   ]
  },
  {
   "cell_type": "markdown",
   "id": "685f7c1d",
   "metadata": {
    "papermill": {
     "duration": 0.007435,
     "end_time": "2023-01-18T05:31:40.282030",
     "exception": false,
     "start_time": "2023-01-18T05:31:40.274595",
     "status": "completed"
    },
    "tags": []
   },
   "source": [
    "# 🌶️ Question 5\n",
    "\n",
    "Now say you can no longer buy fractions of a gallon.  (For instance, if you need 4.3 gallons to do a project, then you have to buy 5 gallons of paint.)\n",
    "\n",
    "With this new scenario, you will create a new function `get_actual_cost` that uses the same inputs and calculates the cost of your project.\n",
    "\n",
    "One function that you'll need to use to do this is `math.ceil()`.  We demonstrate usage of this function in the code cell below.  It takes as a number as input and rounds the number up to the nearest integer.  \n",
    "\n",
    "Run the next code cell to test this function for yourself.  Feel free to change the value of `test_value` and make sure `math.ceil()` returns the number you expect."
   ]
  },
  {
   "cell_type": "code",
   "execution_count": 10,
   "id": "186529c1",
   "metadata": {
    "execution": {
     "iopub.execute_input": "2023-01-18T05:31:40.298752Z",
     "iopub.status.busy": "2023-01-18T05:31:40.298274Z",
     "iopub.status.idle": "2023-01-18T05:31:40.304048Z",
     "shell.execute_reply": "2023-01-18T05:31:40.302882Z"
    },
    "papermill": {
     "duration": 0.017265,
     "end_time": "2023-01-18T05:31:40.306838",
     "exception": false,
     "start_time": "2023-01-18T05:31:40.289573",
     "status": "completed"
    },
    "tags": []
   },
   "outputs": [
    {
     "name": "stdout",
     "output_type": "stream",
     "text": [
      "3\n"
     ]
    }
   ],
   "source": [
    "test_value = 2.17\n",
    "\n",
    "rounded_value = math.ceil(test_value)\n",
    "print(rounded_value)"
   ]
  },
  {
   "cell_type": "markdown",
   "id": "5fc71702",
   "metadata": {
    "papermill": {
     "duration": 0.006743,
     "end_time": "2023-01-18T05:31:40.320721",
     "exception": false,
     "start_time": "2023-01-18T05:31:40.313978",
     "status": "completed"
    },
    "tags": []
   },
   "source": [
    "Use the next code cell to define the function `get_actual_cost()`.  You'll need to use the `math.ceil()` function to do this.\n",
    "\n",
    "When answering this question, note that it's completely valid to define a function that makes use of another function.  For instance, we can define a function `round_up_and_divide_by_three` that makes use of the `math.ceil` function:\n",
    "```\n",
    "def round_up_and_divide_by_three(num):\n",
    "    new_value = math.ceil(num)\n",
    "    final_value = new_value / 3\n",
    "    return final_value\n",
    "```"
   ]
  },
  {
   "cell_type": "code",
   "execution_count": 11,
   "id": "c87f04b1",
   "metadata": {
    "execution": {
     "iopub.execute_input": "2023-01-18T05:31:40.336920Z",
     "iopub.status.busy": "2023-01-18T05:31:40.336540Z",
     "iopub.status.idle": "2023-01-18T05:31:40.345568Z",
     "shell.execute_reply": "2023-01-18T05:31:40.344373Z"
    },
    "papermill": {
     "duration": 0.020007,
     "end_time": "2023-01-18T05:31:40.347887",
     "exception": false,
     "start_time": "2023-01-18T05:31:40.327880",
     "status": "completed"
    },
    "tags": []
   },
   "outputs": [
    {
     "data": {
      "application/javascript": [
       "parent.postMessage({\"jupyterEvent\": \"custom.exercise_interaction\", \"data\": {\"outcomeType\": 2, \"failureMessage\": \"Expected return value of `30` given `sqft_walls=432`, `sqft_ceiling=144`, `sqft_per_gallon=400`, `cost_per_gallon=15`, but got `<learntools.core.constants.PlaceholderValue object at 0x7fe532a46510>` instead.\", \"interactionType\": 1, \"questionType\": 2, \"questionId\": \"5_NoMoreFractions\", \"learnToolsVersion\": \"0.3.4\", \"valueTowardsCompletion\": 0.0, \"exceptionClass\": \"\", \"trace\": \"\"}}, \"*\")"
      ],
      "text/plain": [
       "<IPython.core.display.Javascript object>"
      ]
     },
     "metadata": {},
     "output_type": "display_data"
    },
    {
     "data": {
      "text/markdown": [
       "<span style=\"color:#cc3333\">Incorrect:</span> Expected return value of `30` given `sqft_walls=432`, `sqft_ceiling=144`, `sqft_per_gallon=400`, `cost_per_gallon=15`, but got `<learntools.core.constants.PlaceholderValue object at 0x7fe532a46510>` instead."
      ],
      "text/plain": [
       "Incorrect: Expected return value of `30` given `sqft_walls=432`, `sqft_ceiling=144`, `sqft_per_gallon=400`, `cost_per_gallon=15`, but got `<learntools.core.constants.PlaceholderValue object at 0x7fe532a46510>` instead."
      ]
     },
     "metadata": {},
     "output_type": "display_data"
    }
   ],
   "source": [
    "def get_actual_cost(sqft_walls, sqft_ceiling, sqft_per_gallon, cost_per_gallon):\n",
    "    cost = ____\n",
    "    return cost\n",
    "\n",
    "# Check your answer\n",
    "q5.check()"
   ]
  },
  {
   "cell_type": "code",
   "execution_count": 12,
   "id": "ec731464",
   "metadata": {
    "execution": {
     "iopub.execute_input": "2023-01-18T05:31:40.364396Z",
     "iopub.status.busy": "2023-01-18T05:31:40.363984Z",
     "iopub.status.idle": "2023-01-18T05:31:40.368763Z",
     "shell.execute_reply": "2023-01-18T05:31:40.367274Z"
    },
    "papermill": {
     "duration": 0.015752,
     "end_time": "2023-01-18T05:31:40.371116",
     "exception": false,
     "start_time": "2023-01-18T05:31:40.355364",
     "status": "completed"
    },
    "tags": []
   },
   "outputs": [],
   "source": [
    "# Uncomment to see a hint\n",
    "#q5.hint()\n",
    "\n",
    "# Uncomment to view the solution\n",
    "#q5.solution()"
   ]
  },
  {
   "cell_type": "markdown",
   "id": "2bfe0e6c",
   "metadata": {
    "papermill": {
     "duration": 0.007355,
     "end_time": "2023-01-18T05:31:40.386625",
     "exception": false,
     "start_time": "2023-01-18T05:31:40.379270",
     "status": "completed"
    },
    "tags": []
   },
   "source": [
    "Once your function is verified as correct, run the next code cell to calculate the updated cost of your project."
   ]
  },
  {
   "cell_type": "code",
   "execution_count": 13,
   "id": "5cd9796b",
   "metadata": {
    "execution": {
     "iopub.execute_input": "2023-01-18T05:31:40.404385Z",
     "iopub.status.busy": "2023-01-18T05:31:40.403948Z",
     "iopub.status.idle": "2023-01-18T05:31:40.410664Z",
     "shell.execute_reply": "2023-01-18T05:31:40.409606Z"
    },
    "papermill": {
     "duration": 0.019608,
     "end_time": "2023-01-18T05:31:40.413588",
     "exception": false,
     "start_time": "2023-01-18T05:31:40.393980",
     "status": "completed"
    },
    "tags": []
   },
   "outputs": [
    {
     "data": {
      "text/markdown": [],
      "text/plain": [
       "<learntools.core.constants.PlaceholderValue at 0x7fe532a46510>"
      ]
     },
     "execution_count": 13,
     "metadata": {},
     "output_type": "execute_result"
    }
   ],
   "source": [
    "get_actual_cost(432, 144, 400, 15) "
   ]
  },
  {
   "cell_type": "markdown",
   "id": "0b5904b4",
   "metadata": {
    "papermill": {
     "duration": 0.009304,
     "end_time": "2023-01-18T05:31:40.431124",
     "exception": false,
     "start_time": "2023-01-18T05:31:40.421820",
     "status": "completed"
    },
    "tags": []
   },
   "source": [
    "Say you're working with a slightly larger room.  Run the next code cell to calculate the cost of the project."
   ]
  },
  {
   "cell_type": "code",
   "execution_count": 14,
   "id": "8f03a28d",
   "metadata": {
    "execution": {
     "iopub.execute_input": "2023-01-18T05:31:40.448508Z",
     "iopub.status.busy": "2023-01-18T05:31:40.448041Z",
     "iopub.status.idle": "2023-01-18T05:31:40.455936Z",
     "shell.execute_reply": "2023-01-18T05:31:40.454740Z"
    },
    "papermill": {
     "duration": 0.019555,
     "end_time": "2023-01-18T05:31:40.458370",
     "exception": false,
     "start_time": "2023-01-18T05:31:40.438815",
     "status": "completed"
    },
    "tags": []
   },
   "outputs": [
    {
     "data": {
      "text/markdown": [],
      "text/plain": [
       "<learntools.core.constants.PlaceholderValue at 0x7fe532a46510>"
      ]
     },
     "execution_count": 14,
     "metadata": {},
     "output_type": "execute_result"
    }
   ],
   "source": [
    "get_actual_cost(594, 288, 400, 15) "
   ]
  },
  {
   "cell_type": "markdown",
   "id": "9b354967",
   "metadata": {
    "papermill": {
     "duration": 0.007411,
     "end_time": "2023-01-18T05:31:40.474206",
     "exception": false,
     "start_time": "2023-01-18T05:31:40.466795",
     "status": "completed"
    },
    "tags": []
   },
   "source": [
    "# Keep going\n",
    "\n",
    "Continue to learn about **[data types](https://www.kaggle.com/alexisbcook/data-types)**."
   ]
  },
  {
   "cell_type": "markdown",
   "id": "00614782",
   "metadata": {
    "papermill": {
     "duration": 0.007282,
     "end_time": "2023-01-18T05:31:40.489229",
     "exception": false,
     "start_time": "2023-01-18T05:31:40.481947",
     "status": "completed"
    },
    "tags": []
   },
   "source": [
    "---\n",
    "\n",
    "\n",
    "\n",
    "\n",
    "*Have questions or comments? Visit the [course discussion forum](https://www.kaggle.com/learn/intro-to-programming/discussion) to chat with other learners.*"
   ]
  }
 ],
 "metadata": {
  "kernelspec": {
   "display_name": "Python 3",
   "language": "python",
   "name": "python3"
  },
  "language_info": {
   "codemirror_mode": {
    "name": "ipython",
    "version": 3
   },
   "file_extension": ".py",
   "mimetype": "text/x-python",
   "name": "python",
   "nbconvert_exporter": "python",
   "pygments_lexer": "ipython3",
   "version": "3.7.12"
  },
  "papermill": {
   "default_parameters": {},
   "duration": 11.268931,
   "end_time": "2023-01-18T05:31:41.218914",
   "environment_variables": {},
   "exception": null,
   "input_path": "__notebook__.ipynb",
   "output_path": "__notebook__.ipynb",
   "parameters": {},
   "start_time": "2023-01-18T05:31:29.949983",
   "version": "2.3.4"
  }
 },
 "nbformat": 4,
 "nbformat_minor": 5
}
