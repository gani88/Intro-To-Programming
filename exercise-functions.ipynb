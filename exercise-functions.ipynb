{
 "cells": [
  {
   "cell_type": "markdown",
   "id": "ede6d4fd",
   "metadata": {
    "papermill": {
     "duration": 0.005917,
     "end_time": "2023-01-18T05:21:58.268513",
     "exception": false,
     "start_time": "2023-01-18T05:21:58.262596",
     "status": "completed"
    },
    "tags": []
   },
   "source": [
    "**This notebook is an exercise in the [Intro to Programming](https://www.kaggle.com/learn/intro-to-programming) course.  You can reference the tutorial at [this link](https://www.kaggle.com/alexisbcook/functions).**\n",
    "\n",
    "---\n"
   ]
  },
  {
   "cell_type": "markdown",
   "id": "fcaf13d7",
   "metadata": {
    "papermill": {
     "duration": 0.004978,
     "end_time": "2023-01-18T05:21:58.279278",
     "exception": false,
     "start_time": "2023-01-18T05:21:58.274300",
     "status": "completed"
    },
    "tags": []
   },
   "source": [
    "In the tutorial, you learned about functions. In this exercise, you'll write some of your own!\n",
    "\n",
    "# Set up the notebook\n",
    "\n",
    "Run the next code cell without changes to set up the notebook."
   ]
  },
  {
   "cell_type": "code",
   "execution_count": 1,
   "id": "f2fdc184",
   "metadata": {
    "execution": {
     "iopub.execute_input": "2023-01-18T05:21:58.291403Z",
     "iopub.status.busy": "2023-01-18T05:21:58.290799Z",
     "iopub.status.idle": "2023-01-18T05:21:58.345284Z",
     "shell.execute_reply": "2023-01-18T05:21:58.344322Z"
    },
    "papermill": {
     "duration": 0.063595,
     "end_time": "2023-01-18T05:21:58.348092",
     "exception": false,
     "start_time": "2023-01-18T05:21:58.284497",
     "status": "completed"
    },
    "tags": []
   },
   "outputs": [
    {
     "name": "stdout",
     "output_type": "stream",
     "text": [
      "Setup complete.\n"
     ]
    }
   ],
   "source": [
    "# Set up the exercise\n",
    "import math\n",
    "from learntools.core import binder\n",
    "binder.bind(globals())\n",
    "from learntools.intro_to_programming.ex2 import *\n",
    "print('Setup complete.')"
   ]
  },
  {
   "cell_type": "markdown",
   "id": "bff15223",
   "metadata": {
    "papermill": {
     "duration": 0.005232,
     "end_time": "2023-01-18T05:21:58.358806",
     "exception": false,
     "start_time": "2023-01-18T05:21:58.353574",
     "status": "completed"
    },
    "tags": []
   },
   "source": [
    "# Question 1\n",
    "\n",
    "In the [House Prices - Advanced Regression Techniques competition](https://www.kaggle.com/c/house-prices-advanced-regression-techniques/overview), you need to use information like the number of bedrooms and bathrooms to predict the price of a house.  Inspired by this competition, you'll write your own function to do this.\n",
    "\n",
    "In the next code cell, create a function `get_expected_cost()` that has two arguments:\n",
    "- `beds` - number of bedrooms \n",
    "- `baths` - number of bathrooms\n",
    "\n",
    "It should return the expected cost of a house with that number of bedrooms and bathrooms.  Assume that:\n",
    "- the expected cost for a house with 0 bedrooms and 0 bathrooms is `80000`.  \n",
    "- each bedroom adds `30000` to the expected cost\n",
    "- each bathroom adds `10000` to the expected cost.\n",
    "\n",
    "For instance, \n",
    "- a house with 1 bedroom and 1 bathroom has an expected cost of `120000`, and \n",
    "- a house with 2 bedrooms and 1 bathroom has an expected cost of `150000`."
   ]
  },
  {
   "cell_type": "code",
   "execution_count": 2,
   "id": "0a23f2c3",
   "metadata": {
    "execution": {
     "iopub.execute_input": "2023-01-18T05:21:58.371482Z",
     "iopub.status.busy": "2023-01-18T05:21:58.371053Z",
     "iopub.status.idle": "2023-01-18T05:21:58.380729Z",
     "shell.execute_reply": "2023-01-18T05:21:58.379818Z"
    },
    "papermill": {
     "duration": 0.018228,
     "end_time": "2023-01-18T05:21:58.382522",
     "exception": false,
     "start_time": "2023-01-18T05:21:58.364294",
     "status": "completed"
    },
    "tags": []
   },
   "outputs": [
    {
     "data": {
      "application/javascript": [
       "parent.postMessage({\"jupyterEvent\": \"custom.exercise_interaction\", \"data\": {\"outcomeType\": 2, \"failureMessage\": \"Expected return value of `80000` given `beds=0`, `baths=0`, but got `<learntools.core.constants.PlaceholderValue object at 0x7f9dc92c0410>` instead.\", \"interactionType\": 1, \"questionType\": 2, \"questionId\": \"1_GetExpectedCost\", \"learnToolsVersion\": \"0.3.4\", \"valueTowardsCompletion\": 0.0, \"exceptionClass\": \"\", \"trace\": \"\"}}, \"*\")"
      ],
      "text/plain": [
       "<IPython.core.display.Javascript object>"
      ]
     },
     "metadata": {},
     "output_type": "display_data"
    },
    {
     "data": {
      "text/markdown": [
       "<span style=\"color:#cc3333\">Incorrect:</span> Expected return value of `80000` given `beds=0`, `baths=0`, but got `<learntools.core.constants.PlaceholderValue object at 0x7f9dc92c0410>` instead."
      ],
      "text/plain": [
       "Incorrect: Expected return value of `80000` given `beds=0`, `baths=0`, but got `<learntools.core.constants.PlaceholderValue object at 0x7f9dc92c0410>` instead."
      ]
     },
     "metadata": {},
     "output_type": "display_data"
    }
   ],
   "source": [
    "# TODO: Complete the function\n",
    "def get_expected_cost(beds, baths):\n",
    "    value = ____\n",
    "    return value\n",
    "\n",
    "# Check your answer \n",
    "q1.check()"
   ]
  },
  {
   "cell_type": "code",
   "execution_count": 3,
   "id": "e871849a",
   "metadata": {
    "execution": {
     "iopub.execute_input": "2023-01-18T05:21:58.394632Z",
     "iopub.status.busy": "2023-01-18T05:21:58.394260Z",
     "iopub.status.idle": "2023-01-18T05:21:58.398336Z",
     "shell.execute_reply": "2023-01-18T05:21:58.397416Z"
    },
    "papermill": {
     "duration": 0.012146,
     "end_time": "2023-01-18T05:21:58.400122",
     "exception": false,
     "start_time": "2023-01-18T05:21:58.387976",
     "status": "completed"
    },
    "tags": []
   },
   "outputs": [],
   "source": [
    "# Uncomment to see a hint\n",
    "#q1.hint()\n",
    "\n",
    "# Uncomment to view the solution\n",
    "#q1.solution()"
   ]
  },
  {
   "cell_type": "markdown",
   "id": "fa99142f",
   "metadata": {
    "papermill": {
     "duration": 0.00499,
     "end_time": "2023-01-18T05:21:58.410579",
     "exception": false,
     "start_time": "2023-01-18T05:21:58.405589",
     "status": "completed"
    },
    "tags": []
   },
   "source": [
    "# Question 2\n",
    "\n",
    "You are thinking about buying a home and want to get an idea of how much you will spend, based on the number of bedrooms and bathrooms.  You are trying to decide between four different options:\n",
    "- Option 1: house with two bedrooms and three bathrooms\n",
    "- Option 2: house with three bedrooms and two bathrooms\n",
    "- Option 3: house with three bedrooms and three bathrooms\n",
    "- Option 4: house with three bedrooms and four bathrooms\n",
    "\n",
    "Use the `get_expected_cost()` function you defined in question 1 to set `option_1`, `option_2`, `option_3`, and `option_4` to the expected cost of each option."
   ]
  },
  {
   "cell_type": "code",
   "execution_count": 4,
   "id": "ed17946e",
   "metadata": {
    "execution": {
     "iopub.execute_input": "2023-01-18T05:21:58.423769Z",
     "iopub.status.busy": "2023-01-18T05:21:58.423132Z",
     "iopub.status.idle": "2023-01-18T05:21:58.433281Z",
     "shell.execute_reply": "2023-01-18T05:21:58.432053Z"
    },
    "papermill": {
     "duration": 0.019803,
     "end_time": "2023-01-18T05:21:58.435550",
     "exception": false,
     "start_time": "2023-01-18T05:21:58.415747",
     "status": "completed"
    },
    "tags": []
   },
   "outputs": [
    {
     "name": "stdout",
     "output_type": "stream",
     "text": [
      "<learntools.core.constants.PlaceholderValue object at 0x7f9dc92c0410>\n",
      "<learntools.core.constants.PlaceholderValue object at 0x7f9dc92c0410>\n",
      "<learntools.core.constants.PlaceholderValue object at 0x7f9dc92c0410>\n",
      "<learntools.core.constants.PlaceholderValue object at 0x7f9dc92c0410>\n"
     ]
    },
    {
     "data": {
      "application/javascript": [
       "parent.postMessage({\"jupyterEvent\": \"custom.exercise_interaction\", \"data\": {\"outcomeType\": 4, \"interactionType\": 1, \"questionType\": 1, \"questionId\": \"2_RunGetExpectedCost\", \"learnToolsVersion\": \"0.3.4\", \"valueTowardsCompletion\": 0.0, \"failureMessage\": \"\", \"exceptionClass\": \"\", \"trace\": \"\"}}, \"*\")"
      ],
      "text/plain": [
       "<IPython.core.display.Javascript object>"
      ]
     },
     "metadata": {},
     "output_type": "display_data"
    },
    {
     "data": {
      "text/markdown": [
       "<span style=\"color:#ccaa33\">Check:</span> When you've updated the starter code, `check()` will tell you whether your code is correct. You need to update the code that creates variables `option_one`, `option_two`, `option_three`, `option_four`"
      ],
      "text/plain": [
       "Check: When you've updated the starter code, `check()` will tell you whether your code is correct. You need to update the code that creates variables `option_one`, `option_two`, `option_three`, `option_four`"
      ]
     },
     "metadata": {},
     "output_type": "display_data"
    }
   ],
   "source": [
    "# TODO: Use the get_expected_cost function to fill in each value\n",
    "option_one = ____\n",
    "option_two = ____\n",
    "option_three = ____\n",
    "option_four = ____\n",
    "\n",
    "print(option_one)\n",
    "print(option_two)\n",
    "print(option_three)\n",
    "print(option_four)\n",
    "\n",
    "# Check your answer\n",
    "q2.check()"
   ]
  },
  {
   "cell_type": "code",
   "execution_count": 5,
   "id": "c1a4339c",
   "metadata": {
    "execution": {
     "iopub.execute_input": "2023-01-18T05:21:58.448779Z",
     "iopub.status.busy": "2023-01-18T05:21:58.448417Z",
     "iopub.status.idle": "2023-01-18T05:21:58.453107Z",
     "shell.execute_reply": "2023-01-18T05:21:58.451786Z"
    },
    "papermill": {
     "duration": 0.013992,
     "end_time": "2023-01-18T05:21:58.455303",
     "exception": false,
     "start_time": "2023-01-18T05:21:58.441311",
     "status": "completed"
    },
    "tags": []
   },
   "outputs": [],
   "source": [
    "# Uncomment to see a hint\n",
    "#q2.hint()\n",
    "\n",
    "# Uncomment to view the solution\n",
    "#q2.solution()"
   ]
  },
  {
   "cell_type": "markdown",
   "id": "ca96d75c",
   "metadata": {
    "papermill": {
     "duration": 0.005455,
     "end_time": "2023-01-18T05:21:58.466772",
     "exception": false,
     "start_time": "2023-01-18T05:21:58.461317",
     "status": "completed"
    },
    "tags": []
   },
   "source": [
    "# Question 3\n",
    "\n",
    "You're a home decorator, and you'd like to use Python to streamline some of your work.  Specifically, you're creating a tool that you intend to use to calculate the cost of painting a room.\n",
    "\n",
    "As a first step, define a function `get_cost()` that takes as input:\n",
    "- `sqft_walls` = total square feet of walls to be painted\n",
    "- `sqft_ceiling` = square feet of ceiling to be painted\n",
    "- `sqft_per_gallon` = number of square feet that you can cover with one gallon of paint\n",
    "- `cost_per_gallon` = cost (in dollars) of one gallon of paint\n",
    "\n",
    "It should return the cost (in dollars) of putting one coat of paint on all walls and the ceiling.  Assume you can buy the exact amount of paint that you need, so you can buy partial gallons (e.g., if you need 7.523 gallons, you can buy that exact amount, instead of needing to buy 8 gallons and waste some paint).  Do not round your answer."
   ]
  },
  {
   "cell_type": "code",
   "execution_count": 6,
   "id": "a9f3d29a",
   "metadata": {
    "execution": {
     "iopub.execute_input": "2023-01-18T05:21:58.480256Z",
     "iopub.status.busy": "2023-01-18T05:21:58.479317Z",
     "iopub.status.idle": "2023-01-18T05:21:58.488216Z",
     "shell.execute_reply": "2023-01-18T05:21:58.487434Z"
    },
    "papermill": {
     "duration": 0.018132,
     "end_time": "2023-01-18T05:21:58.490599",
     "exception": false,
     "start_time": "2023-01-18T05:21:58.472467",
     "status": "completed"
    },
    "tags": []
   },
   "outputs": [
    {
     "data": {
      "application/javascript": [
       "parent.postMessage({\"jupyterEvent\": \"custom.exercise_interaction\", \"data\": {\"outcomeType\": 2, \"failureMessage\": \"Expected return value of `21.599999999999998` given `sqft_walls=432`, `sqft_ceiling=144`, `sqft_per_gallon=400`, `cost_per_gallon=15`, but got `<learntools.core.constants.PlaceholderValue object at 0x7f9dc92c0410>` instead.\", \"interactionType\": 1, \"questionType\": 2, \"questionId\": \"3_GetCostPaint\", \"learnToolsVersion\": \"0.3.4\", \"valueTowardsCompletion\": 0.0, \"exceptionClass\": \"\", \"trace\": \"\"}}, \"*\")"
      ],
      "text/plain": [
       "<IPython.core.display.Javascript object>"
      ]
     },
     "metadata": {},
     "output_type": "display_data"
    },
    {
     "data": {
      "text/markdown": [
       "<span style=\"color:#cc3333\">Incorrect:</span> Expected return value of `21.599999999999998` given `sqft_walls=432`, `sqft_ceiling=144`, `sqft_per_gallon=400`, `cost_per_gallon=15`, but got `<learntools.core.constants.PlaceholderValue object at 0x7f9dc92c0410>` instead."
      ],
      "text/plain": [
       "Incorrect: Expected return value of `21.599999999999998` given `sqft_walls=432`, `sqft_ceiling=144`, `sqft_per_gallon=400`, `cost_per_gallon=15`, but got `<learntools.core.constants.PlaceholderValue object at 0x7f9dc92c0410>` instead."
      ]
     },
     "metadata": {},
     "output_type": "display_data"
    }
   ],
   "source": [
    "# TODO: Finish defining the function\n",
    "def get_cost(sqft_walls, sqft_ceiling, sqft_per_gallon, cost_per_gallon):\n",
    "    cost = ____\n",
    "    return cost\n",
    "\n",
    "# Check your answer\n",
    "q3.check()"
   ]
  },
  {
   "cell_type": "code",
   "execution_count": 7,
   "id": "e2bf4ae7",
   "metadata": {
    "execution": {
     "iopub.execute_input": "2023-01-18T05:21:58.504152Z",
     "iopub.status.busy": "2023-01-18T05:21:58.503789Z",
     "iopub.status.idle": "2023-01-18T05:21:58.508714Z",
     "shell.execute_reply": "2023-01-18T05:21:58.507582Z"
    },
    "papermill": {
     "duration": 0.014443,
     "end_time": "2023-01-18T05:21:58.511194",
     "exception": false,
     "start_time": "2023-01-18T05:21:58.496751",
     "status": "completed"
    },
    "tags": []
   },
   "outputs": [],
   "source": [
    "# Uncomment to see a hint\n",
    "#q3.hint()\n",
    "\n",
    "# Uncomment to view the solution\n",
    "#q3.solution()"
   ]
  },
  {
   "cell_type": "markdown",
   "id": "c6daba80",
   "metadata": {
    "papermill": {
     "duration": 0.005681,
     "end_time": "2023-01-18T05:21:58.522909",
     "exception": false,
     "start_time": "2023-01-18T05:21:58.517228",
     "status": "completed"
    },
    "tags": []
   },
   "source": [
    "# Question 4\n",
    "\n",
    "Use the `get_cost()` function you defined in Question 3 to calculate the cost of applying one coat of paint to a room with:\n",
    "- 432 square feet of walls, and\n",
    "- 144 square feet of ceiling.\n",
    "\n",
    "Assume that one gallon of paint covers 400 square feet and costs $15.  As in Question 3, assume you can buy partial gallons of paint.  Do not round your answer."
   ]
  },
  {
   "cell_type": "code",
   "execution_count": 8,
   "id": "c6c85295",
   "metadata": {
    "execution": {
     "iopub.execute_input": "2023-01-18T05:21:58.536347Z",
     "iopub.status.busy": "2023-01-18T05:21:58.535957Z",
     "iopub.status.idle": "2023-01-18T05:21:58.545176Z",
     "shell.execute_reply": "2023-01-18T05:21:58.543829Z"
    },
    "papermill": {
     "duration": 0.01882,
     "end_time": "2023-01-18T05:21:58.547725",
     "exception": false,
     "start_time": "2023-01-18T05:21:58.528905",
     "status": "completed"
    },
    "tags": []
   },
   "outputs": [
    {
     "data": {
      "application/javascript": [
       "parent.postMessage({\"jupyterEvent\": \"custom.exercise_interaction\", \"data\": {\"outcomeType\": 4, \"interactionType\": 1, \"questionType\": 1, \"questionId\": \"4_GetCostPaintExample\", \"learnToolsVersion\": \"0.3.4\", \"valueTowardsCompletion\": 0.0, \"failureMessage\": \"\", \"exceptionClass\": \"\", \"trace\": \"\"}}, \"*\")"
      ],
      "text/plain": [
       "<IPython.core.display.Javascript object>"
      ]
     },
     "metadata": {},
     "output_type": "display_data"
    },
    {
     "data": {
      "text/markdown": [
       "<span style=\"color:#ccaa33\">Check:</span> When you've updated the starter code, `check()` will tell you whether your code is correct. You need to update the code that creates variable `project_cost`"
      ],
      "text/plain": [
       "Check: When you've updated the starter code, `check()` will tell you whether your code is correct. You need to update the code that creates variable `project_cost`"
      ]
     },
     "metadata": {},
     "output_type": "display_data"
    }
   ],
   "source": [
    "# TODO: Set the project_cost variable to the cost of the project\n",
    "project_cost = ____\n",
    "\n",
    "# Check your answer\n",
    "q4.check()"
   ]
  },
  {
   "cell_type": "code",
   "execution_count": 9,
   "id": "6cfe4b5c",
   "metadata": {
    "execution": {
     "iopub.execute_input": "2023-01-18T05:21:58.562660Z",
     "iopub.status.busy": "2023-01-18T05:21:58.562239Z",
     "iopub.status.idle": "2023-01-18T05:21:58.566214Z",
     "shell.execute_reply": "2023-01-18T05:21:58.565330Z"
    },
    "papermill": {
     "duration": 0.014318,
     "end_time": "2023-01-18T05:21:58.568492",
     "exception": false,
     "start_time": "2023-01-18T05:21:58.554174",
     "status": "completed"
    },
    "tags": []
   },
   "outputs": [],
   "source": [
    "# Uncomment to see a hint\n",
    "#q4.hint()\n",
    "\n",
    "# Uncomment to view the solution\n",
    "#q4.solution()"
   ]
  },
  {
   "cell_type": "markdown",
   "id": "906e67a7",
   "metadata": {
    "papermill": {
     "duration": 0.005842,
     "end_time": "2023-01-18T05:21:58.580726",
     "exception": false,
     "start_time": "2023-01-18T05:21:58.574884",
     "status": "completed"
    },
    "tags": []
   },
   "source": [
    "# 🌶️ Question 5\n",
    "\n",
    "Now say you can no longer buy fractions of a gallon.  (For instance, if you need 4.3 gallons to do a project, then you have to buy 5 gallons of paint.)\n",
    "\n",
    "With this new scenario, you will create a new function `get_actual_cost` that uses the same inputs and calculates the cost of your project.\n",
    "\n",
    "One function that you'll need to use to do this is `math.ceil()`.  We demonstrate usage of this function in the code cell below.  It takes as a number as input and rounds the number up to the nearest integer.  \n",
    "\n",
    "Run the next code cell to test this function for yourself.  Feel free to change the value of `test_value` and make sure `math.ceil()` returns the number you expect."
   ]
  },
  {
   "cell_type": "code",
   "execution_count": 10,
   "id": "67612e98",
   "metadata": {
    "execution": {
     "iopub.execute_input": "2023-01-18T05:21:58.594803Z",
     "iopub.status.busy": "2023-01-18T05:21:58.594454Z",
     "iopub.status.idle": "2023-01-18T05:21:58.600434Z",
     "shell.execute_reply": "2023-01-18T05:21:58.598626Z"
    },
    "papermill": {
     "duration": 0.015872,
     "end_time": "2023-01-18T05:21:58.602632",
     "exception": false,
     "start_time": "2023-01-18T05:21:58.586760",
     "status": "completed"
    },
    "tags": []
   },
   "outputs": [
    {
     "name": "stdout",
     "output_type": "stream",
     "text": [
      "3\n"
     ]
    }
   ],
   "source": [
    "test_value = 2.17\n",
    "\n",
    "rounded_value = math.ceil(test_value)\n",
    "print(rounded_value)"
   ]
  },
  {
   "cell_type": "markdown",
   "id": "35dd7be9",
   "metadata": {
    "papermill": {
     "duration": 0.005774,
     "end_time": "2023-01-18T05:21:58.615253",
     "exception": false,
     "start_time": "2023-01-18T05:21:58.609479",
     "status": "completed"
    },
    "tags": []
   },
   "source": [
    "Use the next code cell to define the function `get_actual_cost()`.  You'll need to use the `math.ceil()` function to do this.\n",
    "\n",
    "When answering this question, note that it's completely valid to define a function that makes use of another function.  For instance, we can define a function `round_up_and_divide_by_three` that makes use of the `math.ceil` function:\n",
    "```\n",
    "def round_up_and_divide_by_three(num):\n",
    "    new_value = math.ceil(num)\n",
    "    final_value = new_value / 3\n",
    "    return final_value\n",
    "```"
   ]
  },
  {
   "cell_type": "code",
   "execution_count": 11,
   "id": "350ec960",
   "metadata": {
    "execution": {
     "iopub.execute_input": "2023-01-18T05:21:58.629596Z",
     "iopub.status.busy": "2023-01-18T05:21:58.629228Z",
     "iopub.status.idle": "2023-01-18T05:21:58.637541Z",
     "shell.execute_reply": "2023-01-18T05:21:58.636136Z"
    },
    "papermill": {
     "duration": 0.017875,
     "end_time": "2023-01-18T05:21:58.639319",
     "exception": false,
     "start_time": "2023-01-18T05:21:58.621444",
     "status": "completed"
    },
    "tags": []
   },
   "outputs": [
    {
     "data": {
      "application/javascript": [
       "parent.postMessage({\"jupyterEvent\": \"custom.exercise_interaction\", \"data\": {\"outcomeType\": 2, \"failureMessage\": \"Expected return value of `30` given `sqft_walls=432`, `sqft_ceiling=144`, `sqft_per_gallon=400`, `cost_per_gallon=15`, but got `<learntools.core.constants.PlaceholderValue object at 0x7f9dc92c0410>` instead.\", \"interactionType\": 1, \"questionType\": 2, \"questionId\": \"5_NoMoreFractions\", \"learnToolsVersion\": \"0.3.4\", \"valueTowardsCompletion\": 0.0, \"exceptionClass\": \"\", \"trace\": \"\"}}, \"*\")"
      ],
      "text/plain": [
       "<IPython.core.display.Javascript object>"
      ]
     },
     "metadata": {},
     "output_type": "display_data"
    },
    {
     "data": {
      "text/markdown": [
       "<span style=\"color:#cc3333\">Incorrect:</span> Expected return value of `30` given `sqft_walls=432`, `sqft_ceiling=144`, `sqft_per_gallon=400`, `cost_per_gallon=15`, but got `<learntools.core.constants.PlaceholderValue object at 0x7f9dc92c0410>` instead."
      ],
      "text/plain": [
       "Incorrect: Expected return value of `30` given `sqft_walls=432`, `sqft_ceiling=144`, `sqft_per_gallon=400`, `cost_per_gallon=15`, but got `<learntools.core.constants.PlaceholderValue object at 0x7f9dc92c0410>` instead."
      ]
     },
     "metadata": {},
     "output_type": "display_data"
    }
   ],
   "source": [
    "def get_actual_cost(sqft_walls, sqft_ceiling, sqft_per_gallon, cost_per_gallon):\n",
    "    cost = ____\n",
    "    return cost\n",
    "\n",
    "# Check your answer\n",
    "q5.check()"
   ]
  },
  {
   "cell_type": "code",
   "execution_count": 12,
   "id": "77b8d518",
   "metadata": {
    "execution": {
     "iopub.execute_input": "2023-01-18T05:21:58.653532Z",
     "iopub.status.busy": "2023-01-18T05:21:58.653203Z",
     "iopub.status.idle": "2023-01-18T05:21:58.658003Z",
     "shell.execute_reply": "2023-01-18T05:21:58.656667Z"
    },
    "papermill": {
     "duration": 0.014784,
     "end_time": "2023-01-18T05:21:58.660485",
     "exception": false,
     "start_time": "2023-01-18T05:21:58.645701",
     "status": "completed"
    },
    "tags": []
   },
   "outputs": [],
   "source": [
    "# Uncomment to see a hint\n",
    "#q5.hint()\n",
    "\n",
    "# Uncomment to view the solution\n",
    "#q5.solution()"
   ]
  },
  {
   "cell_type": "markdown",
   "id": "445ad545",
   "metadata": {
    "papermill": {
     "duration": 0.006339,
     "end_time": "2023-01-18T05:21:58.673762",
     "exception": false,
     "start_time": "2023-01-18T05:21:58.667423",
     "status": "completed"
    },
    "tags": []
   },
   "source": [
    "Once your function is verified as correct, run the next code cell to calculate the updated cost of your project."
   ]
  },
  {
   "cell_type": "code",
   "execution_count": 13,
   "id": "25c766ed",
   "metadata": {
    "execution": {
     "iopub.execute_input": "2023-01-18T05:21:58.688812Z",
     "iopub.status.busy": "2023-01-18T05:21:58.688015Z",
     "iopub.status.idle": "2023-01-18T05:21:58.694518Z",
     "shell.execute_reply": "2023-01-18T05:21:58.693398Z"
    },
    "papermill": {
     "duration": 0.016159,
     "end_time": "2023-01-18T05:21:58.696448",
     "exception": false,
     "start_time": "2023-01-18T05:21:58.680289",
     "status": "completed"
    },
    "tags": []
   },
   "outputs": [
    {
     "data": {
      "text/markdown": [],
      "text/plain": [
       "<learntools.core.constants.PlaceholderValue at 0x7f9dc92c0410>"
      ]
     },
     "execution_count": 13,
     "metadata": {},
     "output_type": "execute_result"
    }
   ],
   "source": [
    "get_actual_cost(432, 144, 400, 15) "
   ]
  },
  {
   "cell_type": "markdown",
   "id": "947c9cb4",
   "metadata": {
    "papermill": {
     "duration": 0.006315,
     "end_time": "2023-01-18T05:21:58.709209",
     "exception": false,
     "start_time": "2023-01-18T05:21:58.702894",
     "status": "completed"
    },
    "tags": []
   },
   "source": [
    "Say you're working with a slightly larger room.  Run the next code cell to calculate the cost of the project."
   ]
  },
  {
   "cell_type": "code",
   "execution_count": 14,
   "id": "73cd4ec6",
   "metadata": {
    "execution": {
     "iopub.execute_input": "2023-01-18T05:21:58.724012Z",
     "iopub.status.busy": "2023-01-18T05:21:58.723581Z",
     "iopub.status.idle": "2023-01-18T05:21:58.730713Z",
     "shell.execute_reply": "2023-01-18T05:21:58.729085Z"
    },
    "papermill": {
     "duration": 0.017164,
     "end_time": "2023-01-18T05:21:58.732900",
     "exception": false,
     "start_time": "2023-01-18T05:21:58.715736",
     "status": "completed"
    },
    "tags": []
   },
   "outputs": [
    {
     "data": {
      "text/markdown": [],
      "text/plain": [
       "<learntools.core.constants.PlaceholderValue at 0x7f9dc92c0410>"
      ]
     },
     "execution_count": 14,
     "metadata": {},
     "output_type": "execute_result"
    }
   ],
   "source": [
    "get_actual_cost(594, 288, 400, 15) "
   ]
  },
  {
   "cell_type": "markdown",
   "id": "9b2bafd6",
   "metadata": {
    "papermill": {
     "duration": 0.006757,
     "end_time": "2023-01-18T05:21:58.746818",
     "exception": false,
     "start_time": "2023-01-18T05:21:58.740061",
     "status": "completed"
    },
    "tags": []
   },
   "source": [
    "# Keep going\n",
    "\n",
    "Continue to learn about **[data types](https://www.kaggle.com/alexisbcook/data-types)**."
   ]
  },
  {
   "cell_type": "markdown",
   "id": "95297c93",
   "metadata": {
    "papermill": {
     "duration": 0.006447,
     "end_time": "2023-01-18T05:21:58.760858",
     "exception": false,
     "start_time": "2023-01-18T05:21:58.754411",
     "status": "completed"
    },
    "tags": []
   },
   "source": [
    "---\n",
    "\n",
    "\n",
    "\n",
    "\n",
    "*Have questions or comments? Visit the [course discussion forum](https://www.kaggle.com/learn/intro-to-programming/discussion) to chat with other learners.*"
   ]
  }
 ],
 "metadata": {
  "kernelspec": {
   "display_name": "Python 3",
   "language": "python",
   "name": "python3"
  },
  "language_info": {
   "codemirror_mode": {
    "name": "ipython",
    "version": 3
   },
   "file_extension": ".py",
   "mimetype": "text/x-python",
   "name": "python",
   "nbconvert_exporter": "python",
   "pygments_lexer": "ipython3",
   "version": "3.7.12"
  },
  "papermill": {
   "default_parameters": {},
   "duration": 10.809374,
   "end_time": "2023-01-18T05:21:59.389224",
   "environment_variables": {},
   "exception": null,
   "input_path": "__notebook__.ipynb",
   "output_path": "__notebook__.ipynb",
   "parameters": {},
   "start_time": "2023-01-18T05:21:48.579850",
   "version": "2.3.4"
  }
 },
 "nbformat": 4,
 "nbformat_minor": 5
}
