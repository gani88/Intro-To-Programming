{
 "cells": [
  {
   "cell_type": "markdown",
   "id": "8a07f228",
   "metadata": {
    "papermill": {
     "duration": 0.006983,
     "end_time": "2023-01-18T05:39:35.655819",
     "exception": false,
     "start_time": "2023-01-18T05:39:35.648836",
     "status": "completed"
    },
    "tags": []
   },
   "source": [
    "**This notebook is an exercise in the [Intro to Programming](https://www.kaggle.com/learn/intro-to-programming) course.  You can reference the tutorial at [this link](https://www.kaggle.com/alexisbcook/functions).**\n",
    "\n",
    "---\n"
   ]
  },
  {
   "cell_type": "markdown",
   "id": "47230724",
   "metadata": {
    "papermill": {
     "duration": 0.005237,
     "end_time": "2023-01-18T05:39:35.667441",
     "exception": false,
     "start_time": "2023-01-18T05:39:35.662204",
     "status": "completed"
    },
    "tags": []
   },
   "source": [
    "In the tutorial, you learned about functions. In this exercise, you'll write some of your own!\n",
    "\n",
    "# Set up the notebook\n",
    "\n",
    "Run the next code cell without changes to set up the notebook."
   ]
  },
  {
   "cell_type": "code",
   "execution_count": 1,
   "id": "7f70c7a6",
   "metadata": {
    "execution": {
     "iopub.execute_input": "2023-01-18T05:39:35.680902Z",
     "iopub.status.busy": "2023-01-18T05:39:35.680308Z",
     "iopub.status.idle": "2023-01-18T05:39:35.725769Z",
     "shell.execute_reply": "2023-01-18T05:39:35.724962Z"
    },
    "papermill": {
     "duration": 0.055326,
     "end_time": "2023-01-18T05:39:35.728272",
     "exception": false,
     "start_time": "2023-01-18T05:39:35.672946",
     "status": "completed"
    },
    "tags": []
   },
   "outputs": [
    {
     "name": "stdout",
     "output_type": "stream",
     "text": [
      "Setup complete.\n"
     ]
    }
   ],
   "source": [
    "# Set up the exercise\n",
    "import math\n",
    "from learntools.core import binder\n",
    "binder.bind(globals())\n",
    "from learntools.intro_to_programming.ex2 import *\n",
    "print('Setup complete.')"
   ]
  },
  {
   "cell_type": "markdown",
   "id": "40e35737",
   "metadata": {
    "papermill": {
     "duration": 0.005206,
     "end_time": "2023-01-18T05:39:35.739238",
     "exception": false,
     "start_time": "2023-01-18T05:39:35.734032",
     "status": "completed"
    },
    "tags": []
   },
   "source": [
    "# Question 1\n",
    "\n",
    "In the [House Prices - Advanced Regression Techniques competition](https://www.kaggle.com/c/house-prices-advanced-regression-techniques/overview), you need to use information like the number of bedrooms and bathrooms to predict the price of a house.  Inspired by this competition, you'll write your own function to do this.\n",
    "\n",
    "In the next code cell, create a function `get_expected_cost()` that has two arguments:\n",
    "- `beds` - number of bedrooms \n",
    "- `baths` - number of bathrooms\n",
    "\n",
    "It should return the expected cost of a house with that number of bedrooms and bathrooms.  Assume that:\n",
    "- the expected cost for a house with 0 bedrooms and 0 bathrooms is `80000`.  \n",
    "- each bedroom adds `30000` to the expected cost\n",
    "- each bathroom adds `10000` to the expected cost.\n",
    "\n",
    "For instance, \n",
    "- a house with 1 bedroom and 1 bathroom has an expected cost of `120000`, and \n",
    "- a house with 2 bedrooms and 1 bathroom has an expected cost of `150000`."
   ]
  },
  {
   "cell_type": "code",
   "execution_count": 2,
   "id": "221320f6",
   "metadata": {
    "execution": {
     "iopub.execute_input": "2023-01-18T05:39:35.751844Z",
     "iopub.status.busy": "2023-01-18T05:39:35.751039Z",
     "iopub.status.idle": "2023-01-18T05:39:35.761178Z",
     "shell.execute_reply": "2023-01-18T05:39:35.760252Z"
    },
    "papermill": {
     "duration": 0.018603,
     "end_time": "2023-01-18T05:39:35.763130",
     "exception": false,
     "start_time": "2023-01-18T05:39:35.744527",
     "status": "completed"
    },
    "tags": []
   },
   "outputs": [
    {
     "data": {
      "application/javascript": [
       "parent.postMessage({\"jupyterEvent\": \"custom.exercise_interaction\", \"data\": {\"outcomeType\": 1, \"valueTowardsCompletion\": 0.2, \"interactionType\": 1, \"questionType\": 2, \"questionId\": \"1_GetExpectedCost\", \"learnToolsVersion\": \"0.3.4\", \"failureMessage\": \"\", \"exceptionClass\": \"\", \"trace\": \"\"}}, \"*\")"
      ],
      "text/plain": [
       "<IPython.core.display.Javascript object>"
      ]
     },
     "metadata": {},
     "output_type": "display_data"
    },
    {
     "data": {
      "text/markdown": [
       "<span style=\"color:#33cc33\">Correct</span>"
      ],
      "text/plain": [
       "Correct"
      ]
     },
     "metadata": {},
     "output_type": "display_data"
    }
   ],
   "source": [
    "# TODO: Complete the function\n",
    "def get_expected_cost(beds, baths):\n",
    "    value = 80000 + (beds * 30000 + baths * 10000)\n",
    "    return value\n",
    "\n",
    "# Check your answer \n",
    "q1.check()"
   ]
  },
  {
   "cell_type": "code",
   "execution_count": 3,
   "id": "5db4ad52",
   "metadata": {
    "execution": {
     "iopub.execute_input": "2023-01-18T05:39:35.776723Z",
     "iopub.status.busy": "2023-01-18T05:39:35.775647Z",
     "iopub.status.idle": "2023-01-18T05:39:35.780227Z",
     "shell.execute_reply": "2023-01-18T05:39:35.779237Z"
    },
    "papermill": {
     "duration": 0.01347,
     "end_time": "2023-01-18T05:39:35.782303",
     "exception": false,
     "start_time": "2023-01-18T05:39:35.768833",
     "status": "completed"
    },
    "tags": []
   },
   "outputs": [],
   "source": [
    "# Uncomment to see a hint\n",
    "#q1.hint()\n",
    "\n",
    "# Uncomment to view the solution\n",
    "#q1.solution()"
   ]
  },
  {
   "cell_type": "markdown",
   "id": "c72ccb18",
   "metadata": {
    "papermill": {
     "duration": 0.005877,
     "end_time": "2023-01-18T05:39:35.794444",
     "exception": false,
     "start_time": "2023-01-18T05:39:35.788567",
     "status": "completed"
    },
    "tags": []
   },
   "source": [
    "# Question 2\n",
    "\n",
    "You are thinking about buying a home and want to get an idea of how much you will spend, based on the number of bedrooms and bathrooms.  You are trying to decide between four different options:\n",
    "- Option 1: house with two bedrooms and three bathrooms\n",
    "- Option 2: house with three bedrooms and two bathrooms\n",
    "- Option 3: house with three bedrooms and three bathrooms\n",
    "- Option 4: house with three bedrooms and four bathrooms\n",
    "\n",
    "Use the `get_expected_cost()` function you defined in question 1 to set `option_1`, `option_2`, `option_3`, and `option_4` to the expected cost of each option."
   ]
  },
  {
   "cell_type": "code",
   "execution_count": 4,
   "id": "ddff7d96",
   "metadata": {
    "execution": {
     "iopub.execute_input": "2023-01-18T05:39:35.809265Z",
     "iopub.status.busy": "2023-01-18T05:39:35.808854Z",
     "iopub.status.idle": "2023-01-18T05:39:35.819784Z",
     "shell.execute_reply": "2023-01-18T05:39:35.818765Z"
    },
    "papermill": {
     "duration": 0.021546,
     "end_time": "2023-01-18T05:39:35.821929",
     "exception": false,
     "start_time": "2023-01-18T05:39:35.800383",
     "status": "completed"
    },
    "tags": []
   },
   "outputs": [
    {
     "name": "stdout",
     "output_type": "stream",
     "text": [
      "170000\n",
      "190000\n",
      "200000\n",
      "210000\n"
     ]
    },
    {
     "data": {
      "application/javascript": [
       "parent.postMessage({\"jupyterEvent\": \"custom.exercise_interaction\", \"data\": {\"outcomeType\": 1, \"valueTowardsCompletion\": 0.2, \"interactionType\": 1, \"questionType\": 1, \"questionId\": \"2_RunGetExpectedCost\", \"learnToolsVersion\": \"0.3.4\", \"failureMessage\": \"\", \"exceptionClass\": \"\", \"trace\": \"\"}}, \"*\")"
      ],
      "text/plain": [
       "<IPython.core.display.Javascript object>"
      ]
     },
     "metadata": {},
     "output_type": "display_data"
    },
    {
     "data": {
      "text/markdown": [
       "<span style=\"color:#33cc33\">Correct</span>"
      ],
      "text/plain": [
       "Correct"
      ]
     },
     "metadata": {},
     "output_type": "display_data"
    }
   ],
   "source": [
    "# TODO: Use the get_expected_cost function to fill in each value\n",
    "option_one = get_expected_cost(2, 3)\n",
    "option_two = get_expected_cost(3, 2)\n",
    "option_three = get_expected_cost(3, 3)\n",
    "option_four = get_expected_cost(3, 4)\n",
    "\n",
    "print(option_one)\n",
    "print(option_two)\n",
    "print(option_three)\n",
    "print(option_four)\n",
    "\n",
    "# Check your answer\n",
    "q2.check()"
   ]
  },
  {
   "cell_type": "code",
   "execution_count": 5,
   "id": "ab0550a7",
   "metadata": {
    "execution": {
     "iopub.execute_input": "2023-01-18T05:39:35.835916Z",
     "iopub.status.busy": "2023-01-18T05:39:35.835508Z",
     "iopub.status.idle": "2023-01-18T05:39:35.840399Z",
     "shell.execute_reply": "2023-01-18T05:39:35.839269Z"
    },
    "papermill": {
     "duration": 0.0144,
     "end_time": "2023-01-18T05:39:35.842540",
     "exception": false,
     "start_time": "2023-01-18T05:39:35.828140",
     "status": "completed"
    },
    "tags": []
   },
   "outputs": [],
   "source": [
    "# Uncomment to see a hint\n",
    "#q2.hint()\n",
    "\n",
    "# Uncomment to view the solution\n",
    "#q2.solution()"
   ]
  },
  {
   "cell_type": "markdown",
   "id": "c932c329",
   "metadata": {
    "papermill": {
     "duration": 0.006022,
     "end_time": "2023-01-18T05:39:35.855039",
     "exception": false,
     "start_time": "2023-01-18T05:39:35.849017",
     "status": "completed"
    },
    "tags": []
   },
   "source": [
    "# Question 3\n",
    "\n",
    "You're a home decorator, and you'd like to use Python to streamline some of your work.  Specifically, you're creating a tool that you intend to use to calculate the cost of painting a room.\n",
    "\n",
    "As a first step, define a function `get_cost()` that takes as input:\n",
    "- `sqft_walls` = total square feet of walls to be painted\n",
    "- `sqft_ceiling` = square feet of ceiling to be painted\n",
    "- `sqft_per_gallon` = number of square feet that you can cover with one gallon of paint\n",
    "- `cost_per_gallon` = cost (in dollars) of one gallon of paint\n",
    "\n",
    "It should return the cost (in dollars) of putting one coat of paint on all walls and the ceiling.  Assume you can buy the exact amount of paint that you need, so you can buy partial gallons (e.g., if you need 7.523 gallons, you can buy that exact amount, instead of needing to buy 8 gallons and waste some paint).  Do not round your answer."
   ]
  },
  {
   "cell_type": "code",
   "execution_count": 6,
   "id": "633684f6",
   "metadata": {
    "execution": {
     "iopub.execute_input": "2023-01-18T05:39:35.869745Z",
     "iopub.status.busy": "2023-01-18T05:39:35.869355Z",
     "iopub.status.idle": "2023-01-18T05:39:35.879014Z",
     "shell.execute_reply": "2023-01-18T05:39:35.877918Z"
    },
    "papermill": {
     "duration": 0.020044,
     "end_time": "2023-01-18T05:39:35.881394",
     "exception": false,
     "start_time": "2023-01-18T05:39:35.861350",
     "status": "completed"
    },
    "tags": []
   },
   "outputs": [
    {
     "data": {
      "application/javascript": [
       "parent.postMessage({\"jupyterEvent\": \"custom.exercise_interaction\", \"data\": {\"outcomeType\": 1, \"valueTowardsCompletion\": 0.2, \"interactionType\": 1, \"questionType\": 2, \"questionId\": \"3_GetCostPaint\", \"learnToolsVersion\": \"0.3.4\", \"failureMessage\": \"\", \"exceptionClass\": \"\", \"trace\": \"\"}}, \"*\")"
      ],
      "text/plain": [
       "<IPython.core.display.Javascript object>"
      ]
     },
     "metadata": {},
     "output_type": "display_data"
    },
    {
     "data": {
      "text/markdown": [
       "<span style=\"color:#33cc33\">Correct</span>"
      ],
      "text/plain": [
       "Correct"
      ]
     },
     "metadata": {},
     "output_type": "display_data"
    }
   ],
   "source": [
    "# TODO: Finish defining the function\n",
    "def get_cost(sqft_walls, sqft_ceiling, sqft_per_gallon, cost_per_gallon):\n",
    "    cost = ((sqft_walls + sqft_ceiling) / sqft_per_gallon) * (cost_per_gallon)\n",
    "    return cost\n",
    "\n",
    "# Check your answer\n",
    "q3.check()"
   ]
  },
  {
   "cell_type": "code",
   "execution_count": 7,
   "id": "f4f35f72",
   "metadata": {
    "execution": {
     "iopub.execute_input": "2023-01-18T05:39:35.896005Z",
     "iopub.status.busy": "2023-01-18T05:39:35.895335Z",
     "iopub.status.idle": "2023-01-18T05:39:35.899284Z",
     "shell.execute_reply": "2023-01-18T05:39:35.898481Z"
    },
    "papermill": {
     "duration": 0.013357,
     "end_time": "2023-01-18T05:39:35.901175",
     "exception": false,
     "start_time": "2023-01-18T05:39:35.887818",
     "status": "completed"
    },
    "tags": []
   },
   "outputs": [],
   "source": [
    "# Uncomment to see a hint\n",
    "#q3.hint()\n",
    "\n",
    "# Uncomment to view the solution\n",
    "#q3.solution()"
   ]
  },
  {
   "cell_type": "markdown",
   "id": "d09e534f",
   "metadata": {
    "papermill": {
     "duration": 0.006252,
     "end_time": "2023-01-18T05:39:35.913824",
     "exception": false,
     "start_time": "2023-01-18T05:39:35.907572",
     "status": "completed"
    },
    "tags": []
   },
   "source": [
    "# Question 4\n",
    "\n",
    "Use the `get_cost()` function you defined in Question 3 to calculate the cost of applying one coat of paint to a room with:\n",
    "- 432 square feet of walls, and\n",
    "- 144 square feet of ceiling.\n",
    "\n",
    "Assume that one gallon of paint covers 400 square feet and costs $15.  As in Question 3, assume you can buy partial gallons of paint.  Do not round your answer."
   ]
  },
  {
   "cell_type": "code",
   "execution_count": 8,
   "id": "2526e22e",
   "metadata": {
    "execution": {
     "iopub.execute_input": "2023-01-18T05:39:35.928293Z",
     "iopub.status.busy": "2023-01-18T05:39:35.927913Z",
     "iopub.status.idle": "2023-01-18T05:39:35.935396Z",
     "shell.execute_reply": "2023-01-18T05:39:35.934614Z"
    },
    "papermill": {
     "duration": 0.017079,
     "end_time": "2023-01-18T05:39:35.937311",
     "exception": false,
     "start_time": "2023-01-18T05:39:35.920232",
     "status": "completed"
    },
    "tags": []
   },
   "outputs": [
    {
     "data": {
      "application/javascript": [
       "parent.postMessage({\"jupyterEvent\": \"custom.exercise_interaction\", \"data\": {\"outcomeType\": 1, \"valueTowardsCompletion\": 0.2, \"interactionType\": 1, \"questionType\": 1, \"questionId\": \"4_GetCostPaintExample\", \"learnToolsVersion\": \"0.3.4\", \"failureMessage\": \"\", \"exceptionClass\": \"\", \"trace\": \"\"}}, \"*\")"
      ],
      "text/plain": [
       "<IPython.core.display.Javascript object>"
      ]
     },
     "metadata": {},
     "output_type": "display_data"
    },
    {
     "data": {
      "text/markdown": [
       "<span style=\"color:#33cc33\">Correct</span>"
      ],
      "text/plain": [
       "Correct"
      ]
     },
     "metadata": {},
     "output_type": "display_data"
    }
   ],
   "source": [
    "# TODO: Set the project_cost variable to the cost of the project\n",
    "project_cost = get_cost(432, 144, 400, 15)\n",
    "\n",
    "# Check your answer\n",
    "q4.check()"
   ]
  },
  {
   "cell_type": "code",
   "execution_count": 9,
   "id": "ef5dc83d",
   "metadata": {
    "execution": {
     "iopub.execute_input": "2023-01-18T05:39:35.952237Z",
     "iopub.status.busy": "2023-01-18T05:39:35.951813Z",
     "iopub.status.idle": "2023-01-18T05:39:35.956499Z",
     "shell.execute_reply": "2023-01-18T05:39:35.955442Z"
    },
    "papermill": {
     "duration": 0.014518,
     "end_time": "2023-01-18T05:39:35.958537",
     "exception": false,
     "start_time": "2023-01-18T05:39:35.944019",
     "status": "completed"
    },
    "tags": []
   },
   "outputs": [],
   "source": [
    "# Uncomment to see a hint\n",
    "#q4.hint()\n",
    "\n",
    "# Uncomment to view the solution\n",
    "#q4.solution()"
   ]
  },
  {
   "cell_type": "markdown",
   "id": "e69aaee3",
   "metadata": {
    "papermill": {
     "duration": 0.006902,
     "end_time": "2023-01-18T05:39:35.972151",
     "exception": false,
     "start_time": "2023-01-18T05:39:35.965249",
     "status": "completed"
    },
    "tags": []
   },
   "source": [
    "# 🌶️ Question 5\n",
    "\n",
    "Now say you can no longer buy fractions of a gallon.  (For instance, if you need 4.3 gallons to do a project, then you have to buy 5 gallons of paint.)\n",
    "\n",
    "With this new scenario, you will create a new function `get_actual_cost` that uses the same inputs and calculates the cost of your project.\n",
    "\n",
    "One function that you'll need to use to do this is `math.ceil()`.  We demonstrate usage of this function in the code cell below.  It takes as a number as input and rounds the number up to the nearest integer.  \n",
    "\n",
    "Run the next code cell to test this function for yourself.  Feel free to change the value of `test_value` and make sure `math.ceil()` returns the number you expect."
   ]
  },
  {
   "cell_type": "code",
   "execution_count": 10,
   "id": "1f0310b4",
   "metadata": {
    "execution": {
     "iopub.execute_input": "2023-01-18T05:39:35.986925Z",
     "iopub.status.busy": "2023-01-18T05:39:35.986510Z",
     "iopub.status.idle": "2023-01-18T05:39:35.992062Z",
     "shell.execute_reply": "2023-01-18T05:39:35.991114Z"
    },
    "papermill": {
     "duration": 0.015265,
     "end_time": "2023-01-18T05:39:35.994034",
     "exception": false,
     "start_time": "2023-01-18T05:39:35.978769",
     "status": "completed"
    },
    "tags": []
   },
   "outputs": [
    {
     "name": "stdout",
     "output_type": "stream",
     "text": [
      "3\n"
     ]
    }
   ],
   "source": [
    "test_value = 2.17\n",
    "\n",
    "rounded_value = math.ceil(test_value)\n",
    "print(rounded_value)"
   ]
  },
  {
   "cell_type": "markdown",
   "id": "6544fb88",
   "metadata": {
    "papermill": {
     "duration": 0.006448,
     "end_time": "2023-01-18T05:39:36.007081",
     "exception": false,
     "start_time": "2023-01-18T05:39:36.000633",
     "status": "completed"
    },
    "tags": []
   },
   "source": [
    "Use the next code cell to define the function `get_actual_cost()`.  You'll need to use the `math.ceil()` function to do this.\n",
    "\n",
    "When answering this question, note that it's completely valid to define a function that makes use of another function.  For instance, we can define a function `round_up_and_divide_by_three` that makes use of the `math.ceil` function:\n",
    "```\n",
    "def round_up_and_divide_by_three(num):\n",
    "    new_value = math.ceil(num)\n",
    "    final_value = new_value / 3\n",
    "    return final_value\n",
    "```"
   ]
  },
  {
   "cell_type": "code",
   "execution_count": 11,
   "id": "33b5d2e6",
   "metadata": {
    "execution": {
     "iopub.execute_input": "2023-01-18T05:39:36.021845Z",
     "iopub.status.busy": "2023-01-18T05:39:36.021502Z",
     "iopub.status.idle": "2023-01-18T05:39:36.029075Z",
     "shell.execute_reply": "2023-01-18T05:39:36.028376Z"
    },
    "papermill": {
     "duration": 0.017257,
     "end_time": "2023-01-18T05:39:36.030900",
     "exception": false,
     "start_time": "2023-01-18T05:39:36.013643",
     "status": "completed"
    },
    "tags": []
   },
   "outputs": [
    {
     "data": {
      "application/javascript": [
       "parent.postMessage({\"jupyterEvent\": \"custom.exercise_interaction\", \"data\": {\"outcomeType\": 1, \"valueTowardsCompletion\": 0.2, \"interactionType\": 1, \"questionType\": 2, \"questionId\": \"5_NoMoreFractions\", \"learnToolsVersion\": \"0.3.4\", \"failureMessage\": \"\", \"exceptionClass\": \"\", \"trace\": \"\"}}, \"*\")"
      ],
      "text/plain": [
       "<IPython.core.display.Javascript object>"
      ]
     },
     "metadata": {},
     "output_type": "display_data"
    },
    {
     "data": {
      "text/markdown": [
       "<span style=\"color:#33cc33\">Correct</span>"
      ],
      "text/plain": [
       "Correct"
      ]
     },
     "metadata": {},
     "output_type": "display_data"
    }
   ],
   "source": [
    "def get_actual_cost(sqft_walls, sqft_ceiling, sqft_per_gallon, cost_per_gallon):\n",
    "    cost = math.ceil(((sqft_walls + sqft_ceiling) / sqft_per_gallon)) * (cost_per_gallon)\n",
    "    return cost\n",
    "\n",
    "# Check your answer\n",
    "q5.check()"
   ]
  },
  {
   "cell_type": "code",
   "execution_count": 12,
   "id": "dab5410c",
   "metadata": {
    "execution": {
     "iopub.execute_input": "2023-01-18T05:39:36.046238Z",
     "iopub.status.busy": "2023-01-18T05:39:36.045862Z",
     "iopub.status.idle": "2023-01-18T05:39:36.049489Z",
     "shell.execute_reply": "2023-01-18T05:39:36.048705Z"
    },
    "papermill": {
     "duration": 0.013544,
     "end_time": "2023-01-18T05:39:36.051295",
     "exception": false,
     "start_time": "2023-01-18T05:39:36.037751",
     "status": "completed"
    },
    "tags": []
   },
   "outputs": [],
   "source": [
    "# Uncomment to see a hint\n",
    "#q5.hint()\n",
    "\n",
    "# Uncomment to view the solution\n",
    "#q5.solution()"
   ]
  },
  {
   "cell_type": "markdown",
   "id": "c886d659",
   "metadata": {
    "papermill": {
     "duration": 0.006763,
     "end_time": "2023-01-18T05:39:36.065136",
     "exception": false,
     "start_time": "2023-01-18T05:39:36.058373",
     "status": "completed"
    },
    "tags": []
   },
   "source": [
    "Once your function is verified as correct, run the next code cell to calculate the updated cost of your project."
   ]
  },
  {
   "cell_type": "code",
   "execution_count": 13,
   "id": "b3027628",
   "metadata": {
    "execution": {
     "iopub.execute_input": "2023-01-18T05:39:36.081147Z",
     "iopub.status.busy": "2023-01-18T05:39:36.080450Z",
     "iopub.status.idle": "2023-01-18T05:39:36.086892Z",
     "shell.execute_reply": "2023-01-18T05:39:36.085940Z"
    },
    "papermill": {
     "duration": 0.016817,
     "end_time": "2023-01-18T05:39:36.089048",
     "exception": false,
     "start_time": "2023-01-18T05:39:36.072231",
     "status": "completed"
    },
    "tags": []
   },
   "outputs": [
    {
     "data": {
      "text/plain": [
       "30"
      ]
     },
     "execution_count": 13,
     "metadata": {},
     "output_type": "execute_result"
    }
   ],
   "source": [
    "get_actual_cost(432, 144, 400, 15) "
   ]
  },
  {
   "cell_type": "markdown",
   "id": "92a7aab4",
   "metadata": {
    "papermill": {
     "duration": 0.006991,
     "end_time": "2023-01-18T05:39:36.103173",
     "exception": false,
     "start_time": "2023-01-18T05:39:36.096182",
     "status": "completed"
    },
    "tags": []
   },
   "source": [
    "Say you're working with a slightly larger room.  Run the next code cell to calculate the cost of the project."
   ]
  },
  {
   "cell_type": "code",
   "execution_count": 14,
   "id": "b522e7b6",
   "metadata": {
    "execution": {
     "iopub.execute_input": "2023-01-18T05:39:36.119681Z",
     "iopub.status.busy": "2023-01-18T05:39:36.118933Z",
     "iopub.status.idle": "2023-01-18T05:39:36.125873Z",
     "shell.execute_reply": "2023-01-18T05:39:36.124783Z"
    },
    "papermill": {
     "duration": 0.017683,
     "end_time": "2023-01-18T05:39:36.127929",
     "exception": false,
     "start_time": "2023-01-18T05:39:36.110246",
     "status": "completed"
    },
    "tags": []
   },
   "outputs": [
    {
     "data": {
      "text/plain": [
       "45"
      ]
     },
     "execution_count": 14,
     "metadata": {},
     "output_type": "execute_result"
    }
   ],
   "source": [
    "get_actual_cost(594, 288, 400, 15) "
   ]
  },
  {
   "cell_type": "markdown",
   "id": "68a3dc8c",
   "metadata": {
    "papermill": {
     "duration": 0.007081,
     "end_time": "2023-01-18T05:39:36.142232",
     "exception": false,
     "start_time": "2023-01-18T05:39:36.135151",
     "status": "completed"
    },
    "tags": []
   },
   "source": [
    "# Keep going\n",
    "\n",
    "Continue to learn about **[data types](https://www.kaggle.com/alexisbcook/data-types)**."
   ]
  },
  {
   "cell_type": "markdown",
   "id": "617a59a5",
   "metadata": {
    "papermill": {
     "duration": 0.006809,
     "end_time": "2023-01-18T05:39:36.156153",
     "exception": false,
     "start_time": "2023-01-18T05:39:36.149344",
     "status": "completed"
    },
    "tags": []
   },
   "source": [
    "---\n",
    "\n",
    "\n",
    "\n",
    "\n",
    "*Have questions or comments? Visit the [course discussion forum](https://www.kaggle.com/learn/intro-to-programming/discussion) to chat with other learners.*"
   ]
  }
 ],
 "metadata": {
  "kernelspec": {
   "display_name": "Python 3",
   "language": "python",
   "name": "python3"
  },
  "language_info": {
   "codemirror_mode": {
    "name": "ipython",
    "version": 3
   },
   "file_extension": ".py",
   "mimetype": "text/x-python",
   "name": "python",
   "nbconvert_exporter": "python",
   "pygments_lexer": "ipython3",
   "version": "3.7.12"
  },
  "papermill": {
   "default_parameters": {},
   "duration": 9.432656,
   "end_time": "2023-01-18T05:39:36.783589",
   "environment_variables": {},
   "exception": null,
   "input_path": "__notebook__.ipynb",
   "output_path": "__notebook__.ipynb",
   "parameters": {},
   "start_time": "2023-01-18T05:39:27.350933",
   "version": "2.3.4"
  }
 },
 "nbformat": 4,
 "nbformat_minor": 5
}
